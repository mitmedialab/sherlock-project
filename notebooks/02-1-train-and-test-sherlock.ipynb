{
 "cells": [
  {
   "cell_type": "markdown",
   "metadata": {},
   "source": [
    "# This notebook enables training and testing of Sherlock.\n",
    "The procedure is:\n",
    "- Load train, val, test datasets (should be preprocessed)\n",
    "- Initialize model using the \"pretrained\" model or by training one from scratch.\n",
    "- Evaluate and analyse the model predictions."
   ]
  },
  {
   "cell_type": "code",
   "execution_count": 1,
   "metadata": {
    "scrolled": true
   },
   "outputs": [],
   "source": [
    "%load_ext autoreload\n",
    "%autoreload 2"
   ]
  },
  {
   "cell_type": "code",
   "execution_count": 2,
   "metadata": {},
   "outputs": [],
   "source": [
    "# This will be the ID for the retrained model,\n",
    "#further down predictions can also be made with the original model: \"sherlock\"\n",
    "model_id = 'retrained_sherlock'"
   ]
  },
  {
   "cell_type": "code",
   "execution_count": 23,
   "metadata": {},
   "outputs": [],
   "source": [
    "from ast import literal_eval\n",
    "from collections import Counter\n",
    "from datetime import datetime\n",
    "\n",
    "import numpy as np\n",
    "import pandas as pd\n",
    "\n",
    "from sklearn.metrics import f1_score, classification_report\n",
    "\n",
    "from sherlock.deploy.model import SherlockModel"
   ]
  },
  {
   "cell_type": "markdown",
   "metadata": {},
   "source": [
    "## Load datasets for training, validation, testing"
   ]
  },
  {
   "cell_type": "code",
   "execution_count": 4,
   "metadata": {},
   "outputs": [
    {
     "name": "stdout",
     "output_type": "stream",
     "text": [
      "Started at 2022-02-21 13:49:29.901066\n",
      "Load data (train) process took 0:00:07.129129 seconds.\n"
     ]
    }
   ],
   "source": [
    "start = datetime.now()\n",
    "print(f'Started at {start}')\n",
    "\n",
    "X_train = pd.read_parquet('../data/data/processed/train.parquet')\n",
    "y_train = pd.read_parquet('../data/data/raw/train_labels.parquet').values.flatten()\n",
    "\n",
    "y_train = np.array([x.lower() for x in y_train])\n",
    "\n",
    "print(f'Load data (train) process took {datetime.now() - start} seconds.')"
   ]
  },
  {
   "cell_type": "code",
   "execution_count": 5,
   "metadata": {},
   "outputs": [
    {
     "name": "stdout",
     "output_type": "stream",
     "text": [
      "Distinct types for columns in the Dataframe (should be all float32):\n",
      "{dtype('float32')}\n"
     ]
    }
   ],
   "source": [
    "print('Distinct types for columns in the Dataframe (should be all float32):')\n",
    "print(set(X_train.dtypes))"
   ]
  },
  {
   "cell_type": "code",
   "execution_count": 6,
   "metadata": {},
   "outputs": [
    {
     "name": "stdout",
     "output_type": "stream",
     "text": [
      "Started at 2022-02-21 13:49:37.357866\n",
      "Load data (validation) process took 0:00:01.622250 seconds.\n"
     ]
    }
   ],
   "source": [
    "start = datetime.now()\n",
    "print(f'Started at {start}')\n",
    "\n",
    "X_validation = pd.read_parquet('../data/data/processed/validation.parquet')\n",
    "y_validation = pd.read_parquet('../data/data/raw/val_labels.parquet').values.flatten()\n",
    "\n",
    "y_validation = np.array([x.lower() for x in y_validation])\n",
    "\n",
    "print(f'Load data (validation) process took {datetime.now() - start} seconds.')"
   ]
  },
  {
   "cell_type": "code",
   "execution_count": 7,
   "metadata": {},
   "outputs": [
    {
     "name": "stdout",
     "output_type": "stream",
     "text": [
      "Started at 2022-02-21 13:49:39.041588\n",
      "Finished at 2022-02-21 13:49:41.373401, took 0:00:02.331826 seconds\n"
     ]
    }
   ],
   "source": [
    "start = datetime.now()\n",
    "print(f'Started at {start}')\n",
    "\n",
    "X_test = pd.read_parquet('../data/data/processed/test.parquet')\n",
    "y_test = pd.read_parquet('../data/data/raw/test_labels.parquet').values.flatten()\n",
    "\n",
    "y_test = np.array([x.lower() for x in y_test])\n",
    "\n",
    "print(f'Finished at {datetime.now()}, took {datetime.now() - start} seconds')"
   ]
  },
  {
   "cell_type": "markdown",
   "metadata": {},
   "source": [
    "## Initialize the model\n",
    "Two options:\n",
    "- Load Sherlock model with pretrained weights\n",
    "- Fit Sherlock model from scratch"
   ]
  },
  {
   "cell_type": "markdown",
   "metadata": {},
   "source": [
    "### Option 1: load Sherlock with pretrained weights"
   ]
  },
  {
   "cell_type": "code",
   "execution_count": 14,
   "metadata": {
    "scrolled": true
   },
   "outputs": [
    {
     "name": "stdout",
     "output_type": "stream",
     "text": [
      "Started at 2022-02-21 14:05:25.056032\n",
      "Initialized model.\n",
      "Finished at 2022-02-21 14:05:25.937041, took 0:00:00.881019 seconds\n"
     ]
    }
   ],
   "source": [
    "start = datetime.now()\n",
    "print(f'Started at {start}')\n",
    "\n",
    "model = SherlockModel();\n",
    "model.initialize_model_from_json(with_weights=True, model_id=\"sherlock\");\n",
    "\n",
    "print('Initialized model.')\n",
    "print(f'Finished at {datetime.now()}, took {datetime.now() - start} seconds')"
   ]
  },
  {
   "cell_type": "markdown",
   "metadata": {},
   "source": [
    "### Option 2: fit Sherlock from scratch (and save for later use)"
   ]
  },
  {
   "cell_type": "code",
   "execution_count": 25,
   "metadata": {},
   "outputs": [],
   "source": [
    "model_id = \"retrained_sherlock\""
   ]
  },
  {
   "cell_type": "code",
   "execution_count": 26,
   "metadata": {
    "scrolled": true
   },
   "outputs": [
    {
     "name": "stdout",
     "output_type": "stream",
     "text": [
      "Started at 2022-02-21 11:26:21.704064\n",
      "Train on 412059 samples, validate on 137353 samples\n",
      "Epoch 1/100\n",
      "412059/412059 [==============================] - 70s 170us/sample - loss: 1.6072 - categorical_accuracy: 0.6988 - val_loss: 1.0404 - val_categorical_accuracy: 0.8266\n",
      "Epoch 2/100\n",
      "412059/412059 [==============================] - 67s 163us/sample - loss: 0.9624 - categorical_accuracy: 0.8364 - val_loss: 0.9520 - val_categorical_accuracy: 0.8498\n",
      "Epoch 3/100\n",
      "412059/412059 [==============================] - 65s 159us/sample - loss: 0.8501 - categorical_accuracy: 0.8590 - val_loss: 0.8929 - val_categorical_accuracy: 0.8579\n",
      "Epoch 4/100\n",
      "412059/412059 [==============================] - 66s 159us/sample - loss: 0.7858 - categorical_accuracy: 0.8718 - val_loss: 0.8561 - val_categorical_accuracy: 0.8645\n",
      "Epoch 5/100\n",
      "412059/412059 [==============================] - 66s 159us/sample - loss: 0.7399 - categorical_accuracy: 0.8788 - val_loss: 0.8267 - val_categorical_accuracy: 0.8682\n",
      "Epoch 6/100\n",
      "412059/412059 [==============================] - 66s 160us/sample - loss: 0.6976 - categorical_accuracy: 0.8855 - val_loss: 0.8073 - val_categorical_accuracy: 0.8703\n",
      "Epoch 7/100\n",
      "412059/412059 [==============================] - 68s 165us/sample - loss: 0.6674 - categorical_accuracy: 0.8892 - val_loss: 0.7841 - val_categorical_accuracy: 0.8726\n",
      "Epoch 8/100\n",
      "412059/412059 [==============================] - 71s 173us/sample - loss: 0.6381 - categorical_accuracy: 0.8937 - val_loss: 0.7663 - val_categorical_accuracy: 0.8753\n",
      "Epoch 9/100\n",
      "412059/412059 [==============================] - 77s 187us/sample - loss: 0.6152 - categorical_accuracy: 0.8965 - val_loss: 0.7514 - val_categorical_accuracy: 0.8760\n",
      "Epoch 10/100\n",
      "412059/412059 [==============================] - 80s 195us/sample - loss: 0.5921 - categorical_accuracy: 0.9001 - val_loss: 0.7471 - val_categorical_accuracy: 0.8779\n",
      "Epoch 11/100\n",
      "412059/412059 [==============================] - 78s 190us/sample - loss: 0.5713 - categorical_accuracy: 0.9031 - val_loss: 0.7266 - val_categorical_accuracy: 0.8799\n",
      "Epoch 12/100\n",
      "412059/412059 [==============================] - 71s 171us/sample - loss: 0.5537 - categorical_accuracy: 0.9051 - val_loss: 0.7146 - val_categorical_accuracy: 0.8812\n",
      "Epoch 13/100\n",
      "412059/412059 [==============================] - 76s 184us/sample - loss: 0.5372 - categorical_accuracy: 0.9073 - val_loss: 0.7075 - val_categorical_accuracy: 0.8824\n",
      "Epoch 14/100\n",
      "412059/412059 [==============================] - 72s 175us/sample - loss: 0.5213 - categorical_accuracy: 0.9092 - val_loss: 0.7004 - val_categorical_accuracy: 0.8830\n",
      "Epoch 15/100\n",
      "412059/412059 [==============================] - 71s 173us/sample - loss: 0.5080 - categorical_accuracy: 0.9107 - val_loss: 0.6898 - val_categorical_accuracy: 0.8830\n",
      "Epoch 16/100\n",
      "412059/412059 [==============================] - 74s 180us/sample - loss: 0.4934 - categorical_accuracy: 0.9131 - val_loss: 0.6923 - val_categorical_accuracy: 0.8844\n",
      "Epoch 17/100\n",
      "412059/412059 [==============================] - 73s 177us/sample - loss: 0.4804 - categorical_accuracy: 0.9148 - val_loss: 0.6735 - val_categorical_accuracy: 0.8835\n",
      "Epoch 18/100\n",
      "412059/412059 [==============================] - 76s 183us/sample - loss: 0.4709 - categorical_accuracy: 0.9156 - val_loss: 0.6644 - val_categorical_accuracy: 0.8862\n",
      "Epoch 19/100\n",
      "412059/412059 [==============================] - 73s 177us/sample - loss: 0.4605 - categorical_accuracy: 0.9172 - val_loss: 0.6749 - val_categorical_accuracy: 0.8868\n",
      "Epoch 20/100\n",
      "412059/412059 [==============================] - 72s 175us/sample - loss: 0.4495 - categorical_accuracy: 0.9187 - val_loss: 0.6570 - val_categorical_accuracy: 0.8871\n",
      "Epoch 21/100\n",
      "412059/412059 [==============================] - 73s 176us/sample - loss: 0.4405 - categorical_accuracy: 0.9198 - val_loss: 0.6547 - val_categorical_accuracy: 0.8881\n",
      "Epoch 22/100\n",
      "412059/412059 [==============================] - 74s 181us/sample - loss: 0.4319 - categorical_accuracy: 0.9208 - val_loss: 0.6499 - val_categorical_accuracy: 0.8885\n",
      "Epoch 23/100\n",
      "412059/412059 [==============================] - 74s 180us/sample - loss: 0.4245 - categorical_accuracy: 0.9219 - val_loss: 0.6415 - val_categorical_accuracy: 0.8895\n",
      "Epoch 24/100\n",
      "412059/412059 [==============================] - 71s 172us/sample - loss: 0.4176 - categorical_accuracy: 0.9225 - val_loss: 0.6470 - val_categorical_accuracy: 0.8888\n",
      "Epoch 25/100\n",
      "412059/412059 [==============================] - 73s 177us/sample - loss: 0.4091 - categorical_accuracy: 0.9243 - val_loss: 0.6343 - val_categorical_accuracy: 0.8888\n",
      "Epoch 26/100\n",
      "412059/412059 [==============================] - 76s 184us/sample - loss: 0.4009 - categorical_accuracy: 0.9254 - val_loss: 0.6438 - val_categorical_accuracy: 0.8894\n",
      "Epoch 27/100\n",
      "412059/412059 [==============================] - 73s 177us/sample - loss: 0.3960 - categorical_accuracy: 0.9260 - val_loss: 0.6343 - val_categorical_accuracy: 0.8910\n",
      "Epoch 28/100\n",
      "412059/412059 [==============================] - 72s 174us/sample - loss: 0.3895 - categorical_accuracy: 0.9272 - val_loss: 0.6549 - val_categorical_accuracy: 0.8897\n",
      "Epoch 29/100\n",
      "412059/412059 [==============================] - 71s 173us/sample - loss: 0.3846 - categorical_accuracy: 0.9280 - val_loss: 0.6252 - val_categorical_accuracy: 0.8912\n",
      "Epoch 30/100\n",
      "412059/412059 [==============================] - 74s 180us/sample - loss: 0.3791 - categorical_accuracy: 0.9288 - val_loss: 0.6246 - val_categorical_accuracy: 0.8913\n",
      "Epoch 31/100\n",
      "412059/412059 [==============================] - 74s 180us/sample - loss: 0.3743 - categorical_accuracy: 0.9292 - val_loss: 0.6318 - val_categorical_accuracy: 0.8917\n",
      "Epoch 32/100\n",
      "412059/412059 [==============================] - 77s 187us/sample - loss: 0.3697 - categorical_accuracy: 0.9299 - val_loss: 0.6297 - val_categorical_accuracy: 0.8909\n",
      "Epoch 33/100\n",
      "412059/412059 [==============================] - 79s 192us/sample - loss: 0.3649 - categorical_accuracy: 0.9310 - val_loss: 0.6250 - val_categorical_accuracy: 0.8920\n",
      "Epoch 34/100\n",
      "412059/412059 [==============================] - 77s 186us/sample - loss: 0.3609 - categorical_accuracy: 0.9312 - val_loss: 0.6217 - val_categorical_accuracy: 0.8921\n",
      "Epoch 35/100\n",
      "412059/412059 [==============================] - 73s 176us/sample - loss: 0.3570 - categorical_accuracy: 0.9318 - val_loss: 0.6203 - val_categorical_accuracy: 0.8923\n",
      "Epoch 36/100\n",
      "412059/412059 [==============================] - 77s 187us/sample - loss: 0.3525 - categorical_accuracy: 0.9328 - val_loss: 0.6304 - val_categorical_accuracy: 0.8923\n",
      "Epoch 37/100\n",
      "412059/412059 [==============================] - 74s 178us/sample - loss: 0.3496 - categorical_accuracy: 0.9332 - val_loss: 0.6173 - val_categorical_accuracy: 0.8923\n",
      "Epoch 38/100\n",
      "412059/412059 [==============================] - 73s 177us/sample - loss: 0.3464 - categorical_accuracy: 0.9338 - val_loss: 0.6186 - val_categorical_accuracy: 0.8924\n",
      "Epoch 39/100\n",
      "412059/412059 [==============================] - 73s 176us/sample - loss: 0.3435 - categorical_accuracy: 0.9342 - val_loss: 0.6116 - val_categorical_accuracy: 0.8938\n",
      "Epoch 40/100\n",
      "412059/412059 [==============================] - 73s 177us/sample - loss: 0.3414 - categorical_accuracy: 0.9345 - val_loss: 0.6105 - val_categorical_accuracy: 0.8930\n",
      "Epoch 41/100\n",
      "412059/412059 [==============================] - 82s 198us/sample - loss: 0.3386 - categorical_accuracy: 0.9351 - val_loss: 0.6201 - val_categorical_accuracy: 0.8936\n",
      "Epoch 42/100\n",
      "412059/412059 [==============================] - 77s 187us/sample - loss: 0.3342 - categorical_accuracy: 0.9356 - val_loss: 0.6132 - val_categorical_accuracy: 0.8913\n",
      "Epoch 43/100\n",
      "412059/412059 [==============================] - 80s 194us/sample - loss: 0.3318 - categorical_accuracy: 0.9362 - val_loss: 0.6141 - val_categorical_accuracy: 0.8932\n",
      "Epoch 44/100\n",
      "412059/412059 [==============================] - 78s 190us/sample - loss: 0.3295 - categorical_accuracy: 0.9368 - val_loss: 0.6101 - val_categorical_accuracy: 0.8940\n",
      "Epoch 45/100\n",
      "412059/412059 [==============================] - 78s 188us/sample - loss: 0.3270 - categorical_accuracy: 0.9370 - val_loss: 0.6088 - val_categorical_accuracy: 0.8939\n",
      "Epoch 46/100\n",
      "412059/412059 [==============================] - 76s 185us/sample - loss: 0.3252 - categorical_accuracy: 0.9373 - val_loss: 0.6152 - val_categorical_accuracy: 0.8939\n",
      "Epoch 47/100\n",
      "412059/412059 [==============================] - 82s 200us/sample - loss: 0.3237 - categorical_accuracy: 0.9377 - val_loss: 0.6105 - val_categorical_accuracy: 0.8939\n",
      "Epoch 48/100\n",
      "412059/412059 [==============================] - 78s 188us/sample - loss: 0.3217 - categorical_accuracy: 0.9377 - val_loss: 0.6070 - val_categorical_accuracy: 0.8945\n",
      "Epoch 49/100\n",
      "412059/412059 [==============================] - 75s 181us/sample - loss: 0.3187 - categorical_accuracy: 0.9386 - val_loss: 0.6067 - val_categorical_accuracy: 0.8943\n",
      "Epoch 50/100\n",
      "412059/412059 [==============================] - 78s 190us/sample - loss: 0.3184 - categorical_accuracy: 0.9382 - val_loss: 0.6094 - val_categorical_accuracy: 0.8947\n",
      "Epoch 51/100\n",
      "412059/412059 [==============================] - 76s 185us/sample - loss: 0.3155 - categorical_accuracy: 0.9391 - val_loss: 0.6054 - val_categorical_accuracy: 0.8948\n",
      "Epoch 52/100\n",
      "412059/412059 [==============================] - 78s 190us/sample - loss: 0.3143 - categorical_accuracy: 0.9392 - val_loss: 0.6060 - val_categorical_accuracy: 0.8943\n",
      "Epoch 53/100\n",
      "412059/412059 [==============================] - 75s 181us/sample - loss: 0.3105 - categorical_accuracy: 0.9400 - val_loss: 0.6130 - val_categorical_accuracy: 0.8954\n",
      "Epoch 54/100\n",
      "412059/412059 [==============================] - 78s 188us/sample - loss: 0.3109 - categorical_accuracy: 0.9397 - val_loss: 0.6030 - val_categorical_accuracy: 0.8952\n",
      "Epoch 55/100\n",
      "412059/412059 [==============================] - 78s 189us/sample - loss: 0.3091 - categorical_accuracy: 0.9406 - val_loss: 0.6148 - val_categorical_accuracy: 0.8949\n",
      "Epoch 56/100\n",
      "412059/412059 [==============================] - 78s 189us/sample - loss: 0.3076 - categorical_accuracy: 0.9404 - val_loss: 0.6075 - val_categorical_accuracy: 0.8947\n",
      "Epoch 57/100\n",
      "412059/412059 [==============================] - 76s 185us/sample - loss: 0.3056 - categorical_accuracy: 0.9411 - val_loss: 0.6167 - val_categorical_accuracy: 0.8954\n",
      "Epoch 58/100\n",
      "412059/412059 [==============================] - 78s 190us/sample - loss: 0.3033 - categorical_accuracy: 0.9411 - val_loss: 0.6130 - val_categorical_accuracy: 0.8955\n",
      "Epoch 59/100\n",
      "412059/412059 [==============================] - 68s 166us/sample - loss: 0.3041 - categorical_accuracy: 0.9408 - val_loss: 0.6100 - val_categorical_accuracy: 0.8950\n",
      "Trained and saved new model.\n",
      "Finished at 2022-02-21 12:39:29.005837, took 1:13:07.304278 seconds\n"
     ]
    }
   ],
   "source": [
    "start = datetime.now()\n",
    "print(f'Started at {start}')\n",
    "\n",
    "model = SherlockModel()\n",
    "# Model will be stored with ID `model_id`\n",
    "model.fit(X_train, y_train, X_validation, y_validation, model_id=model_id)\n",
    "\n",
    "print('Trained and saved new model.')\n",
    "print(f'Finished at {datetime.now()}, took {datetime.now() - start} seconds')"
   ]
  },
  {
   "cell_type": "code",
   "execution_count": 27,
   "metadata": {},
   "outputs": [],
   "source": [
    "model.store_weights(model_id=model_id)"
   ]
  },
  {
   "cell_type": "code",
   "execution_count": null,
   "metadata": {},
   "outputs": [],
   "source": []
  },
  {
   "cell_type": "markdown",
   "metadata": {},
   "source": [
    "### Make prediction"
   ]
  },
  {
   "cell_type": "code",
   "execution_count": 12,
   "metadata": {},
   "outputs": [],
   "source": [
    "predicted_labels = model.predict(X_test)\n",
    "predicted_labels = np.array([x.lower() for x in predicted_labels])"
   ]
  },
  {
   "cell_type": "code",
   "execution_count": 13,
   "metadata": {},
   "outputs": [
    {
     "name": "stdout",
     "output_type": "stream",
     "text": [
      "prediction count 137353, type = <class 'numpy.ndarray'>\n"
     ]
    },
    {
     "data": {
      "text/plain": [
       "0.8951410029373902"
      ]
     },
     "execution_count": 13,
     "metadata": {},
     "output_type": "execute_result"
    }
   ],
   "source": [
    "print(f'prediction count {len(predicted_labels)}, type = {type(predicted_labels)}')\n",
    "\n",
    "size=len(y_test)\n",
    "\n",
    "# Should be fully deterministic too.\n",
    "f1_score(y_test[:size], predicted_labels[:size], average=\"weighted\")"
   ]
  },
  {
   "cell_type": "code",
   "execution_count": 15,
   "metadata": {},
   "outputs": [],
   "source": [
    "# If using the original model, model_id should be replaced with \"sherlock\"\n",
    "#model_id = \"sherlock\"\n",
    "classes = np.load(f\"../model_files/classes_{model_id}.npy\", allow_pickle=True)\n",
    "\n",
    "report = classification_report(y_test, predicted_labels, output_dict=True)\n",
    "\n",
    "class_scores = list(filter(lambda x: isinstance(x, tuple) and isinstance(x[1], dict) and 'f1-score' in x[1] and x[0] in classes, list(report.items())))\n",
    "\n",
    "class_scores = sorted(class_scores, key=lambda item: item[1]['f1-score'], reverse=True)"
   ]
  },
  {
   "cell_type": "markdown",
   "metadata": {},
   "source": [
    "### Top 5 Types"
   ]
  },
  {
   "cell_type": "code",
   "execution_count": 16,
   "metadata": {},
   "outputs": [
    {
     "name": "stdout",
     "output_type": "stream",
     "text": [
      "\t\tf1-score\tprecision\trecall\t\tsupport\n",
      "grades\t\t0.993\t\t0.993\t\t0.993\t\t1765\n",
      "isbn\t\t0.991\t\t0.993\t\t0.988\t\t1430\n",
      "jockey\t\t0.985\t\t0.982\t\t0.988\t\t2819\n",
      "industry\t0.984\t\t0.983\t\t0.985\t\t2958\n",
      "currency\t0.975\t\t0.982\t\t0.968\t\t405\n"
     ]
    }
   ],
   "source": [
    "print(f\"\\t\\tf1-score\\tprecision\\trecall\\t\\tsupport\")\n",
    "\n",
    "for key, value in class_scores[0:5]:\n",
    "    if len(key) >= 8:\n",
    "        tabs = '\\t' * 1\n",
    "    else:\n",
    "        tabs = '\\t' * 2\n",
    "\n",
    "    print(f\"{key}{tabs}{value['f1-score']:.3f}\\t\\t{value['precision']:.3f}\\t\\t{value['recall']:.3f}\\t\\t{value['support']}\")"
   ]
  },
  {
   "cell_type": "markdown",
   "metadata": {},
   "source": [
    "### Bottom 5 Types"
   ]
  },
  {
   "cell_type": "code",
   "execution_count": 17,
   "metadata": {
    "scrolled": true
   },
   "outputs": [
    {
     "name": "stdout",
     "output_type": "stream",
     "text": [
      "\t\tf1-score\tprecision\trecall\t\tsupport\n",
      "rank\t\t0.693\t\t0.625\t\t0.778\t\t2983\n",
      "person\t\t0.664\t\t0.717\t\t0.618\t\t579\n",
      "director\t0.568\t\t0.591\t\t0.547\t\t225\n",
      "sales\t\t0.556\t\t0.586\t\t0.528\t\t322\n",
      "ranking\t\t0.441\t\t0.753\t\t0.312\t\t439\n"
     ]
    }
   ],
   "source": [
    "print(f\"\\t\\tf1-score\\tprecision\\trecall\\t\\tsupport\")\n",
    "\n",
    "for key, value in class_scores[len(class_scores)-5:len(class_scores)]:\n",
    "    if len(key) >= 8:\n",
    "        tabs = '\\t' * 1\n",
    "    else:\n",
    "        tabs = '\\t' * 2\n",
    "\n",
    "    print(f\"{key}{tabs}{value['f1-score']:.3f}\\t\\t{value['precision']:.3f}\\t\\t{value['recall']:.3f}\\t\\t{value['support']}\")"
   ]
  },
  {
   "cell_type": "markdown",
   "metadata": {},
   "source": [
    "### All Scores"
   ]
  },
  {
   "cell_type": "code",
   "execution_count": 18,
   "metadata": {},
   "outputs": [
    {
     "name": "stdout",
     "output_type": "stream",
     "text": [
      "                precision    recall  f1-score   support\n",
      "\n",
      "       address      0.931     0.943     0.937      3003\n",
      "     affiliate      0.943     0.809     0.871       204\n",
      "   affiliation      0.973     0.957     0.965      1768\n",
      "           age      0.866     0.950     0.906      3033\n",
      "         album      0.892     0.889     0.890      3035\n",
      "          area      0.870     0.820     0.844      1987\n",
      "        artist      0.816     0.873     0.844      3043\n",
      "    birth date      0.985     0.969     0.977       479\n",
      "   birth place      0.934     0.921     0.928       418\n",
      "         brand      0.830     0.671     0.742       574\n",
      "      capacity      0.793     0.721     0.755       362\n",
      "      category      0.924     0.890     0.906      3087\n",
      "          city      0.864     0.904     0.883      2966\n",
      "         class      0.901     0.915     0.908      2971\n",
      "classification      0.927     0.862     0.893       587\n",
      "          club      0.974     0.955     0.964      2977\n",
      "          code      0.916     0.907     0.912      2956\n",
      "    collection      0.984     0.931     0.957       476\n",
      "       command      0.938     0.904     0.921      1045\n",
      "       company      0.912     0.888     0.900      3041\n",
      "     component      0.888     0.880     0.884      1226\n",
      "     continent      0.875     0.894     0.885       227\n",
      "       country      0.892     0.950     0.920      3038\n",
      "        county      0.943     0.957     0.950      2959\n",
      "       creator      0.770     0.841     0.804       347\n",
      "        credit      0.868     0.813     0.840       941\n",
      "      currency      0.982     0.968     0.975       405\n",
      "           day      0.953     0.892     0.921      3038\n",
      "         depth      0.931     0.916     0.923       947\n",
      "   description      0.804     0.869     0.835      3042\n",
      "      director      0.591     0.547     0.568       225\n",
      "      duration      0.924     0.948     0.936      3000\n",
      "     education      0.856     0.818     0.837       313\n",
      "     elevation      0.956     0.946     0.951      1299\n",
      "        family      0.964     0.895     0.928       746\n",
      "     file size      0.941     0.845     0.891       361\n",
      "        format      0.966     0.959     0.963      2956\n",
      "        gender      0.868     0.721     0.788      1030\n",
      "         genre      0.965     0.952     0.958      1163\n",
      "        grades      0.993     0.993     0.993      1765\n",
      "      industry      0.983     0.985     0.984      2958\n",
      "          isbn      0.993     0.988     0.991      1430\n",
      "        jockey      0.982     0.988     0.985      2819\n",
      "      language      0.939     0.953     0.946      1474\n",
      "      location      0.896     0.827     0.861      2949\n",
      "  manufacturer      0.865     0.819     0.841       945\n",
      "          name      0.724     0.759     0.741      3017\n",
      "   nationality      0.907     0.691     0.784       424\n",
      "         notes      0.724     0.842     0.779      2303\n",
      "      operator      0.794     0.847     0.819       404\n",
      "         order      0.869     0.887     0.878      1462\n",
      "  organisation      0.832     0.832     0.832       262\n",
      "        origin      0.947     0.900     0.923      1439\n",
      "         owner      0.931     0.869     0.899      1673\n",
      "        person      0.717     0.618     0.664       579\n",
      "         plays      0.846     0.903     0.873      1513\n",
      "      position      0.806     0.839     0.822      3057\n",
      "       product      0.868     0.878     0.873      2647\n",
      "     publisher      0.888     0.899     0.893       880\n",
      "         range      0.855     0.759     0.804       577\n",
      "          rank      0.625     0.778     0.693      2983\n",
      "       ranking      0.753     0.312     0.441       439\n",
      "        region      0.882     0.810     0.845      2740\n",
      "      religion      0.972     0.921     0.946       340\n",
      "   requirement      0.927     0.807     0.863       300\n",
      "        result      0.962     0.940     0.951      2920\n",
      "         sales      0.586     0.528     0.556       322\n",
      "       service      0.964     0.925     0.944      2222\n",
      "           sex      0.903     0.945     0.924      2997\n",
      "       species      0.921     0.950     0.935       819\n",
      "         state      0.939     0.957     0.948      3030\n",
      "        status      0.943     0.936     0.940      3100\n",
      "        symbol      0.958     0.946     0.952      1752\n",
      "          team      0.850     0.870     0.860      3011\n",
      "     team name      0.893     0.827     0.859      1639\n",
      "          type      0.916     0.875     0.895      2909\n",
      "        weight      0.958     0.931     0.944      2963\n",
      "          year      0.965     0.937     0.951      3015\n",
      "\n",
      "      accuracy                          0.895    137353\n",
      "     macro avg      0.890     0.866     0.876    137353\n",
      "  weighted avg      0.898     0.895     0.895    137353\n",
      "\n"
     ]
    }
   ],
   "source": [
    "print(classification_report(y_test, predicted_labels, digits=3))"
   ]
  },
  {
   "cell_type": "markdown",
   "metadata": {},
   "source": [
    "## Review errors"
   ]
  },
  {
   "cell_type": "code",
   "execution_count": 19,
   "metadata": {},
   "outputs": [
    {
     "name": "stdout",
     "output_type": "stream",
     "text": [
      "[1116] expected \"address\" but predicted \"name\"\n",
      "[1578] expected \"address\" but predicted \"language\"\n",
      "[2420] expected \"address\" but predicted \"club\"\n",
      "[2616] expected \"address\" but predicted \"city\"\n",
      "[3398] expected \"address\" but predicted \"city\"\n",
      "[5112] expected \"address\" but predicted \"location\"\n",
      "[5546] expected \"address\" but predicted \"name\"\n",
      "[6526] expected \"address\" but predicted \"location\"\n",
      "[8797] expected \"address\" but predicted \"location\"\n",
      "[9354] expected \"address\" but predicted \"location\"\n",
      "[9574] expected \"address\" but predicted \"location\"\n",
      "[9806] expected \"address\" but predicted \"city\"\n",
      "[10035] expected \"address\" but predicted \"creator\"\n",
      "[10067] expected \"address\" but predicted \"order\"\n",
      "[10665] expected \"address\" but predicted \"area\"\n",
      "[11055] expected \"address\" but predicted \"county\"\n",
      "[11902] expected \"address\" but predicted \"jockey\"\n",
      "[11993] expected \"address\" but predicted \"location\"\n",
      "[12072] expected \"address\" but predicted \"artist\"\n",
      "[14200] expected \"address\" but predicted \"description\"\n",
      "[14677] expected \"address\" but predicted \"location\"\n",
      "[15232] expected \"address\" but predicted \"city\"\n",
      "[15461] expected \"address\" but predicted \"location\"\n",
      "[15496] expected \"address\" but predicted \"city\"\n",
      "[15987] expected \"address\" but predicted \"artist\"\n",
      "[19953] expected \"address\" but predicted \"county\"\n",
      "[20425] expected \"address\" but predicted \"location\"\n",
      "[20829] expected \"address\" but predicted \"notes\"\n",
      "[21408] expected \"address\" but predicted \"position\"\n",
      "[21666] expected \"address\" but predicted \"area\"\n",
      "[22148] expected \"address\" but predicted \"product\"\n",
      "[23915] expected \"address\" but predicted \"location\"\n",
      "[24636] expected \"address\" but predicted \"team name\"\n",
      "[24803] expected \"address\" but predicted \"position\"\n",
      "[26171] expected \"address\" but predicted \"name\"\n",
      "[26184] expected \"address\" but predicted \"name\"\n",
      "[26210] expected \"address\" but predicted \"name\"\n",
      "[26393] expected \"address\" but predicted \"position\"\n",
      "[26559] expected \"address\" but predicted \"location\"\n",
      "[26872] expected \"address\" but predicted \"command\"\n",
      "[30403] expected \"address\" but predicted \"notes\"\n",
      "[31391] expected \"address\" but predicted \"location\"\n",
      "[31515] expected \"address\" but predicted \"location\"\n",
      "[31830] expected \"address\" but predicted \"result\"\n",
      "[31836] expected \"address\" but predicted \"notes\"\n",
      "[32551] expected \"address\" but predicted \"city\"\n",
      "[32762] expected \"address\" but predicted \"artist\"\n",
      "[33207] expected \"address\" but predicted \"order\"\n",
      "[34547] expected \"address\" but predicted \"location\"\n",
      "[34711] expected \"address\" but predicted \"location\"\n",
      "[35467] expected \"address\" but predicted \"location\"\n",
      "[35938] expected \"address\" but predicted \"notes\"\n",
      "[37084] expected \"address\" but predicted \"person\"\n",
      "[37318] expected \"address\" but predicted \"notes\"\n",
      "[37536] expected \"address\" but predicted \"notes\"\n",
      "[40184] expected \"address\" but predicted \"notes\"\n",
      "[40457] expected \"address\" but predicted \"country\"\n",
      "[42439] expected \"address\" but predicted \"area\"\n",
      "[44530] expected \"address\" but predicted \"artist\"\n",
      "[44906] expected \"address\" but predicted \"location\"\n",
      "[44918] expected \"address\" but predicted \"area\"\n",
      "[44932] expected \"address\" but predicted \"name\"\n",
      "[46430] expected \"address\" but predicted \"birth place\"\n",
      "[46463] expected \"address\" but predicted \"notes\"\n",
      "[47140] expected \"address\" but predicted \"age\"\n",
      "[47249] expected \"address\" but predicted \"notes\"\n",
      "[47713] expected \"address\" but predicted \"city\"\n",
      "[47810] expected \"address\" but predicted \"description\"\n",
      "[48016] expected \"address\" but predicted \"location\"\n",
      "[48631] expected \"address\" but predicted \"location\"\n",
      "[50329] expected \"address\" but predicted \"area\"\n",
      "[51643] expected \"address\" but predicted \"city\"\n",
      "[51887] expected \"address\" but predicted \"location\"\n",
      "[53960] expected \"address\" but predicted \"service\"\n",
      "[54248] expected \"address\" but predicted \"area\"\n",
      "[56030] expected \"address\" but predicted \"code\"\n",
      "[56085] expected \"address\" but predicted \"name\"\n",
      "[56176] expected \"address\" but predicted \"product\"\n",
      "[57015] expected \"address\" but predicted \"location\"\n",
      "[58524] expected \"address\" but predicted \"location\"\n",
      "[58958] expected \"address\" but predicted \"team name\"\n",
      "[59506] expected \"address\" but predicted \"name\"\n",
      "[59734] expected \"address\" but predicted \"language\"\n",
      "[60105] expected \"address\" but predicted \"area\"\n",
      "[60225] expected \"address\" but predicted \"notes\"\n",
      "[60441] expected \"address\" but predicted \"collection\"\n",
      "[60565] expected \"address\" but predicted \"ranking\"\n",
      "[61783] expected \"address\" but predicted \"location\"\n",
      "[61894] expected \"address\" but predicted \"notes\"\n",
      "[66355] expected \"address\" but predicted \"artist\"\n",
      "[67142] expected \"address\" but predicted \"code\"\n",
      "[69794] expected \"address\" but predicted \"city\"\n",
      "[70071] expected \"address\" but predicted \"location\"\n",
      "[71228] expected \"address\" but predicted \"location\"\n",
      "[71784] expected \"address\" but predicted \"location\"\n",
      "[72001] expected \"address\" but predicted \"product\"\n",
      "[72226] expected \"address\" but predicted \"notes\"\n",
      "[73360] expected \"address\" but predicted \"species\"\n",
      "[73573] expected \"address\" but predicted \"name\"\n",
      "[74228] expected \"address\" but predicted \"location\"\n",
      "[75893] expected \"address\" but predicted \"notes\"\n",
      "[76551] expected \"address\" but predicted \"language\"\n",
      "[77796] expected \"address\" but predicted \"location\"\n",
      "[80669] expected \"address\" but predicted \"location\"\n",
      "[80712] expected \"address\" but predicted \"category\"\n",
      "[82082] expected \"address\" but predicted \"location\"\n",
      "[82779] expected \"address\" but predicted \"range\"\n",
      "[83478] expected \"address\" but predicted \"city\"\n",
      "[84979] expected \"address\" but predicted \"weight\"\n",
      "[85206] expected \"address\" but predicted \"location\"\n",
      "[85353] expected \"address\" but predicted \"creator\"\n",
      "[85752] expected \"address\" but predicted \"notes\"\n",
      "[85930] expected \"address\" but predicted \"language\"\n",
      "[86891] expected \"address\" but predicted \"rank\"\n",
      "[87332] expected \"address\" but predicted \"code\"\n",
      "[87413] expected \"address\" but predicted \"location\"\n",
      "[87891] expected \"address\" but predicted \"sales\"\n",
      "[87958] expected \"address\" but predicted \"format\"\n",
      "[88056] expected \"address\" but predicted \"city\"\n",
      "[89504] expected \"address\" but predicted \"area\"\n",
      "[89800] expected \"address\" but predicted \"location\"\n",
      "[90054] expected \"address\" but predicted \"location\"\n",
      "[90466] expected \"address\" but predicted \"location\"\n",
      "[90582] expected \"address\" but predicted \"city\"\n",
      "[90584] expected \"address\" but predicted \"location\"\n",
      "[93557] expected \"address\" but predicted \"country\"\n",
      "[95220] expected \"address\" but predicted \"notes\"\n",
      "[95411] expected \"address\" but predicted \"location\"\n",
      "[95769] expected \"address\" but predicted \"team name\"\n",
      "[96379] expected \"address\" but predicted \"location\"\n",
      "[96640] expected \"address\" but predicted \"format\"\n",
      "[96728] expected \"address\" but predicted \"birth place\"\n",
      "[97594] expected \"address\" but predicted \"artist\"\n",
      "[98529] expected \"address\" but predicted \"artist\"\n",
      "[99237] expected \"address\" but predicted \"location\"\n",
      "[100797] expected \"address\" but predicted \"symbol\"\n",
      "[101634] expected \"address\" but predicted \"area\"\n",
      "[102060] expected \"address\" but predicted \"name\"\n",
      "[103165] expected \"address\" but predicted \"notes\"\n",
      "[107281] expected \"address\" but predicted \"location\"\n",
      "[108550] expected \"address\" but predicted \"grades\"\n",
      "[109367] expected \"address\" but predicted \"team name\"\n",
      "[109427] expected \"address\" but predicted \"result\"\n",
      "[111142] expected \"address\" but predicted \"location\"\n",
      "[112597] expected \"address\" but predicted \"location\"\n",
      "[113711] expected \"address\" but predicted \"location\"\n",
      "[114356] expected \"address\" but predicted \"position\"\n",
      "[114372] expected \"address\" but predicted \"area\"\n",
      "[114485] expected \"address\" but predicted \"description\"\n",
      "[118623] expected \"address\" but predicted \"notes\"\n",
      "[120003] expected \"address\" but predicted \"owner\"\n",
      "[122561] expected \"address\" but predicted \"notes\"\n",
      "[123013] expected \"address\" but predicted \"rank\"\n",
      "[123713] expected \"address\" but predicted \"location\"\n",
      "[124794] expected \"address\" but predicted \"company\"\n",
      "[126147] expected \"address\" but predicted \"region\"\n",
      "[126442] expected \"address\" but predicted \"capacity\"\n",
      "[126729] expected \"address\" but predicted \"location\"\n",
      "[127753] expected \"address\" but predicted \"order\"\n",
      "[129842] expected \"address\" but predicted \"birth place\"\n",
      "[130902] expected \"address\" but predicted \"rank\"\n",
      "[131254] expected \"address\" but predicted \"owner\"\n",
      "[131471] expected \"address\" but predicted \"location\"\n",
      "[131693] expected \"address\" but predicted \"location\"\n",
      "[132446] expected \"address\" but predicted \"location\"\n",
      "[132881] expected \"address\" but predicted \"album\"\n",
      "[133665] expected \"address\" but predicted \"region\"\n",
      "[133805] expected \"address\" but predicted \"name\"\n",
      "[135969] expected \"address\" but predicted \"area\"\n",
      "[136727] expected \"address\" but predicted \"result\"\n",
      "[137027] expected \"address\" but predicted \"location\"\n"
     ]
    },
    {
     "name": "stdout",
     "output_type": "stream",
     "text": [
      "Total mismatches: 14419 (F1 score: 0.8951410029373902)\n"
     ]
    },
    {
     "data": {
      "text/plain": [
       "[('name', 727),\n",
       " ('rank', 663),\n",
       " ('region', 521),\n",
       " ('location', 509),\n",
       " ('position', 491),\n",
       " ('description', 400),\n",
       " ('team', 390),\n",
       " ('artist', 385),\n",
       " ('notes', 364),\n",
       " ('type', 363),\n",
       " ('area', 357),\n",
       " ('category', 341),\n",
       " ('company', 340),\n",
       " ('album', 338),\n",
       " ('day', 329),\n",
       " ('product', 322),\n",
       " ('ranking', 302),\n",
       " ('gender', 287),\n",
       " ('city', 286),\n",
       " ('team name', 283),\n",
       " ('code', 274),\n",
       " ('class', 253),\n",
       " ('person', 221),\n",
       " ('owner', 219),\n",
       " ('weight', 203),\n",
       " ('status', 197),\n",
       " ('brand', 189),\n",
       " ('year', 189),\n",
       " ('credit', 176),\n",
       " ('result', 174),\n",
       " ('manufacturer', 171),\n",
       " ('address', 171),\n",
       " ('service', 167),\n",
       " ('order', 165),\n",
       " ('sex', 164),\n",
       " ('duration', 155),\n",
       " ('age', 153),\n",
       " ('sales', 152),\n",
       " ('country', 152),\n",
       " ('plays', 147),\n",
       " ('component', 147),\n",
       " ('origin', 144),\n",
       " ('range', 139),\n",
       " ('club', 133),\n",
       " ('nationality', 131),\n",
       " ('state', 129),\n",
       " ('county', 127),\n",
       " ('format', 120),\n",
       " ('director', 102),\n",
       " ('capacity', 101),\n",
       " ('command', 100),\n",
       " ('symbol', 94),\n",
       " ('publisher', 89),\n",
       " ('classification', 81),\n",
       " ('depth', 80),\n",
       " ('family', 78),\n",
       " ('affiliation', 76),\n",
       " ('elevation', 70),\n",
       " ('language', 69),\n",
       " ('operator', 62),\n",
       " ('requirement', 58),\n",
       " ('education', 57),\n",
       " ('file size', 56),\n",
       " ('genre', 56),\n",
       " ('creator', 55),\n",
       " ('industry', 44),\n",
       " ('organisation', 44),\n",
       " ('species', 41),\n",
       " ('affiliate', 39),\n",
       " ('jockey', 33),\n",
       " ('collection', 33),\n",
       " ('birth place', 33),\n",
       " ('religion', 27),\n",
       " ('continent', 24),\n",
       " ('isbn', 17),\n",
       " ('birth date', 15),\n",
       " ('currency', 13),\n",
       " ('grades', 12)]"
      ]
     },
     "execution_count": 19,
     "metadata": {},
     "output_type": "execute_result"
    }
   ],
   "source": [
    "size = len(y_test)\n",
    "mismatches = list()\n",
    "\n",
    "for idx, k1 in enumerate(y_test[:size]):\n",
    "    k2 = predicted_labels[idx]\n",
    "\n",
    "    if k1 != k2:\n",
    "        mismatches.append(k1)\n",
    "        \n",
    "        # zoom in to specific errors. Use the index in the next step\n",
    "        if k1 in ('address'):\n",
    "            print(f'[{idx}] expected \"{k1}\" but predicted \"{k2}\"')\n",
    "        \n",
    "f1 = f1_score(y_test[:size], predicted_labels[:size], average=\"weighted\")\n",
    "print(f'Total mismatches: {len(mismatches)} (F1 score: {f1})')\n",
    "\n",
    "data = Counter(mismatches)\n",
    "data.most_common()   # Returns all unique items and their counts"
   ]
  },
  {
   "cell_type": "code",
   "execution_count": 20,
   "metadata": {},
   "outputs": [],
   "source": [
    "test_samples = pd.read_parquet('../data/data/raw/test_values.parquet')"
   ]
  },
  {
   "cell_type": "code",
   "execution_count": 24,
   "metadata": {},
   "outputs": [
    {
     "name": "stdout",
     "output_type": "stream",
     "text": [
      "Predicted \"address\", actual label \"address\". Actual values:\n",
      "[['Cabot House', 'Cabot House', '5 Hill Rd.', '5 Hill Rd.', '9 Cabot Rd.', '9 Cabot Rd.', 'Cabot House', '22 Bank Rd.', '22 Bank Rd.', 'Cabot House', '31 Bank Rd.', '31 Bank Rd.', 'Bairds Hotel', '11 Cabot Rd.', '11 Cabot Rd.', '10 Hill Rd.', '10 Hill Rd.', '10 Hill Rd.', '10 Hill Rd.', '7A Church Rd.', '1 Cabot Rd.', '1 Cabot Rd.', '1 Cabot Rd.', '1 Cabot Rd.', '2 Coronation St.', '2 Coronation St.', '7A Church Rd.', '12 Hill Rd.', '12 Hill Rd.', '12 Hill Rd.', 'Cabot House', '19 Bank Rd.', '19 Bank Rd.', '19 Bank Rd.', '19 Bank Rd.', '19 Bank Rd.', '7A Church Rd.', '18 Mill Rd.', '17 Hill Rd.', '17 Hill Rd.', 'Cabot House', 'Cabot House', '25 Bank Rd.', '10 Coronation St.', '6 Cabot Rd.', '6 Cabot Rd.', '8 Hill Rd.', '8 Hill Rd.', '4 Mill Rd.', '4 Mill Rd.', '12 Sulva Rd.', '4 Haig Rd.', '13 Botwood Rd.', '13 Botwood Rd.', '8 Botwood Rd.', '8 Botwood Rd.', '16 Botwood Rd.', '16 Botwood Rd.', '16 Botwood Rd.', '16 Botwood Rd.', '56 Beaumont Ave.', '8 Botwood Rd.', '56 Beaumont Ave.', '61 Botwood Rd.', '8 Botwood Rd.', '8 Botwood Rd.', '41 Beaumont Ave.', '41 Beaumont Ave.', '1 Polygon Rd.', '1 Polygon Rd.', '1 Polygon Rd.', '8 Botwood Rd.', '8 Botwood Rd.', '40 Botwood Rd.', '40 Botwood Rd.', '11 Haig Rd.', '11 Haig Rd.', '40 Botwood Rd.', '43 Botwood Rd.', '56 Botwood Rd.', '56 Botwood Rd.', '56 Botwood Rd.', '56 Botwood Rd.', '55 Botwood Rd.', '55 Botwood Rd.', '55 Botwood Rd.', '55 Botwood Rd.', '9 Botwood Rd.', '9 Botwood Rd.', '51 Botwood Rd.', '51 Botwood Rd.', '33 Botwood Rd.', '33 Botwood Rd.', '33 Botwood Rd.', '33 Botwood Rd.', '17 Sulva Rd.', '17 Sulva Rd.', '1 Sulva Rd.', '1 Sulva Rd.', '5B Botwood Rd.', '21 Monchy Rd.', '15 Junction Rd.', '15 Junction Rd.', '15 Junction Rd.', '15 Junction Rd.', '11 Monchy Rd.', '49 Queen St.', '17 Monchy Rd.', '17 Monchy Rd.', '49 Queen St.', '49 Junction Rd.', '49 Junction Rd.', '1 Queen St.', '1 Queen St.', '37 Monchy Rd.', '37 Monchy Rd.', 'Pine Ave Apt. 5', 'Pine Ave Apt. 5', '6 Peronne Rd.', '2 Peronne Rd.', '6 Peronne Rd.', '7 Peronne Rd.', '7 Peronne Rd.', '7 Peronne Rd.', 'Pine Ave. Apt. 19', '13 Queen St.', 'Pine Ave. Apt. 19', '41 Junction Rd.', '13 Queen St.', '4 Pine Ave.', '51 Junction Rd.', '51 Junction Rd.', '6 Monchy Rd.', '6 Monchy Rd.', '1 Peronne Rd.', '1 Peronne Rd.', 'Pine Ave. Apt. 6', 'Pine Ave. Apt. 6', '50 Junction Rd.', '20 Junction Rd.', '20 Junction Rd.', '20 Junction Rd.', 'Pine Ave. Apt. 15', 'Pine Ave. Apt. 15', '23 Monchy Rd.', '23 Monchy Rd.', '5 Peronne Rd.', '15 Queen St.', '15 Queen St.', '15 Queen St.', '24 East St.', '13 East St.', '13 East St.', '4 Railway Rd.', '4 Railway Rd.', '12 Fourth Ave.', '12 Fourth Ave.', '8 Circular Rd.', '8 Circular Rd.', '8 Circular Rd.', '17 Circular Rd.', '17 Circular Rd.', '1A Valley Rd.', '28 Fourth Ave.', '28 Fourth Ave.', '22 East St.', '22 East St.', '15 Fourth Ave.', '11 Third Ave.', '15 Fourth Ave.', '15 Fourth Ave.', '15 Fourth Ave.', '11 Third Ave.', '15 Fourth Ave.', '4 Railway Rd.', '6 Valley Rd.', '4 Railway Rd.', '6 Valley Rd.', '7 West St.', '7 West St.', '22 Circular Rd.', '25 Fourth Ave.', '5 Valley Rd.', '25 Fourth Ave.', '5 Valley Rd.', '5 Fourth Ave.', '5 Fourth Ave.', '15 Valley Rd.', '1 Third Ave.', '1 Third Ave.', '1 Third Ave.', '20 Fourth Ave.', '10 Valley Rd.', '20 Fourth Ave.', '20 Fourth Ave.', '11 East St.', '20 Fourth Ave.', '11 East St.', '2 Railway Rd.', '20 Fourth Ave.', '10 Valley Rd.', '11 East St.', '2 Railway Rd.', '20 East St.', '20 East St.', '20 East St.', '20 East St.', '20 East St.', '10 East St.', '10 East St.', '10 East St.', '11 Railway Rd.', '7 Circular Rd.', '11 Railway Rd.', '11 Railway Rd.', '7 Circular Rd.', '11 Railway Rd.', '3 Fourth Ave.', '13 Fourth Ave.', '4 Third Ave.', '3 Fourth Ave.', '13 Fourth Ave.', '13 Fourth Ave.', '13 Fourth Ave.', '11 Third Ave.', '11 Third Ave.', '13 Fourth Ave.', '3 Fourth Ave.', '10 Circular Rd.', '10 Circular Rd.', '12 Third Ave.', '10 Circular Rd.', '10 Circular Rd.', '12 Third Ave.', '10 Circular Rd.', '5 Railway Rd.', '5 Railway Rd.', '7 Third Ave.', '14 Fourth Ave.', '14 Fourth Ave.', '14 Fourth Ave.', '7 Third Ave.', '14 Fourth Ave.', '14 Fourth Ave.', '14 Fourth Ave.', '26 East St.', '26 East St.', '5 East St.', '5 East St.', '5 East St.', '16 East St.', '15 Third Ave.', '7 Valley Rd.', '15 Third Ave.', '15 Third Ave.', '7 Valley Rd.', '1 Railway Rd.', '1 Railway Rd.', '33 Circular Rd.', '33 Circular Rd.', '33 Circular Rd.', '18 East St.', '18 East St.', '6 Third Ave.', '6 Third Ave.', '25 Circular Rd.', '5 Valley Rd.', '23 Fourth Ave.', '23 Fourth Ave.', '1A Valley Rd.', '37 Circular Rd.', '23 Fourth Ave.', '37 Circular Rd.', '1A Valley Rd.', '24A Fourth Ave.', '24A Fourth Ave.', '1 Fourth Ave.', '1 Fourth Ave.', '1 Fourth Ave.', '2A Valley Rd.', '2A Valley Rd.', '6 Valley Rd.', '30 Fourth Ave.', '30 Fourth Ave.', '19 Fourth Ave.', '19 Fourth Ave.', '3 Valley Rd.', '3 Valley Rd.']]\n"
     ]
    }
   ],
   "source": [
    "idx = 1001\n",
    "original = test_samples.iloc[idx]\n",
    "converted = original.apply(literal_eval).to_list()\n",
    "\n",
    "print(f'Predicted \"{predicted_labels[idx]}\", actual label \"{y_test[idx]}\". Actual values:\\n{converted}')"
   ]
  },
  {
   "cell_type": "code",
   "execution_count": null,
   "metadata": {},
   "outputs": [],
   "source": []
  }
 ],
 "metadata": {
  "kernelspec": {
   "display_name": "Python 3",
   "language": "python",
   "name": "python3"
  },
  "language_info": {
   "codemirror_mode": {
    "name": "ipython",
    "version": 3
   },
   "file_extension": ".py",
   "mimetype": "text/x-python",
   "name": "python",
   "nbconvert_exporter": "python",
   "pygments_lexer": "ipython3",
   "version": "3.6.12"
  }
 },
 "nbformat": 4,
 "nbformat_minor": 4
}
