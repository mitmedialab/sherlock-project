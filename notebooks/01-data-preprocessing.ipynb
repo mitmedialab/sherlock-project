{
 "cells": [
  {
   "cell_type": "code",
   "execution_count": 1,
   "metadata": {},
   "outputs": [],
   "source": [
    "%load_ext autoreload\n",
    "%autoreload 2"
   ]
  },
  {
   "cell_type": "code",
   "execution_count": 2,
   "metadata": {},
   "outputs": [
    {
     "data": {
      "text/plain": [
       "'13'"
      ]
     },
     "execution_count": 2,
     "metadata": {},
     "output_type": "execute_result"
    }
   ],
   "source": [
    "# If you need fully deterministic results between runs, set the following environment value prior to launching jupyter.\n",
    "# See comment in sherlock.features.paragraph_vectors.infer_paragraph_embeddings_features for more info.\n",
    "%env PYTHONHASHSEED"
   ]
  },
  {
   "cell_type": "markdown",
   "metadata": {},
   "source": [
    "# Extract features, retrain Sherlock and generate predictions."
   ]
  },
  {
   "cell_type": "markdown",
   "metadata": {},
   "source": [
    "The script below first downloads the data (roughly 700K samples), then extract features from the raw data values. <br>"
   ]
  },
  {
   "cell_type": "code",
   "execution_count": 3,
   "metadata": {},
   "outputs": [],
   "source": [
    "from datetime import datetime\n",
    "import os\n",
    "import sys\n",
    "import time\n",
    "\n",
    "import numpy as np\n",
    "import pandas as pd\n",
    "\n",
    "from sherlock import helpers\n",
    "from sherlock.functional import extract_features_to_csv\n",
    "from sherlock.features.paragraph_vectors import initialise_pretrained_model, initialise_nltk\n",
    "from sherlock.features.preprocessing import (\n",
    "    extract_features,\n",
    "    convert_string_lists_to_lists,\n",
    "    prepare_feature_extraction,\n",
    "    load_parquet_values,\n",
    ")\n",
    "from sherlock.features.word_embeddings import initialise_word_embeddings"
   ]
  },
  {
   "cell_type": "code",
   "execution_count": 4,
   "metadata": {},
   "outputs": [
    {
     "name": "stdout",
     "output_type": "stream",
     "text": [
      "Started at 2022-02-11 08:55:34.107148.\n"
     ]
    }
   ],
   "source": [
    "print(f'Started at {datetime.now()}.')"
   ]
  },
  {
   "cell_type": "markdown",
   "metadata": {},
   "source": [
    "## Download data\n",
    "This will download the raw values and preprocessed files, the corresponding labels as well as a few other supporting files:\n",
    "- `download_data()` will download 3.6GB of data for preprocessing and model training into the `data/` directory.\n",
    "- `prepare_feature_extraction()` will download +/- 800 MB of data into the `features/` directory."
   ]
  },
  {
   "cell_type": "code",
   "execution_count": 5,
   "metadata": {},
   "outputs": [
    {
     "name": "stdout",
     "output_type": "stream",
     "text": [
      "Downloading the raw and preprocessed data into ../data/data.zip.\n",
      "Data was downloaded.\n"
     ]
    }
   ],
   "source": [
    "helpers.download_data()"
   ]
  },
  {
   "cell_type": "code",
   "execution_count": 6,
   "metadata": {},
   "outputs": [],
   "source": [
    "if not os.path.exists('../sherlock/features/par_vec_trained_400.pkl.docvecs.vectors_docs.npy'):\n",
    "    raise SystemExit(\n",
    "        \"\"\"\n",
    "        Trained paragraph vectors do not exist,\n",
    "        please run the '01-train-paragraph-vector-features' notebook before continuing\n",
    "        \"\"\"\n",
    "    )"
   ]
  },
  {
   "cell_type": "markdown",
   "metadata": {},
   "source": [
    "## Read in raw data\n",
    "You can skip this step if you want to use a preprocessed data file."
   ]
  },
  {
   "cell_type": "markdown",
   "metadata": {},
   "source": [
    "## Report memory usage (can be slow)"
   ]
  },
  {
   "cell_type": "code",
   "execution_count": 7,
   "metadata": {},
   "outputs": [],
   "source": [
    "report_memory = False"
   ]
  },
  {
   "cell_type": "markdown",
   "metadata": {},
   "source": [
    "## Extract features\n",
    "\n",
    "The input data is assumed to be a dataframe of column values stored as stringed lists \"['hello', 'goodbye', 'hi']\", stored in a parquet file.\n",
    "\n",
    "`TODO`: ideally we pickle the dataframe with value lists to avoid parsing these strings into lists again."
   ]
  },
  {
   "cell_type": "code",
   "execution_count": 8,
   "metadata": {},
   "outputs": [],
   "source": [
    "timestr = time.strftime(\"%Y%m%d-%H%M%S\")\n",
    "\n",
    "# Features will be output to the following files\n",
    "X_test_filename_csv = f'../data/data/processed/test_{timestr}.csv'\n",
    "X_train_filename_csv = f'../data/data/processed/train_{timestr}.csv'\n",
    "X_validation_filename_csv = f'../data/data/processed/validation_{timestr}.csv'"
   ]
  },
  {
   "cell_type": "markdown",
   "metadata": {},
   "source": [
    "### PREPARATION"
   ]
  },
  {
   "cell_type": "code",
   "execution_count": 9,
   "metadata": {},
   "outputs": [
    {
     "name": "stdout",
     "output_type": "stream",
     "text": [
      "Preparing feature extraction by downloading 2 files:\n",
      "        \n",
      " ../sherlock/features/glove.6B.50d.txt and \n",
      " ../sherlock/features/par_vec_trained_400.pkl.docvecs.vectors_docs.npy.\n",
      "        \n",
      "All files for extracting word and paragraph embeddings are present.\n",
      "Initialising word embeddings\n",
      "Initialise Word Embeddings process took 0:00:16.095174 seconds.\n",
      "Initialise Doc2Vec Model, 400 dim, process took 0:00:09.854615 seconds. (filename = ../sherlock/features/par_vec_trained_400.pkl)\n",
      "Initialised NLTK, process took 0:00:00.342873 seconds.\n"
     ]
    },
    {
     "name": "stderr",
     "output_type": "stream",
     "text": [
      "[nltk_data] Downloading package punkt to /Users/madelon/nltk_data...\n",
      "[nltk_data]   Package punkt is already up-to-date!\n",
      "[nltk_data] Downloading package stopwords to\n",
      "[nltk_data]     /Users/madelon/nltk_data...\n",
      "[nltk_data]   Package stopwords is already up-to-date!\n"
     ]
    }
   ],
   "source": [
    "# ensure embedding initialisation is outside of timing for extract_features\n",
    "prepare_feature_extraction()\n",
    "initialise_word_embeddings()\n",
    "initialise_pretrained_model(400)\n",
    "initialise_nltk()"
   ]
  },
  {
   "cell_type": "code",
   "execution_count": 10,
   "metadata": {},
   "outputs": [],
   "source": [
    "%load_ext line_profiler"
   ]
  },
  {
   "cell_type": "code",
   "execution_count": 11,
   "metadata": {},
   "outputs": [],
   "source": [
    "# default process creation mode is changed in Python 3.8 to 'spawn' which causes \"name not defined\" type errors. Force fork 'mode' for now (this only needs to be called once).\n",
    "# https://bugs.python.org/issue39931\n",
    "#mp.set_start_method('fork', force=True)"
   ]
  },
  {
   "cell_type": "markdown",
   "metadata": {},
   "source": [
    "## EXTRACT FEATURES TO CSV"
   ]
  },
  {
   "cell_type": "markdown",
   "metadata": {},
   "source": [
    "### TEST SET"
   ]
  },
  {
   "cell_type": "code",
   "execution_count": 12,
   "metadata": {},
   "outputs": [
    {
     "name": "stdout",
     "output_type": "stream",
     "text": [
      "Starting ../data/data/processed/test_20220211-085607.csv at 2022-02-11 08:56:51.242296. Rows=137353, using 8 CPU cores\n",
      "[\n",
      "  [\n",
      "    \"['Central Missouri', 'unattached', 'unattached', 'Kansas State University', 'unattached', 'North Dakota State', 'Nike']\",\n",
      "    \"[95, 100, 95, 89, 84, 91, 88, 94, 75, 78, 90, 84, 90, 76, 93, 70, 80, 80, 82]\",\n",
      "    \"['Katie Crews', 'Christian Hiraldo', 'Alex Estrada', 'Fredy Peltroche', 'Xavier Perez', 'Gustavo Larrosa', 'Jose Montano', 'Angel Cruz (7)', 'J Acosta']\",\n",
      "    \"['Christian', 'Non-Christian', 'Unreported', 'Jewish', 'Atheists']\",\n",
      "    \"['AAF-McQuay Canada Inc.', 'AAF-McQuay Canada Inc.', 'Ability Janitorial Services Ltd.', 'Acart Communications Inc.', 'Accu-lift Flooring Systems', 'Accurate Point Construction Ltd.  ', 'Acklands-Grainger Inc.', 'Acme Future Security Controls Inc.', 'ACMG Management Inc.', 'Advanced Chippers Technologies Inc.', 'Advanced Chippewa Technologies Inc.', 'Advanced Chippewa Technologies Inc.', 'Advanced Chippewa Technologies Inc.', 'Advanced Chippewa Technologies Inc.', 'Adware Promotions Inc.', 'Agilent Technologies Canada Inc.', 'Agilent Technologies Canada Inc.', 'Agilent Technologies Canada Inc.', 'Ahearn & Soper Inc.', 'AK Global Construction & Development Inc.', 'Allan K. Parisien', 'Allen-Vanguard Corp.', 'Allen-Vanguard Technologies Inc.', 'Alliance Events', 'Altis Human Resources (Ottawa) Inc.', 'Altis Human Resources (Ottawa) Inc. and Excel Human Resources Inc., in joint venture', 'Altis Human Resources (Ottawa) Inc. and Excell Human Resources Inc., in joint venture', 'Amcan Technologies Inc.', 'Amcan Technologies Inc.', 'AMS Imaging Inc.', 'AMS Imaging Inc.', 'Amtek Engineering Services Ltd.', 'AMTEK Engineering Services Ltd.', 'AMTEK Engineering Services Ltd.', 'Art Woods Office Supplies (1998) Inc.', 'Asbex Ltd.', 'Attachmate Canada Ltd.', 'Bell Canada', 'Bell Canada', 'Bell Canada', 'Bell Canada', 'Bell Canada', 'Bell Canada', 'Bell Canada', 'Bell Canada  ', 'Black & McDonald Ltd.', 'Bradley Air Services Ltd.', 'CA Canada Co.', 'Cache Computer Consulting Corp.', 'Cache Computer Consulting Corp.', 'Cache Computer Consulting Corp.', 'CAE Professional Services (Canada) Inc.', 'Calian Ltd.', 'Calian Ltd.', 'Calian Ltd.', 'Caltrio Co. Ltd.', 'Canada Post Corp.', 'Canadian Advanced Technology Association', 'Canadian Association of Fire Chiefs', 'Canadian Bank Note Company Ltd.', 'Canadian Bank Note Company Ltd.', 'Canadian Payments Assoc.', 'Canadian Space Services Ltd.', 'Carle Ford Inc.', 'Centres de Langues Internationales Charpentier (CLIC)', 'CGI Information Systems and Management Consultants Inc.', 'CGI Information Systems and Management Consultants Inc.', 'CGI Information Systems and Management Consultants Inc.', 'CGI Information Systems and Management Consultants Inc.', 'CGI Information Systems and Management Consultants Inc.', 'Chubb Edwards', 'Click-Into Inc.', 'CLS Lexitech', 'CLS Lexitech Ltd.', 'Conceptext Communications Inc.', 'Conference Board of Canada', 'Construction Héritage', 'Contract Community Inc.', 'Coradix Technology Consulting Ltd.', 'Coradix Technology Consulting Ltd.', 'Crane Canada Inc.', 'Cummins Eastern Canada LP', 'Dalian Enterprises Inc.', 'Dalian Enterprises Inc.', 'Dasco Data Products Ltd.  ', 'Davtair Industries', 'DBA Akran Marketing', 'Defran Inc.', 'Deloitte & Touche, LLP', 'Deloitte & Touche, LLP', 'DEW Engineering and Development ULC ', 'DEW Engineering and Development ULC  ', 'Diligens Inc.', 'Direct Energy Business Services Ltd.', 'Diversitel Communications Inc.  ', 'DLS Technology Corp.', 'DLS Technology Corporation', 'Drycore Electric 2002 Inc.', 'DWP Solutions Inc.', 'DWP Solutions Inc.', 'EllisDon Corp.', 'Emerion', 'Empowered Networks Inc.', 'EMS Technologies Canada Ltd.', 'Entrust Ltd.', 'Entrust Ltd.', 'Ernst & Young LLP', 'Ernst & Young LLP', 'Ernst & Young LLP  ', 'ESRI Canada Ltd.', 'ESRI Canada Ltd.', 'ESRI Canada Ltd.', 'Exact Legal Translations Inc.  ', 'Fleetway Inc.', 'Fox Translations Ltd.', 'Gannon/Blackburn Electric Inc.', 'Gartner Group Canada Co.', 'Genrep Ltd.', 'Genrep Ltd.', 'Genrep Ltd.', 'Genrep Ltd.', 'Gibraltar Solutions Inc.', 'Hay Group Ltd.', 'Hay Group Ltd.', 'Hewlett-Packard (Canada) Co.', 'Hewlett-Packard (Canada) Co.', 'Hewlett-Packard (Canada) Co.', 'Hewlett-Packard (Canada) Co.', 'Hickling Arthur Lows Corp.', 'Hitachi Data Systems Inc.', 'Hitachi Data Systems Inc.', 'Human Resource Capital Group Inc./Spherion  ', 'Ian H. Thomson', 'IBISKA Telecom Inc.', 'IBISKA Telecom Inc.', 'Ibiska Telecom Inc. and CM Inc. joint venture', 'IBM Canada Ltd.', 'IBM Canada Ltd.', 'IBM Canada Ltd.', 'IBM Canada Ltd.', 'IBM Canada Ltd.', 'IBM Canada Ltd.', 'IBM Canada Ltd.', 'IBM Canada Ltd.', 'IBM Canada Ltd.', 'IBM Canada Ltd.', 'IBM Canada Ltd.', 'Integrated Network Security Alliance 2005 Inc.', 'Interactive Audio Visual Inc.', 'Interfax Systems Inc.', 'Intergraph Canada Ltd.', 'Interis Consulting Inc.', 'Interis Consulting Inc.', 'Interis Consulting Inc.', 'Interis Consulting Inc.  ', 'International Distribution Network Canada Ltd.', 'IPSOS-Reid Corp.', 'IPSOS-Reid Corp.', 'IPSS Inc.', 'IT/net Canada Inc.', 'IT/Net Ottawa Inc.', 'IT/Net Ottawa Inc.', 'IT/Net Ottawa Inc.', 'Itex Inc.', 'Itex Inc.', 'Itex Inc.', 'Itex Inc.', 'James L. Armstrong & Associates Inc.', 'JMP Consultants', 'Johnson Controls L.P.', 'Krista Construction Ltd.', \"L'Expert de Parcs J. Aubin Inc.\", 'Lari Construction', 'Laurin & Co.', 'Le Groupe Conseil Baastel Ltee.', 'Learning Tree International Inc.', 'Les Toitures Raymond et Associes, Inc.', 'Les Traductions Tessier S.C.C.', 'Les Traductions Tessier S.C.C.', 'Leverage Technology Resources Inc.', 'Leverage Technology Resources Inc.', 'Lockheed Martin Canada Inc.', 'Lowe-Martin Company Inc.', 'Maplesoft Consulting Inc.', 'Maplesoft Consulting Inc.', 'Maplesoft Consulting Inc.', 'Maplesoft Consulting Inc.', 'Maplesoft Consulting Inc.', 'Maplesoft Consulting Inc.', 'Maplesoft Consulting Inc.', 'Maplesoft Consulting Inc.', 'Maplesoft Technology Inc.', 'Marcomm Fibre Optics Inc.', 'Marcomm Fibre Optics Inc.', 'Marcomm Fibre Optics Inc.', 'Marcomm Fibre Optics Ltd.', 'Marcomm Inc.', 'Marcomm Inc.', 'Marois Electrique (1980) Ltd.', 'Maxys Staffing & Consulting', 'McDonald Bros. Construction Inc.', 'McDonald Bros. Construction Inc.', 'Metaphrase Inc.', 'MHPM Project Managers Inc.', 'Motorola Canada Limited', 'Motorola Canada Ltd.', 'Motorola Canada Ltd.  ', 'Motorola Solutions Canada Inc.', 'MultiCorpora R&D Inc.', 'MultiCorpora R&D Inc.', 'NavPoint Consulting Group Inc.', 'Neptec Design Group Ltd.', 'NORR Ltd.', 'NORR Ltd.', 'Nortrax Canada Inc.', 'Numech Inc.', 'Oracle Corporation Canada Inc.', 'Otis Canada Inc.', 'Otis Canada Inc.', 'Otis Canada Inc.', 'Otis Canada Inc.', 'Ottawa Horticultural Services Inc.', 'Peter J. Kindree Architect', 'Pitney Bowes of Canada Ltd.', 'Preston Phipps Inc.', 'PricewaterhousCoopers LLP', 'PricewaterhouseCoopers LLP', 'PricewaterhouseCoopers LLP', 'Printers Plus', 'Project X Productions Inc.', 'Projects X Productions Inc.', 'Promaxis Systems Inc.', 'Promaxis Systems Inc.', 'PwC Management Services LP', 'QMR Staffing Solutions Inc.', 'Realit Management Inc.', 'Regional Elevator', 'Regional Elevator', 'Rexel Canada Electrical Inc.', 'Rockwell Collins Government Systems (Canada) Inc.', 'Rohde & Schwarz Canada Inc.', 'Rohde & Schwarz Canada Inc.', 'S.i. Systems Inc.', 'S.M.I. Support Measures Inc.', 'Safenet Canada Inc.', 'Safenet Canada Inc.', 'Samson & Associates', 'Samson & Associates', 'Seprotech Systems Inc.']\",\n",
      "    \"['05 - 08', '04 - 08', '06 - 09', '05 - 08', '06 - 08', '06 - 08', '06 - 08', '04 - 08', '05 - 08', '05 - 08', '05 - 08', '05 - 08']\",\n",
      "    \"['Cerulean Cave (1f)', 'Route 14', 'Route 15']\",\n",
      "    \"['libyaml', 'pyyaml', 'libyaml', 'pyyaml', 'pyyaml', 'pysyck', 'pyyaml', 'pyyaml', 'pyyaml', 'pyyaml', 'pyyaml', 'pysyck', 'pyyaml', 'pyyaml', 'pysyck', 'pysyck', 'pysyck', 'libyaml', 'pyyaml-legacy', 'libyaml', 'pyyaml-legacy', 'pyyaml', 'pyyaml-legacy', 'libyaml', 'pyyaml-legacy', 'pyyaml', 'pyyaml-legacy', 'pyyaml', 'pyyaml', 'pyyaml', 'pyyaml-legacy', 'pyyaml', 'pyyaml', 'libyaml', 'pyyaml', 'pyyaml', 'pyyaml', 'pyyaml', 'libyaml', 'pyyaml', 'pyyaml', 'pyyaml', 'pyyaml-legacy', 'pyyaml', 'pyyaml', 'pyyaml', 'pyyaml-legacy', 'pyyaml', 'pyyaml', 'pyyaml', 'pyyaml', 'pyyaml', 'pyyaml', 'libyaml', 'libyaml', 'pyyaml-legacy', 'pyyaml', 'pyyaml', 'pysyck', 'pyyaml', 'pyyaml', 'pyyaml', 'pyyaml-legacy', 'pyyaml', 'pyyaml', 'pyyaml-legacy', 'pyyaml', 'pyyaml', 'pyyaml', 'pyyaml', 'pyyaml', 'pyyaml', 'pyyaml', 'pyyaml', 'pyyaml-legacy', 'libyaml', 'pyyaml', 'pyyaml-legacy', 'pyyaml', 'libyaml', 'pyyaml', 'libyaml', 'libyaml', 'pyyaml', 'pyyaml', 'pyyaml-legacy', 'pyyaml', 'pyyaml', 'libyaml', 'pyyaml', 'pyyaml', 'libyaml', 'pyyaml-legacy', 'pyyaml', 'libyaml', 'pyyaml', 'pyyaml', 'pyyaml', 'pyyaml-legacy', 'libyaml']\",\n",
      "    \"['Citiwest Consulting Ltd', 'Hunter Laird Engineering', None, None, None, 'Vanbros Investments BC Inc', 'Citiwest Consulting Ltd', 'Remax Colonial Pacific Realty', None, 'Aplin & Martin Consulting Ltd', 'Aplin & Martin Consulting Ltd', 'Citiwest Consulting Ltd', 'Mainland Engineering 2007 Corp', 'Gerry Blonski Architect', 'Aplin & Martin Consulting Ltd', None, 'H.Y. Engineering Ltd', 'True North Mangement', 'Lark Group', 'Hunter Laird Engineering', 'Pacific Land Group', 'MMM Group Limited', 'WG Architecture Inc', 'Barnett Dembek Architects Inc', 'Citiwest Consulting Ltd', 'Hunter Laird Engineering', \"Potter's Farm & Nursery Inc\", 'PJ Lovick Architect Ltd', 'Matthew Cheng Architect Inc', 'Coastland Engineering & Surveyor', 'Coastland Engineering & Surveyor', 'H.Y. Engineering Ltd', 'H.Y. Engineering Ltd', 'Dawson and Sawyer Lands Ltd', 'Dawson and Sawyer Lands Ltd', 'McElhanney Consulting Services Ltd', 'not disclosed', 'not disclosed', 'CTA Design Group, Architecture & Engineering', 'Royal Pacific Realty', 'Krahn Engineering Ltd', 'Coastland Engineering & Surveyor', 'Dawson and Sawyer Lands Ltd', 'Royal Pacific Realty', 'Douglas R. Johnson Architect Ltd', 'McElhanney Consulting Services Ltd', 'Permit World Inc', 'United Awning & Signs', 'United Awning & Signs', 'Citiwest Consulting Ltd', 'Sanford Design Group', 'Barnett Dembek Architects Inc', 'Barnett Dembek Architects Inc', 'McElhanney Consulting Services Ltd', 'Citiwest Consulting Ltd', 'Morgan Crossing Properties Ltd.', 'WG Architecture Inc', 'WG Architecture Inc', 'WG Architecture Inc', 'Haven Properties Ltd', 'Haven Properties Ltd', 'Hunter Laird Engineering', 'Hunter Laird Engineering', 'Bing Thom Architects', 'Beedie Development Group', 'H.Y. Engineering Ltd', 'Coastland Engineering & Surveyor', 'H.Y. Engineering Ltd', 'H.Y. Engineering Ltd', 'H.Y. Engineering Ltd', None, 'Mainland Engineering (2007) Corp', 'McElhanney Consulting Services Ltd', 'H.Y. Engineering Ltd', None, 'Santosh Holding Ltd', 'PJ Lovick Architect Ltd', 'International Neon', 'Mainland Engineering (2007) Corp', 'Coastland Engineering & Surveying Ltd', 'Coastland Engineering & Surveying Ltd', 'Gerry Blonski Architect', 'Gerry Blonski Architect', 'Hub Engineering Inc', 'Smith Construction & Associates', 'Gradual Architecture Inc', 'RCMP', 'Barnett Dembek Architects Inc', 'CitiWest Consulting Ltd', 'Hunter Laird Engineering Ltd', None, 'Hunter Laird Engineering Ltd', 'RKTG Associates Ltd', 'Hunter Laird Engineering Ltd', 'H.Y. Engineering Ltd', 'Mainland Engineering (2007) Corp', 'Cotter Architects Inc', 'Hub Engineering Inc', 'Mainland Engineering (2007) Corp', 'Hub Engineering Inc', None, 'Creekside Architects', 'Priority Permits Ltd', None, 'Hunter Laird Engineering Ltd', 'Lion Rock Developments', 'Hunter Laird Engineering Ltd', 'Ashburn Construction Ltd', 'McElhanney Consulting Services Ltd', 'Hub Engineering Inc', None, 'Hunter Laird Engineering', 'WG Architecture Inc.', None, None, 'Barnett Dembek Architect Inc.', 'Architect', 'CitiWest Consulting Ltd.', 'Legendary Developments Ltd.', 'Hub Engineering Inc', 'Retirement Concepts Development', 'Bomar Investments Corp.', 'Berezan Management Ltd.', 'CitiWest Consulting Ltd.', 'Coastland Engineering & Surveying', 'Aplin & Martin Consultants Ltd.', 'Hunter Laird Engineering', 'Hunter Laird Engineering', 'WG Architecture Inc.', 'Gerry Blonski Architect', 'RSNRAI Enterprises', 'Adera Development', 'McElhanney Consulting Services Ltd', 'Brian G. Hart & Company', 'Sanderson Planning Ltd.', 'CitiWest Consulting Ltd.', 'Pacific Land Group', 'CitiWest Consulting Ltd.', 'H.Y. Engineering Ltd.', 'Creekside Architects', 'Hywel Jones Architect Limited', 'McElhanney Consulting Services Ltd', 'McElhanney Consulting Services Ltd', 'Mainland Engineering (2007) Corp.', 'Barnett Dembek Architect Inc.', 'Hunter Laird Engineering', 'Coastland Engineering & Surveying', 'Pacific Land Resource Group Inc.', 'HOST Consulting Ltd.', 'Hub Engineering Inc', 'Dawson & Sawyer Lands Ltd.', 'Hub Engineering Inc', 'Mainland Engineering (2007) Corp.', 'Hunter Laird Engineering', 'CitiWest Consulting Ltd.', 'Gordon MacKenzie Architect Inc.', 'Stanley Paulus Architect Inc.', 'James MacIntyre', 'Aplin & Martin Consultants Ltd.', 'James Bradley Consulting Inc.', 'Hunter Laird Engineering', 'MPB Construction Ltd.', 'Site Lines Architecture Inc.', 'Lark Group', 'CitiWest Consulting Ltd.', 'Not Disclosed', 'DTS Architecture', 'Gustavson Wylie Architects Inc.', 'Not Disclosed', 'Pacific Land Group', 'Cotter Architects', 'CitiWest Consulting Ltd.', 'CitiWest Consulting Ltd.', 'Sardara Boyal', 'Bingham Hill Architects', 'Chris Pifeakos Architects Inc.', 'McElhanney Consulting Services', 'JM Architecture', 'PCI Developments Corp', 'PCI Developments Corp', 'William H. F. Christie Architect', 'Taurus Commercial Real Estate Ltd', 'D F Architecture Inc', 'Dembek Architects Inc', 'Focus Architecture Inc', 'Mainland Engineering', 'Coastland Engineering & Survey Ltd', 'Citiwest Consulting Ltd', 'Pacific Land Resource Group Inc', 'Citiwest Consulting Ltd', 'Citiwest Consulting Ltd', 'Hunter Laird Engineering']\",\n",
      "    \"['Various', 'Adams and Brooks', \"Atkinson's Candy\", 'Necco']\",\n",
      "    ...\n",
      "    \"['Weekday', 'Weekend', 'Afternoon Pass', '2-day pass', '6-day pass']\",\n",
      "    \"[982.0, 0.0, 0.0]\",\n",
      "    \"['GS 206', 'SCI TECH 313', 'GS 206', 'GS 208', 'GS 206']\",\n",
      "    \"['C', 'C', 'N', 'S', 'S', 'C', 'N', 'C', 'C', 'N', 'N', 'N', 'N', 'C', 'C', 'S', 'C', 'N', 'S', 'N', 'S', 'S', 'C']\",\n",
      "    \"[1, 2, 3, 4, 5, 6, 8, 9, 10, 11, 12, 13, 14, 15, 16, 17, 18, 19, 20, 21, 22, 23, 24, 25]\",\n",
      "    \"['Madagascar', 'Malawi', 'Gambia, The', 'Brazil', 'Ghana', 'Sao Tome and Principe', 'Argentina', 'Laos', 'Kyrgyzstan', 'Guinea', 'Zimbabwe', 'Tajikistan', 'Uganda', 'Yemen', 'Belarus', 'Sierra Leone', 'Paraguay', 'Mongolia', 'Ukraine', 'Mauritania', 'Azerbaijan', 'Honduras', 'Venezuela', 'Tanzania', 'Congo, Democratic Republic of the', 'Jamaica', 'Rwanda', 'Syria', 'Nigeria', 'Kenya', 'Armenia', 'Peru', 'Uruguay', 'Chad', 'Costa Rica', 'Mozambique', 'Angola', 'Afghanistan', 'Guinea-Bissau', 'Gabon', 'Equatorial Guinea', 'Burundi', 'Central African Republic', 'Nicaragua', 'Congo, Republic of the', 'Serbia', 'Micronesia, Federated States of', 'Zambia', 'Bhutan', 'Liberia', 'Cameroon', 'Dominican Republic', 'Guatemala', 'Turkey', 'Senegal', 'Guyana', 'Seychelles', 'Bangladesh', 'Burma', 'Kosovo', 'Timor-Leste', 'Cambodia', 'Georgia', 'Suriname', 'Uzbekistan', 'Indonesia', 'Moldova', 'Belize', 'Egypt', 'Sri Lanka', 'Russia', 'Iran', 'Ethiopia', 'Solomon Islands', 'Nepal', 'Colombia', 'Cabo Verde', 'Comoros', 'Djibouti', 'Maldives', 'India', 'Lesotho', 'Samoa', 'Papua New Guinea', 'Antigua and Barbuda', 'Pakistan', 'Bolivia', 'Montenegro', 'Grenada', 'Vietnam', 'Spain', 'Saint Vincent and the Grenadines', 'Tonga', 'Mali', 'South Africa', 'Dominica', 'Saint Lucia', 'Saint Kitts and Nevis', 'Namibia', 'Barbados', 'Botswana', 'Anguilla', 'Swaziland', 'Jordan', 'Mauritius', 'Albania', 'Haiti', 'Ecuador', 'Romania', 'Croatia', 'Bulgaria', 'Aruba', 'Iceland', 'Macedonia', 'Chile', 'Montserrat', 'Algeria', 'Trinidad and Tobago', 'West Bank', 'Tunisia', 'Lebanon', 'Kazakhstan', 'Bosnia and Herzegovina', 'Thailand', 'Bahrain', 'Saudi Arabia', 'Panama', 'Greece', 'Poland', 'Cyprus', 'New Zealand', 'China', 'Latvia', 'Australia', 'Iraq', 'El Salvador', 'Morocco', 'San Marino', 'European Union', 'Philippines', 'Fiji', 'Libya', 'Bahamas, The', 'Brunei', 'Portugal', 'Vanuatu', 'Oman', 'Singapore', 'Macau', 'Lithuania', 'Slovenia', 'Estonia', 'Italy', 'Hong Kong', 'Kuwait', 'Hungary', 'Czech Republic', 'Qatar', 'Korea, South', 'Malaysia', 'United Kingdom', 'Mexico', 'Malta', 'Denmark', \"Cote d'Ivoire\", 'Niger', 'Belgium', 'United States', 'Ireland', 'Israel', 'Puerto Rico', 'Slovakia', 'Canada', 'Taiwan', 'Sweden', 'France', 'Switzerland', 'Germany', 'Norway', 'Netherlands', 'Austria', 'Finland', 'Japan']\",\n",
      "    \"['--', 'W 65-3', 'W 52-15', 'W 45-23', 'W 41-18', 'W 45-21', 'L 21-36', '--', '--']\",\n",
      "    \"['Canada', 'France', 'Germany', 'Japan', 'UK', 'USA', 'EC', 'Total', None, 'Spreadsheet title', 'Source', 'Note']\",\n",
      "    \"['Delaware', 'District of Columbia', 'Hawaii', 'Illinois', 'Iowa', 'Maryland', 'Massachussettes', 'Minnesota', 'Montana', 'New York', 'Ohio', 'Rhode Island', 'Washington', 'Nebraska', 'Oregon', 'Michigan', 'Wisconsin']\",\n",
      "    \"['Taylor Marable', 'Rebecca Parks', 'Sarah Hoffman']\"\n",
      "  ]\n",
      "]\n"
     ]
    },
    {
     "name": "stdout",
     "output_type": "stream",
     "text": [
      "['n_[0]-agg-any', 'n_[0]-agg-all', 'n_[0]-agg-mean', 'n_[0]-agg-var', 'n_[0]-agg-min', 'n_[0]-agg-max', 'n_[0]-agg-median', 'n_[0]-agg-sum', 'n_[0]-agg-kurtosis', 'n_[0]-agg-skewness', 'n_[1]-agg-any', 'n_[1]-agg-all', 'n_[1]-agg-mean', 'n_[1]-agg-var', 'n_[1]-agg-min', 'n_[1]-agg-max', 'n_[1]-agg-median', 'n_[1]-agg-sum', 'n_[1]-agg-kurtosis', 'n_[1]-agg-skewness', 'n_[2]-agg-any', 'n_[2]-agg-all', 'n_[2]-agg-mean', 'n_[2]-agg-var', 'n_[2]-agg-min', 'n_[2]-agg-max', 'n_[2]-agg-median', 'n_[2]-agg-sum', 'n_[2]-agg-kurtosis', 'n_[2]-agg-skewness', 'n_[3]-agg-any', 'n_[3]-agg-all', 'n_[3]-agg-mean', 'n_[3]-agg-var', 'n_[3]-agg-min', 'n_[3]-agg-max', 'n_[3]-agg-median', 'n_[3]-agg-sum', 'n_[3]-agg-kurtosis', 'n_[3]-agg-skewness', 'n_[4]-agg-any', 'n_[4]-agg-all', 'n_[4]-agg-mean', 'n_[4]-agg-var', 'n_[4]-agg-min', 'n_[4]-agg-max', 'n_[4]-agg-median', 'n_[4]-agg-sum', 'n_[4]-agg-kurtosis', 'n_[4]-agg-skewness', 'n_[5]-agg-any', 'n_[5]-agg-all', 'n_[5]-agg-mean', 'n_[5]-agg-var', 'n_[5]-agg-min', 'n_[5]-agg-max', 'n_[5]-agg-median', 'n_[5]-agg-sum', 'n_[5]-agg-kurtosis', 'n_[5]-agg-skewness', 'n_[6]-agg-any', 'n_[6]-agg-all', 'n_[6]-agg-mean', 'n_[6]-agg-var', 'n_[6]-agg-min', 'n_[6]-agg-max', 'n_[6]-agg-median', 'n_[6]-agg-sum', 'n_[6]-agg-kurtosis', 'n_[6]-agg-skewness', 'n_[7]-agg-any', 'n_[7]-agg-all', 'n_[7]-agg-mean', 'n_[7]-agg-var', 'n_[7]-agg-min', 'n_[7]-agg-max', 'n_[7]-agg-median', 'n_[7]-agg-sum', 'n_[7]-agg-kurtosis', 'n_[7]-agg-skewness', 'n_[8]-agg-any', 'n_[8]-agg-all', 'n_[8]-agg-mean', 'n_[8]-agg-var', 'n_[8]-agg-min', 'n_[8]-agg-max', 'n_[8]-agg-median', 'n_[8]-agg-sum', 'n_[8]-agg-kurtosis', 'n_[8]-agg-skewness', 'n_[9]-agg-any', 'n_[9]-agg-all', 'n_[9]-agg-mean', 'n_[9]-agg-var', 'n_[9]-agg-min', 'n_[9]-agg-max', 'n_[9]-agg-median', 'n_[9]-agg-sum', 'n_[9]-agg-kurtosis', 'n_[9]-agg-skewness', 'n_[a]-agg-any', 'n_[a]-agg-all', 'n_[a]-agg-mean', 'n_[a]-agg-var', 'n_[a]-agg-min', 'n_[a]-agg-max', 'n_[a]-agg-median', 'n_[a]-agg-sum', 'n_[a]-agg-kurtosis', 'n_[a]-agg-skewness', 'n_[b]-agg-any', 'n_[b]-agg-all', 'n_[b]-agg-mean', 'n_[b]-agg-var', 'n_[b]-agg-min', 'n_[b]-agg-max', 'n_[b]-agg-median', 'n_[b]-agg-sum', 'n_[b]-agg-kurtosis', 'n_[b]-agg-skewness', 'n_[c]-agg-any', 'n_[c]-agg-all', 'n_[c]-agg-mean', 'n_[c]-agg-var', 'n_[c]-agg-min', 'n_[c]-agg-max', 'n_[c]-agg-median', 'n_[c]-agg-sum', 'n_[c]-agg-kurtosis', 'n_[c]-agg-skewness', 'n_[d]-agg-any', 'n_[d]-agg-all', 'n_[d]-agg-mean', 'n_[d]-agg-var', 'n_[d]-agg-min', 'n_[d]-agg-max', 'n_[d]-agg-median', 'n_[d]-agg-sum', 'n_[d]-agg-kurtosis', 'n_[d]-agg-skewness', 'n_[e]-agg-any', 'n_[e]-agg-all', 'n_[e]-agg-mean', 'n_[e]-agg-var', 'n_[e]-agg-min', 'n_[e]-agg-max', 'n_[e]-agg-median', 'n_[e]-agg-sum', 'n_[e]-agg-kurtosis', 'n_[e]-agg-skewness', 'n_[f]-agg-any', 'n_[f]-agg-all', 'n_[f]-agg-mean', 'n_[f]-agg-var', 'n_[f]-agg-min', 'n_[f]-agg-max', 'n_[f]-agg-median', 'n_[f]-agg-sum', 'n_[f]-agg-kurtosis', 'n_[f]-agg-skewness', 'n_[g]-agg-any', 'n_[g]-agg-all', 'n_[g]-agg-mean', 'n_[g]-agg-var', 'n_[g]-agg-min', 'n_[g]-agg-max', 'n_[g]-agg-median', 'n_[g]-agg-sum', 'n_[g]-agg-kurtosis', 'n_[g]-agg-skewness', 'n_[h]-agg-any', 'n_[h]-agg-all', 'n_[h]-agg-mean', 'n_[h]-agg-var', 'n_[h]-agg-min', 'n_[h]-agg-max', 'n_[h]-agg-median', 'n_[h]-agg-sum', 'n_[h]-agg-kurtosis', 'n_[h]-agg-skewness', 'n_[i]-agg-any', 'n_[i]-agg-all', 'n_[i]-agg-mean', 'n_[i]-agg-var', 'n_[i]-agg-min', 'n_[i]-agg-max', 'n_[i]-agg-median', 'n_[i]-agg-sum', 'n_[i]-agg-kurtosis', 'n_[i]-agg-skewness', 'n_[j]-agg-any', 'n_[j]-agg-all', 'n_[j]-agg-mean', 'n_[j]-agg-var', 'n_[j]-agg-min', 'n_[j]-agg-max', 'n_[j]-agg-median', 'n_[j]-agg-sum', 'n_[j]-agg-kurtosis', 'n_[j]-agg-skewness', 'n_[k]-agg-any', 'n_[k]-agg-all', 'n_[k]-agg-mean', 'n_[k]-agg-var', 'n_[k]-agg-min', 'n_[k]-agg-max', 'n_[k]-agg-median', 'n_[k]-agg-sum', 'n_[k]-agg-kurtosis', 'n_[k]-agg-skewness', 'n_[l]-agg-any', 'n_[l]-agg-all', 'n_[l]-agg-mean', 'n_[l]-agg-var', 'n_[l]-agg-min', 'n_[l]-agg-max', 'n_[l]-agg-median', 'n_[l]-agg-sum', 'n_[l]-agg-kurtosis', 'n_[l]-agg-skewness', 'n_[m]-agg-any', 'n_[m]-agg-all', 'n_[m]-agg-mean', 'n_[m]-agg-var', 'n_[m]-agg-min', 'n_[m]-agg-max', 'n_[m]-agg-median', 'n_[m]-agg-sum', 'n_[m]-agg-kurtosis', 'n_[m]-agg-skewness', 'n_[n]-agg-any', 'n_[n]-agg-all', 'n_[n]-agg-mean', 'n_[n]-agg-var', 'n_[n]-agg-min', 'n_[n]-agg-max', 'n_[n]-agg-median', 'n_[n]-agg-sum', 'n_[n]-agg-kurtosis', 'n_[n]-agg-skewness', 'n_[o]-agg-any', 'n_[o]-agg-all', 'n_[o]-agg-mean', 'n_[o]-agg-var', 'n_[o]-agg-min', 'n_[o]-agg-max', 'n_[o]-agg-median', 'n_[o]-agg-sum', 'n_[o]-agg-kurtosis', 'n_[o]-agg-skewness', 'n_[p]-agg-any', 'n_[p]-agg-all', 'n_[p]-agg-mean', 'n_[p]-agg-var', 'n_[p]-agg-min', 'n_[p]-agg-max', 'n_[p]-agg-median', 'n_[p]-agg-sum', 'n_[p]-agg-kurtosis', 'n_[p]-agg-skewness', 'n_[q]-agg-any', 'n_[q]-agg-all', 'n_[q]-agg-mean', 'n_[q]-agg-var', 'n_[q]-agg-min', 'n_[q]-agg-max', 'n_[q]-agg-median', 'n_[q]-agg-sum', 'n_[q]-agg-kurtosis', 'n_[q]-agg-skewness', 'n_[r]-agg-any', 'n_[r]-agg-all', 'n_[r]-agg-mean', 'n_[r]-agg-var', 'n_[r]-agg-min', 'n_[r]-agg-max', 'n_[r]-agg-median', 'n_[r]-agg-sum', 'n_[r]-agg-kurtosis', 'n_[r]-agg-skewness', 'n_[s]-agg-any', 'n_[s]-agg-all', 'n_[s]-agg-mean', 'n_[s]-agg-var', 'n_[s]-agg-min', 'n_[s]-agg-max', 'n_[s]-agg-median', 'n_[s]-agg-sum', 'n_[s]-agg-kurtosis', 'n_[s]-agg-skewness', 'n_[t]-agg-any', 'n_[t]-agg-all', 'n_[t]-agg-mean', 'n_[t]-agg-var', 'n_[t]-agg-min', 'n_[t]-agg-max', 'n_[t]-agg-median', 'n_[t]-agg-sum', 'n_[t]-agg-kurtosis', 'n_[t]-agg-skewness', 'n_[u]-agg-any', 'n_[u]-agg-all', 'n_[u]-agg-mean', 'n_[u]-agg-var', 'n_[u]-agg-min', 'n_[u]-agg-max', 'n_[u]-agg-median', 'n_[u]-agg-sum', 'n_[u]-agg-kurtosis', 'n_[u]-agg-skewness', 'n_[v]-agg-any', 'n_[v]-agg-all', 'n_[v]-agg-mean', 'n_[v]-agg-var', 'n_[v]-agg-min', 'n_[v]-agg-max', 'n_[v]-agg-median', 'n_[v]-agg-sum', 'n_[v]-agg-kurtosis', 'n_[v]-agg-skewness', 'n_[w]-agg-any', 'n_[w]-agg-all', 'n_[w]-agg-mean', 'n_[w]-agg-var', 'n_[w]-agg-min', 'n_[w]-agg-max', 'n_[w]-agg-median', 'n_[w]-agg-sum', 'n_[w]-agg-kurtosis', 'n_[w]-agg-skewness', 'n_[x]-agg-any', 'n_[x]-agg-all', 'n_[x]-agg-mean', 'n_[x]-agg-var', 'n_[x]-agg-min', 'n_[x]-agg-max', 'n_[x]-agg-median', 'n_[x]-agg-sum', 'n_[x]-agg-kurtosis', 'n_[x]-agg-skewness', 'n_[y]-agg-any', 'n_[y]-agg-all', 'n_[y]-agg-mean', 'n_[y]-agg-var', 'n_[y]-agg-min', 'n_[y]-agg-max', 'n_[y]-agg-median', 'n_[y]-agg-sum', 'n_[y]-agg-kurtosis', 'n_[y]-agg-skewness', 'n_[z]-agg-any', 'n_[z]-agg-all', 'n_[z]-agg-mean', 'n_[z]-agg-var', 'n_[z]-agg-min', 'n_[z]-agg-max', 'n_[z]-agg-median', 'n_[z]-agg-sum', 'n_[z]-agg-kurtosis', 'n_[z]-agg-skewness', 'n_[A]-agg-any', 'n_[A]-agg-all', 'n_[A]-agg-mean', 'n_[A]-agg-var', 'n_[A]-agg-min', 'n_[A]-agg-max', 'n_[A]-agg-median', 'n_[A]-agg-sum', 'n_[A]-agg-kurtosis', 'n_[A]-agg-skewness', 'n_[B]-agg-any', 'n_[B]-agg-all', 'n_[B]-agg-mean', 'n_[B]-agg-var', 'n_[B]-agg-min', 'n_[B]-agg-max', 'n_[B]-agg-median', 'n_[B]-agg-sum', 'n_[B]-agg-kurtosis', 'n_[B]-agg-skewness', 'n_[C]-agg-any', 'n_[C]-agg-all', 'n_[C]-agg-mean', 'n_[C]-agg-var', 'n_[C]-agg-min', 'n_[C]-agg-max', 'n_[C]-agg-median', 'n_[C]-agg-sum', 'n_[C]-agg-kurtosis', 'n_[C]-agg-skewness', 'n_[D]-agg-any', 'n_[D]-agg-all', 'n_[D]-agg-mean', 'n_[D]-agg-var', 'n_[D]-agg-min', 'n_[D]-agg-max', 'n_[D]-agg-median', 'n_[D]-agg-sum', 'n_[D]-agg-kurtosis', 'n_[D]-agg-skewness', 'n_[E]-agg-any', 'n_[E]-agg-all', 'n_[E]-agg-mean', 'n_[E]-agg-var', 'n_[E]-agg-min', 'n_[E]-agg-max', 'n_[E]-agg-median', 'n_[E]-agg-sum', 'n_[E]-agg-kurtosis', 'n_[E]-agg-skewness', 'n_[F]-agg-any', 'n_[F]-agg-all', 'n_[F]-agg-mean', 'n_[F]-agg-var', 'n_[F]-agg-min', 'n_[F]-agg-max', 'n_[F]-agg-median', 'n_[F]-agg-sum', 'n_[F]-agg-kurtosis', 'n_[F]-agg-skewness', 'n_[G]-agg-any', 'n_[G]-agg-all', 'n_[G]-agg-mean', 'n_[G]-agg-var', 'n_[G]-agg-min', 'n_[G]-agg-max', 'n_[G]-agg-median', 'n_[G]-agg-sum', 'n_[G]-agg-kurtosis', 'n_[G]-agg-skewness', 'n_[H]-agg-any', 'n_[H]-agg-all', 'n_[H]-agg-mean', 'n_[H]-agg-var', 'n_[H]-agg-min', 'n_[H]-agg-max', 'n_[H]-agg-median', 'n_[H]-agg-sum', 'n_[H]-agg-kurtosis', 'n_[H]-agg-skewness', 'n_[I]-agg-any', 'n_[I]-agg-all', 'n_[I]-agg-mean', 'n_[I]-agg-var', 'n_[I]-agg-min', 'n_[I]-agg-max', 'n_[I]-agg-median', 'n_[I]-agg-sum', 'n_[I]-agg-kurtosis', 'n_[I]-agg-skewness', 'n_[J]-agg-any', 'n_[J]-agg-all', 'n_[J]-agg-mean', 'n_[J]-agg-var', 'n_[J]-agg-min', 'n_[J]-agg-max', 'n_[J]-agg-median', 'n_[J]-agg-sum', 'n_[J]-agg-kurtosis', 'n_[J]-agg-skewness', 'n_[K]-agg-any', 'n_[K]-agg-all', 'n_[K]-agg-mean', 'n_[K]-agg-var', 'n_[K]-agg-min', 'n_[K]-agg-max', 'n_[K]-agg-median', 'n_[K]-agg-sum', 'n_[K]-agg-kurtosis', 'n_[K]-agg-skewness', 'n_[L]-agg-any', 'n_[L]-agg-all', 'n_[L]-agg-mean', 'n_[L]-agg-var', 'n_[L]-agg-min', 'n_[L]-agg-max', 'n_[L]-agg-median', 'n_[L]-agg-sum', 'n_[L]-agg-kurtosis', 'n_[L]-agg-skewness', 'n_[M]-agg-any', 'n_[M]-agg-all', 'n_[M]-agg-mean', 'n_[M]-agg-var', 'n_[M]-agg-min', 'n_[M]-agg-max', 'n_[M]-agg-median', 'n_[M]-agg-sum', 'n_[M]-agg-kurtosis', 'n_[M]-agg-skewness', 'n_[N]-agg-any', 'n_[N]-agg-all', 'n_[N]-agg-mean', 'n_[N]-agg-var', 'n_[N]-agg-min', 'n_[N]-agg-max', 'n_[N]-agg-median', 'n_[N]-agg-sum', 'n_[N]-agg-kurtosis', 'n_[N]-agg-skewness', 'n_[O]-agg-any', 'n_[O]-agg-all', 'n_[O]-agg-mean', 'n_[O]-agg-var', 'n_[O]-agg-min', 'n_[O]-agg-max', 'n_[O]-agg-median', 'n_[O]-agg-sum', 'n_[O]-agg-kurtosis', 'n_[O]-agg-skewness', 'n_[P]-agg-any', 'n_[P]-agg-all', 'n_[P]-agg-mean', 'n_[P]-agg-var', 'n_[P]-agg-min', 'n_[P]-agg-max', 'n_[P]-agg-median', 'n_[P]-agg-sum', 'n_[P]-agg-kurtosis', 'n_[P]-agg-skewness', 'n_[Q]-agg-any', 'n_[Q]-agg-all', 'n_[Q]-agg-mean', 'n_[Q]-agg-var', 'n_[Q]-agg-min', 'n_[Q]-agg-max', 'n_[Q]-agg-median', 'n_[Q]-agg-sum', 'n_[Q]-agg-kurtosis', 'n_[Q]-agg-skewness', 'n_[R]-agg-any', 'n_[R]-agg-all', 'n_[R]-agg-mean', 'n_[R]-agg-var', 'n_[R]-agg-min', 'n_[R]-agg-max', 'n_[R]-agg-median', 'n_[R]-agg-sum', 'n_[R]-agg-kurtosis', 'n_[R]-agg-skewness', 'n_[S]-agg-any', 'n_[S]-agg-all', 'n_[S]-agg-mean', 'n_[S]-agg-var', 'n_[S]-agg-min', 'n_[S]-agg-max', 'n_[S]-agg-median', 'n_[S]-agg-sum', 'n_[S]-agg-kurtosis', 'n_[S]-agg-skewness', 'n_[T]-agg-any', 'n_[T]-agg-all', 'n_[T]-agg-mean', 'n_[T]-agg-var', 'n_[T]-agg-min', 'n_[T]-agg-max', 'n_[T]-agg-median', 'n_[T]-agg-sum', 'n_[T]-agg-kurtosis', 'n_[T]-agg-skewness', 'n_[U]-agg-any', 'n_[U]-agg-all', 'n_[U]-agg-mean', 'n_[U]-agg-var', 'n_[U]-agg-min', 'n_[U]-agg-max', 'n_[U]-agg-median', 'n_[U]-agg-sum', 'n_[U]-agg-kurtosis', 'n_[U]-agg-skewness', 'n_[V]-agg-any', 'n_[V]-agg-all', 'n_[V]-agg-mean', 'n_[V]-agg-var', 'n_[V]-agg-min', 'n_[V]-agg-max', 'n_[V]-agg-median', 'n_[V]-agg-sum', 'n_[V]-agg-kurtosis', 'n_[V]-agg-skewness', 'n_[W]-agg-any', 'n_[W]-agg-all', 'n_[W]-agg-mean', 'n_[W]-agg-var', 'n_[W]-agg-min', 'n_[W]-agg-max', 'n_[W]-agg-median', 'n_[W]-agg-sum', 'n_[W]-agg-kurtosis', 'n_[W]-agg-skewness', 'n_[X]-agg-any', 'n_[X]-agg-all', 'n_[X]-agg-mean', 'n_[X]-agg-var', 'n_[X]-agg-min', 'n_[X]-agg-max', 'n_[X]-agg-median', 'n_[X]-agg-sum', 'n_[X]-agg-kurtosis', 'n_[X]-agg-skewness', 'n_[Y]-agg-any', 'n_[Y]-agg-all', 'n_[Y]-agg-mean', 'n_[Y]-agg-var', 'n_[Y]-agg-min', 'n_[Y]-agg-max', 'n_[Y]-agg-median', 'n_[Y]-agg-sum', 'n_[Y]-agg-kurtosis', 'n_[Y]-agg-skewness', 'n_[Z]-agg-any', 'n_[Z]-agg-all', 'n_[Z]-agg-mean', 'n_[Z]-agg-var', 'n_[Z]-agg-min', 'n_[Z]-agg-max', 'n_[Z]-agg-median', 'n_[Z]-agg-sum', 'n_[Z]-agg-kurtosis', 'n_[Z]-agg-skewness', 'n_[!]-agg-any', 'n_[!]-agg-all', 'n_[!]-agg-mean', 'n_[!]-agg-var', 'n_[!]-agg-min', 'n_[!]-agg-max', 'n_[!]-agg-median', 'n_[!]-agg-sum', 'n_[!]-agg-kurtosis', 'n_[!]-agg-skewness', 'n_[\"]-agg-any', 'n_[\"]-agg-all', 'n_[\"]-agg-mean', 'n_[\"]-agg-var', 'n_[\"]-agg-min', 'n_[\"]-agg-max', 'n_[\"]-agg-median', 'n_[\"]-agg-sum', 'n_[\"]-agg-kurtosis', 'n_[\"]-agg-skewness', 'n_[#]-agg-any', 'n_[#]-agg-all', 'n_[#]-agg-mean', 'n_[#]-agg-var', 'n_[#]-agg-min', 'n_[#]-agg-max', 'n_[#]-agg-median', 'n_[#]-agg-sum', 'n_[#]-agg-kurtosis', 'n_[#]-agg-skewness', 'n_[$]-agg-any', 'n_[$]-agg-all', 'n_[$]-agg-mean', 'n_[$]-agg-var', 'n_[$]-agg-min', 'n_[$]-agg-max', 'n_[$]-agg-median', 'n_[$]-agg-sum', 'n_[$]-agg-kurtosis', 'n_[$]-agg-skewness', 'n_[%]-agg-any', 'n_[%]-agg-all', 'n_[%]-agg-mean', 'n_[%]-agg-var', 'n_[%]-agg-min', 'n_[%]-agg-max', 'n_[%]-agg-median', 'n_[%]-agg-sum', 'n_[%]-agg-kurtosis', 'n_[%]-agg-skewness', 'n_[&]-agg-any', 'n_[&]-agg-all', 'n_[&]-agg-mean', 'n_[&]-agg-var', 'n_[&]-agg-min', 'n_[&]-agg-max', 'n_[&]-agg-median', 'n_[&]-agg-sum', 'n_[&]-agg-kurtosis', 'n_[&]-agg-skewness', \"n_[']-agg-any\", \"n_[']-agg-all\", \"n_[']-agg-mean\", \"n_[']-agg-var\", \"n_[']-agg-min\", \"n_[']-agg-max\", \"n_[']-agg-median\", \"n_[']-agg-sum\", \"n_[']-agg-kurtosis\", \"n_[']-agg-skewness\", 'n_[(]-agg-any', 'n_[(]-agg-all', 'n_[(]-agg-mean', 'n_[(]-agg-var', 'n_[(]-agg-min', 'n_[(]-agg-max', 'n_[(]-agg-median', 'n_[(]-agg-sum', 'n_[(]-agg-kurtosis', 'n_[(]-agg-skewness', 'n_[)]-agg-any', 'n_[)]-agg-all', 'n_[)]-agg-mean', 'n_[)]-agg-var', 'n_[)]-agg-min', 'n_[)]-agg-max', 'n_[)]-agg-median', 'n_[)]-agg-sum', 'n_[)]-agg-kurtosis', 'n_[)]-agg-skewness', 'n_[*]-agg-any', 'n_[*]-agg-all', 'n_[*]-agg-mean', 'n_[*]-agg-var', 'n_[*]-agg-min', 'n_[*]-agg-max', 'n_[*]-agg-median', 'n_[*]-agg-sum', 'n_[*]-agg-kurtosis', 'n_[*]-agg-skewness', 'n_[+]-agg-any', 'n_[+]-agg-all', 'n_[+]-agg-mean', 'n_[+]-agg-var', 'n_[+]-agg-min', 'n_[+]-agg-max', 'n_[+]-agg-median', 'n_[+]-agg-sum', 'n_[+]-agg-kurtosis', 'n_[+]-agg-skewness', 'n_[,]-agg-any', 'n_[,]-agg-all', 'n_[,]-agg-mean', 'n_[,]-agg-var', 'n_[,]-agg-min', 'n_[,]-agg-max', 'n_[,]-agg-median', 'n_[,]-agg-sum', 'n_[,]-agg-kurtosis', 'n_[,]-agg-skewness', 'n_[-]-agg-any', 'n_[-]-agg-all', 'n_[-]-agg-mean', 'n_[-]-agg-var', 'n_[-]-agg-min', 'n_[-]-agg-max', 'n_[-]-agg-median', 'n_[-]-agg-sum', 'n_[-]-agg-kurtosis', 'n_[-]-agg-skewness', 'n_[.]-agg-any', 'n_[.]-agg-all', 'n_[.]-agg-mean', 'n_[.]-agg-var', 'n_[.]-agg-min', 'n_[.]-agg-max', 'n_[.]-agg-median', 'n_[.]-agg-sum', 'n_[.]-agg-kurtosis', 'n_[.]-agg-skewness', 'n_[/]-agg-any', 'n_[/]-agg-all', 'n_[/]-agg-mean', 'n_[/]-agg-var', 'n_[/]-agg-min', 'n_[/]-agg-max', 'n_[/]-agg-median', 'n_[/]-agg-sum', 'n_[/]-agg-kurtosis', 'n_[/]-agg-skewness', 'n_[:]-agg-any', 'n_[:]-agg-all', 'n_[:]-agg-mean', 'n_[:]-agg-var', 'n_[:]-agg-min', 'n_[:]-agg-max', 'n_[:]-agg-median', 'n_[:]-agg-sum', 'n_[:]-agg-kurtosis', 'n_[:]-agg-skewness', 'n_[;]-agg-any', 'n_[;]-agg-all', 'n_[;]-agg-mean', 'n_[;]-agg-var', 'n_[;]-agg-min', 'n_[;]-agg-max', 'n_[;]-agg-median', 'n_[;]-agg-sum', 'n_[;]-agg-kurtosis', 'n_[;]-agg-skewness', 'n_[<]-agg-any', 'n_[<]-agg-all', 'n_[<]-agg-mean', 'n_[<]-agg-var', 'n_[<]-agg-min', 'n_[<]-agg-max', 'n_[<]-agg-median', 'n_[<]-agg-sum', 'n_[<]-agg-kurtosis', 'n_[<]-agg-skewness', 'n_[=]-agg-any', 'n_[=]-agg-all', 'n_[=]-agg-mean', 'n_[=]-agg-var', 'n_[=]-agg-min', 'n_[=]-agg-max', 'n_[=]-agg-median', 'n_[=]-agg-sum', 'n_[=]-agg-kurtosis', 'n_[=]-agg-skewness', 'n_[>]-agg-any', 'n_[>]-agg-all', 'n_[>]-agg-mean', 'n_[>]-agg-var', 'n_[>]-agg-min', 'n_[>]-agg-max', 'n_[>]-agg-median', 'n_[>]-agg-sum', 'n_[>]-agg-kurtosis', 'n_[>]-agg-skewness', 'n_[?]-agg-any', 'n_[?]-agg-all', 'n_[?]-agg-mean', 'n_[?]-agg-var', 'n_[?]-agg-min', 'n_[?]-agg-max', 'n_[?]-agg-median', 'n_[?]-agg-sum', 'n_[?]-agg-kurtosis', 'n_[?]-agg-skewness', 'n_[@]-agg-any', 'n_[@]-agg-all', 'n_[@]-agg-mean', 'n_[@]-agg-var', 'n_[@]-agg-min', 'n_[@]-agg-max', 'n_[@]-agg-median', 'n_[@]-agg-sum', 'n_[@]-agg-kurtosis', 'n_[@]-agg-skewness', 'n_[[]-agg-any', 'n_[[]-agg-all', 'n_[[]-agg-mean', 'n_[[]-agg-var', 'n_[[]-agg-min', 'n_[[]-agg-max', 'n_[[]-agg-median', 'n_[[]-agg-sum', 'n_[[]-agg-kurtosis', 'n_[[]-agg-skewness', 'n_[]]-agg-any', 'n_[]]-agg-all', 'n_[]]-agg-mean', 'n_[]]-agg-var', 'n_[]]-agg-min', 'n_[]]-agg-max', 'n_[]]-agg-median', 'n_[]]-agg-sum', 'n_[]]-agg-kurtosis', 'n_[]]-agg-skewness', 'n_[_]-agg-any', 'n_[_]-agg-all', 'n_[_]-agg-mean', 'n_[_]-agg-var', 'n_[_]-agg-min', 'n_[_]-agg-max', 'n_[_]-agg-median', 'n_[_]-agg-sum', 'n_[_]-agg-kurtosis', 'n_[_]-agg-skewness', 'n_[`]-agg-any', 'n_[`]-agg-all', 'n_[`]-agg-mean', 'n_[`]-agg-var', 'n_[`]-agg-min', 'n_[`]-agg-max', 'n_[`]-agg-median', 'n_[`]-agg-sum', 'n_[`]-agg-kurtosis', 'n_[`]-agg-skewness', 'n_[{]-agg-any', 'n_[{]-agg-all', 'n_[{]-agg-mean', 'n_[{]-agg-var', 'n_[{]-agg-min', 'n_[{]-agg-max', 'n_[{]-agg-median', 'n_[{]-agg-sum', 'n_[{]-agg-kurtosis', 'n_[{]-agg-skewness', 'n_[|]-agg-any', 'n_[|]-agg-all', 'n_[|]-agg-mean', 'n_[|]-agg-var', 'n_[|]-agg-min', 'n_[|]-agg-max', 'n_[|]-agg-median', 'n_[|]-agg-sum', 'n_[|]-agg-kurtosis', 'n_[|]-agg-skewness', 'n_[}]-agg-any', 'n_[}]-agg-all', 'n_[}]-agg-mean', 'n_[}]-agg-var', 'n_[}]-agg-min', 'n_[}]-agg-max', 'n_[}]-agg-median', 'n_[}]-agg-sum', 'n_[}]-agg-kurtosis', 'n_[}]-agg-skewness', 'n_[~]-agg-any', 'n_[~]-agg-all', 'n_[~]-agg-mean', 'n_[~]-agg-var', 'n_[~]-agg-min', 'n_[~]-agg-max', 'n_[~]-agg-median', 'n_[~]-agg-sum', 'n_[~]-agg-kurtosis', 'n_[~]-agg-skewness', 'n_[ ]-agg-any', 'n_[ ]-agg-all', 'n_[ ]-agg-mean', 'n_[ ]-agg-var', 'n_[ ]-agg-min', 'n_[ ]-agg-max', 'n_[ ]-agg-median', 'n_[ ]-agg-sum', 'n_[ ]-agg-kurtosis', 'n_[ ]-agg-skewness', 'n_[\\x0c]-agg-any', 'n_[\\x0c]-agg-all', 'n_[\\x0c]-agg-mean', 'n_[\\x0c]-agg-var', 'n_[\\x0c]-agg-min', 'n_[\\x0c]-agg-max', 'n_[\\x0c]-agg-median', 'n_[\\x0c]-agg-sum', 'n_[\\x0c]-agg-kurtosis', 'n_[\\x0c]-agg-skewness', 'n_[\\\\]-agg-any', 'n_[\\\\]-agg-all', 'n_[\\\\]-agg-mean', 'n_[\\\\]-agg-var', 'n_[\\\\]-agg-min', 'n_[\\\\]-agg-max', 'n_[\\\\]-agg-median', 'n_[\\\\]-agg-sum', 'n_[\\\\]-agg-kurtosis', 'n_[\\\\]-agg-skewness', 'n_[^]-agg-any', 'n_[^]-agg-all', 'n_[^]-agg-mean', 'n_[^]-agg-var', 'n_[^]-agg-min', 'n_[^]-agg-max', 'n_[^]-agg-median', 'n_[^]-agg-sum', 'n_[^]-agg-kurtosis', 'n_[^]-agg-skewness', 'word_embedding_avg_0', 'word_embedding_avg_1', 'word_embedding_avg_2', 'word_embedding_avg_3', 'word_embedding_avg_4', 'word_embedding_avg_5', 'word_embedding_avg_6', 'word_embedding_avg_7', 'word_embedding_avg_8', 'word_embedding_avg_9', 'word_embedding_avg_10', 'word_embedding_avg_11', 'word_embedding_avg_12', 'word_embedding_avg_13', 'word_embedding_avg_14', 'word_embedding_avg_15', 'word_embedding_avg_16', 'word_embedding_avg_17', 'word_embedding_avg_18', 'word_embedding_avg_19', 'word_embedding_avg_20', 'word_embedding_avg_21', 'word_embedding_avg_22', 'word_embedding_avg_23', 'word_embedding_avg_24', 'word_embedding_avg_25', 'word_embedding_avg_26', 'word_embedding_avg_27', 'word_embedding_avg_28', 'word_embedding_avg_29', 'word_embedding_avg_30', 'word_embedding_avg_31', 'word_embedding_avg_32', 'word_embedding_avg_33', 'word_embedding_avg_34', 'word_embedding_avg_35', 'word_embedding_avg_36', 'word_embedding_avg_37', 'word_embedding_avg_38', 'word_embedding_avg_39', 'word_embedding_avg_40', 'word_embedding_avg_41', 'word_embedding_avg_42', 'word_embedding_avg_43', 'word_embedding_avg_44', 'word_embedding_avg_45', 'word_embedding_avg_46', 'word_embedding_avg_47', 'word_embedding_avg_48', 'word_embedding_avg_49', 'word_embedding_std_0', 'word_embedding_std_1', 'word_embedding_std_2', 'word_embedding_std_3', 'word_embedding_std_4', 'word_embedding_std_5', 'word_embedding_std_6', 'word_embedding_std_7', 'word_embedding_std_8', 'word_embedding_std_9', 'word_embedding_std_10', 'word_embedding_std_11', 'word_embedding_std_12', 'word_embedding_std_13', 'word_embedding_std_14', 'word_embedding_std_15', 'word_embedding_std_16', 'word_embedding_std_17', 'word_embedding_std_18', 'word_embedding_std_19', 'word_embedding_std_20', 'word_embedding_std_21', 'word_embedding_std_22', 'word_embedding_std_23', 'word_embedding_std_24', 'word_embedding_std_25', 'word_embedding_std_26', 'word_embedding_std_27', 'word_embedding_std_28', 'word_embedding_std_29', 'word_embedding_std_30', 'word_embedding_std_31', 'word_embedding_std_32', 'word_embedding_std_33', 'word_embedding_std_34', 'word_embedding_std_35', 'word_embedding_std_36', 'word_embedding_std_37', 'word_embedding_std_38', 'word_embedding_std_39', 'word_embedding_std_40', 'word_embedding_std_41', 'word_embedding_std_42', 'word_embedding_std_43', 'word_embedding_std_44', 'word_embedding_std_45', 'word_embedding_std_46', 'word_embedding_std_47', 'word_embedding_std_48', 'word_embedding_std_49', 'word_embedding_med_0', 'word_embedding_med_1', 'word_embedding_med_2', 'word_embedding_med_3', 'word_embedding_med_4', 'word_embedding_med_5', 'word_embedding_med_6', 'word_embedding_med_7', 'word_embedding_med_8', 'word_embedding_med_9', 'word_embedding_med_10', 'word_embedding_med_11', 'word_embedding_med_12', 'word_embedding_med_13', 'word_embedding_med_14', 'word_embedding_med_15', 'word_embedding_med_16', 'word_embedding_med_17', 'word_embedding_med_18', 'word_embedding_med_19', 'word_embedding_med_20', 'word_embedding_med_21', 'word_embedding_med_22', 'word_embedding_med_23', 'word_embedding_med_24', 'word_embedding_med_25', 'word_embedding_med_26', 'word_embedding_med_27', 'word_embedding_med_28', 'word_embedding_med_29', 'word_embedding_med_30', 'word_embedding_med_31', 'word_embedding_med_32', 'word_embedding_med_33', 'word_embedding_med_34', 'word_embedding_med_35', 'word_embedding_med_36', 'word_embedding_med_37', 'word_embedding_med_38', 'word_embedding_med_39', 'word_embedding_med_40', 'word_embedding_med_41', 'word_embedding_med_42', 'word_embedding_med_43', 'word_embedding_med_44', 'word_embedding_med_45', 'word_embedding_med_46', 'word_embedding_med_47', 'word_embedding_med_48', 'word_embedding_med_49', 'word_embedding_mode_0', 'word_embedding_mode_1', 'word_embedding_mode_2', 'word_embedding_mode_3', 'word_embedding_mode_4', 'word_embedding_mode_5', 'word_embedding_mode_6', 'word_embedding_mode_7', 'word_embedding_mode_8', 'word_embedding_mode_9', 'word_embedding_mode_10', 'word_embedding_mode_11', 'word_embedding_mode_12', 'word_embedding_mode_13', 'word_embedding_mode_14', 'word_embedding_mode_15', 'word_embedding_mode_16', 'word_embedding_mode_17', 'word_embedding_mode_18', 'word_embedding_mode_19', 'word_embedding_mode_20', 'word_embedding_mode_21', 'word_embedding_mode_22', 'word_embedding_mode_23', 'word_embedding_mode_24', 'word_embedding_mode_25', 'word_embedding_mode_26', 'word_embedding_mode_27', 'word_embedding_mode_28', 'word_embedding_mode_29', 'word_embedding_mode_30', 'word_embedding_mode_31', 'word_embedding_mode_32', 'word_embedding_mode_33', 'word_embedding_mode_34', 'word_embedding_mode_35', 'word_embedding_mode_36', 'word_embedding_mode_37', 'word_embedding_mode_38', 'word_embedding_mode_39', 'word_embedding_mode_40', 'word_embedding_mode_41', 'word_embedding_mode_42', 'word_embedding_mode_43', 'word_embedding_mode_44', 'word_embedding_mode_45', 'word_embedding_mode_46', 'word_embedding_mode_47', 'word_embedding_mode_48', 'word_embedding_mode_49', 'word_embedding_feature', 'col_entropy', 'frac_unique', 'frac_numcells', 'frac_textcells', 'avg_num_cells', 'std_num_cells', 'avg_text_cells', 'std_text_cells', 'avg_spec_cells', 'std_spec_cells', 'avg_word_cells', 'std_word_cells', 'n_values', 'length-agg-any', 'length-agg-all', 'length-agg-mean', 'length-agg-var', 'length-agg-min', 'length-agg-max', 'length-agg-median', 'length-agg-sum', 'length-agg-kurtosis', 'length-agg-skewness', 'none-agg-has', 'none-agg-percent', 'none-agg-num', 'none-agg-all', 'par_vec_0', 'par_vec_1', 'par_vec_2', 'par_vec_3', 'par_vec_4', 'par_vec_5', 'par_vec_6', 'par_vec_7', 'par_vec_8', 'par_vec_9', 'par_vec_10', 'par_vec_11', 'par_vec_12', 'par_vec_13', 'par_vec_14', 'par_vec_15', 'par_vec_16', 'par_vec_17', 'par_vec_18', 'par_vec_19', 'par_vec_20', 'par_vec_21', 'par_vec_22', 'par_vec_23', 'par_vec_24', 'par_vec_25', 'par_vec_26', 'par_vec_27', 'par_vec_28', 'par_vec_29', 'par_vec_30', 'par_vec_31', 'par_vec_32', 'par_vec_33', 'par_vec_34', 'par_vec_35', 'par_vec_36', 'par_vec_37', 'par_vec_38', 'par_vec_39', 'par_vec_40', 'par_vec_41', 'par_vec_42', 'par_vec_43', 'par_vec_44', 'par_vec_45', 'par_vec_46', 'par_vec_47', 'par_vec_48', 'par_vec_49', 'par_vec_50', 'par_vec_51', 'par_vec_52', 'par_vec_53', 'par_vec_54', 'par_vec_55', 'par_vec_56', 'par_vec_57', 'par_vec_58', 'par_vec_59', 'par_vec_60', 'par_vec_61', 'par_vec_62', 'par_vec_63', 'par_vec_64', 'par_vec_65', 'par_vec_66', 'par_vec_67', 'par_vec_68', 'par_vec_69', 'par_vec_70', 'par_vec_71', 'par_vec_72', 'par_vec_73', 'par_vec_74', 'par_vec_75', 'par_vec_76', 'par_vec_77', 'par_vec_78', 'par_vec_79', 'par_vec_80', 'par_vec_81', 'par_vec_82', 'par_vec_83', 'par_vec_84', 'par_vec_85', 'par_vec_86', 'par_vec_87', 'par_vec_88', 'par_vec_89', 'par_vec_90', 'par_vec_91', 'par_vec_92', 'par_vec_93', 'par_vec_94', 'par_vec_95', 'par_vec_96', 'par_vec_97', 'par_vec_98', 'par_vec_99', 'par_vec_100', 'par_vec_101', 'par_vec_102', 'par_vec_103', 'par_vec_104', 'par_vec_105', 'par_vec_106', 'par_vec_107', 'par_vec_108', 'par_vec_109', 'par_vec_110', 'par_vec_111', 'par_vec_112', 'par_vec_113', 'par_vec_114', 'par_vec_115', 'par_vec_116', 'par_vec_117', 'par_vec_118', 'par_vec_119', 'par_vec_120', 'par_vec_121', 'par_vec_122', 'par_vec_123', 'par_vec_124', 'par_vec_125', 'par_vec_126', 'par_vec_127', 'par_vec_128', 'par_vec_129', 'par_vec_130', 'par_vec_131', 'par_vec_132', 'par_vec_133', 'par_vec_134', 'par_vec_135', 'par_vec_136', 'par_vec_137', 'par_vec_138', 'par_vec_139', 'par_vec_140', 'par_vec_141', 'par_vec_142', 'par_vec_143', 'par_vec_144', 'par_vec_145', 'par_vec_146', 'par_vec_147', 'par_vec_148', 'par_vec_149', 'par_vec_150', 'par_vec_151', 'par_vec_152', 'par_vec_153', 'par_vec_154', 'par_vec_155', 'par_vec_156', 'par_vec_157', 'par_vec_158', 'par_vec_159', 'par_vec_160', 'par_vec_161', 'par_vec_162', 'par_vec_163', 'par_vec_164', 'par_vec_165', 'par_vec_166', 'par_vec_167', 'par_vec_168', 'par_vec_169', 'par_vec_170', 'par_vec_171', 'par_vec_172', 'par_vec_173', 'par_vec_174', 'par_vec_175', 'par_vec_176', 'par_vec_177', 'par_vec_178', 'par_vec_179', 'par_vec_180', 'par_vec_181', 'par_vec_182', 'par_vec_183', 'par_vec_184', 'par_vec_185', 'par_vec_186', 'par_vec_187', 'par_vec_188', 'par_vec_189', 'par_vec_190', 'par_vec_191', 'par_vec_192', 'par_vec_193', 'par_vec_194', 'par_vec_195', 'par_vec_196', 'par_vec_197', 'par_vec_198', 'par_vec_199', 'par_vec_200', 'par_vec_201', 'par_vec_202', 'par_vec_203', 'par_vec_204', 'par_vec_205', 'par_vec_206', 'par_vec_207', 'par_vec_208', 'par_vec_209', 'par_vec_210', 'par_vec_211', 'par_vec_212', 'par_vec_213', 'par_vec_214', 'par_vec_215', 'par_vec_216', 'par_vec_217', 'par_vec_218', 'par_vec_219', 'par_vec_220', 'par_vec_221', 'par_vec_222', 'par_vec_223', 'par_vec_224', 'par_vec_225', 'par_vec_226', 'par_vec_227', 'par_vec_228', 'par_vec_229', 'par_vec_230', 'par_vec_231', 'par_vec_232', 'par_vec_233', 'par_vec_234', 'par_vec_235', 'par_vec_236', 'par_vec_237', 'par_vec_238', 'par_vec_239', 'par_vec_240', 'par_vec_241', 'par_vec_242', 'par_vec_243', 'par_vec_244', 'par_vec_245', 'par_vec_246', 'par_vec_247', 'par_vec_248', 'par_vec_249', 'par_vec_250', 'par_vec_251', 'par_vec_252', 'par_vec_253', 'par_vec_254', 'par_vec_255', 'par_vec_256', 'par_vec_257', 'par_vec_258', 'par_vec_259', 'par_vec_260', 'par_vec_261', 'par_vec_262', 'par_vec_263', 'par_vec_264', 'par_vec_265', 'par_vec_266', 'par_vec_267', 'par_vec_268', 'par_vec_269', 'par_vec_270', 'par_vec_271', 'par_vec_272', 'par_vec_273', 'par_vec_274', 'par_vec_275', 'par_vec_276', 'par_vec_277', 'par_vec_278', 'par_vec_279', 'par_vec_280', 'par_vec_281', 'par_vec_282', 'par_vec_283', 'par_vec_284', 'par_vec_285', 'par_vec_286', 'par_vec_287', 'par_vec_288', 'par_vec_289', 'par_vec_290', 'par_vec_291', 'par_vec_292', 'par_vec_293', 'par_vec_294', 'par_vec_295', 'par_vec_296', 'par_vec_297', 'par_vec_298', 'par_vec_299', 'par_vec_300', 'par_vec_301', 'par_vec_302', 'par_vec_303', 'par_vec_304', 'par_vec_305', 'par_vec_306', 'par_vec_307', 'par_vec_308', 'par_vec_309', 'par_vec_310', 'par_vec_311', 'par_vec_312', 'par_vec_313', 'par_vec_314', 'par_vec_315', 'par_vec_316', 'par_vec_317', 'par_vec_318', 'par_vec_319', 'par_vec_320', 'par_vec_321', 'par_vec_322', 'par_vec_323', 'par_vec_324', 'par_vec_325', 'par_vec_326', 'par_vec_327', 'par_vec_328', 'par_vec_329', 'par_vec_330', 'par_vec_331', 'par_vec_332', 'par_vec_333', 'par_vec_334', 'par_vec_335', 'par_vec_336', 'par_vec_337', 'par_vec_338', 'par_vec_339', 'par_vec_340', 'par_vec_341', 'par_vec_342', 'par_vec_343', 'par_vec_344', 'par_vec_345', 'par_vec_346', 'par_vec_347', 'par_vec_348', 'par_vec_349', 'par_vec_350', 'par_vec_351', 'par_vec_352', 'par_vec_353', 'par_vec_354', 'par_vec_355', 'par_vec_356', 'par_vec_357', 'par_vec_358', 'par_vec_359', 'par_vec_360', 'par_vec_361', 'par_vec_362', 'par_vec_363', 'par_vec_364', 'par_vec_365', 'par_vec_366', 'par_vec_367', 'par_vec_368', 'par_vec_369', 'par_vec_370', 'par_vec_371', 'par_vec_372', 'par_vec_373', 'par_vec_374', 'par_vec_375', 'par_vec_376', 'par_vec_377', 'par_vec_378', 'par_vec_379', 'par_vec_380', 'par_vec_381', 'par_vec_382', 'par_vec_383', 'par_vec_384', 'par_vec_385', 'par_vec_386', 'par_vec_387', 'par_vec_388', 'par_vec_389', 'par_vec_390', 'par_vec_391', 'par_vec_392', 'par_vec_393', 'par_vec_394', 'par_vec_395', 'par_vec_396', 'par_vec_397', 'par_vec_398', 'par_vec_399']\n",
      "Exporting 1588 column features\n"
     ]
    },
    {
     "name": "stdout",
     "output_type": "stream",
     "text": [
      "Finished. Processed 137353 rows in 0:11:28.580070, key_count=8\n"
     ]
    }
   ],
   "source": [
    "values = load_parquet_values(\"../data/data/raw/test_values.parquet\")\n",
    "\n",
    "extract_features_to_csv(X_test_filename_csv, values)\n",
    "\n",
    "values = None"
   ]
  },
  {
   "cell_type": "code",
   "execution_count": 13,
   "metadata": {},
   "outputs": [
    {
     "name": "stdout",
     "output_type": "stream",
     "text": [
      "Finished at 2022-02-11 09:08:20.271759\n"
     ]
    }
   ],
   "source": [
    "print(f'Finished at {datetime.now()}')"
   ]
  },
  {
   "cell_type": "markdown",
   "metadata": {},
   "source": [
    "### TRAIN SET"
   ]
  },
  {
   "cell_type": "code",
   "execution_count": 13,
   "metadata": {},
   "outputs": [],
   "source": [
    "values = load_parquet_values(\"../data/data/raw/train_values.parquet\")\n",
    "\n",
    "extract_features_to_csv(X_train_filename_csv, values)\n",
    "\n",
    "values = None"
   ]
  },
  {
   "cell_type": "code",
   "execution_count": 21,
   "metadata": {},
   "outputs": [
    {
     "name": "stdout",
     "output_type": "stream",
     "text": [
      "Finished at 2022-02-10 18:28:31.533353\n"
     ]
    }
   ],
   "source": [
    "print(f'Finished at {datetime.now()}')"
   ]
  },
  {
   "cell_type": "markdown",
   "metadata": {},
   "source": [
    "### VALIDATION SET"
   ]
  },
  {
   "cell_type": "code",
   "execution_count": 15,
   "metadata": {},
   "outputs": [],
   "source": [
    "values = load_parquet_values(\"../data/data/raw/val_values.parquet\")\n",
    "\n",
    "extract_features_to_csv(X_validation_filename_csv, values)\n",
    "\n",
    "values = None"
   ]
  },
  {
   "cell_type": "code",
   "execution_count": 23,
   "metadata": {},
   "outputs": [
    {
     "name": "stdout",
     "output_type": "stream",
     "text": [
      "Finished at 2022-02-10 18:33:02.388902\n"
     ]
    }
   ],
   "source": [
    "print(f'Finished at {datetime.now()}')"
   ]
  },
  {
   "cell_type": "markdown",
   "metadata": {},
   "source": [
    "### Read Locally Processed Features"
   ]
  },
  {
   "cell_type": "code",
   "execution_count": 24,
   "metadata": {},
   "outputs": [
    {
     "name": "stdout",
     "output_type": "stream",
     "text": [
      "Load Features (test) process took 0:00:31.909566 seconds.\n"
     ]
    }
   ],
   "source": [
    "start = datetime.now()\n",
    "\n",
    "X_test = pd.read_csv(X_test_filename_csv, dtype=np.float32)\n",
    "\n",
    "print(f'Load Features (test) process took {datetime.now() - start} seconds.')"
   ]
  },
  {
   "cell_type": "code",
   "execution_count": 25,
   "metadata": {},
   "outputs": [
    {
     "data": {
      "text/html": [
       "<div>\n",
       "<style scoped>\n",
       "    .dataframe tbody tr th:only-of-type {\n",
       "        vertical-align: middle;\n",
       "    }\n",
       "\n",
       "    .dataframe tbody tr th {\n",
       "        vertical-align: top;\n",
       "    }\n",
       "\n",
       "    .dataframe thead th {\n",
       "        text-align: right;\n",
       "    }\n",
       "</style>\n",
       "<table border=\"1\" class=\"dataframe\">\n",
       "  <thead>\n",
       "    <tr style=\"text-align: right;\">\n",
       "      <th></th>\n",
       "      <th>n_[0]-agg-any</th>\n",
       "      <th>n_[0]-agg-all</th>\n",
       "      <th>n_[0]-agg-mean</th>\n",
       "      <th>n_[0]-agg-var</th>\n",
       "      <th>n_[0]-agg-min</th>\n",
       "      <th>n_[0]-agg-max</th>\n",
       "      <th>n_[0]-agg-median</th>\n",
       "      <th>n_[0]-agg-sum</th>\n",
       "      <th>n_[0]-agg-kurtosis</th>\n",
       "      <th>n_[0]-agg-skewness</th>\n",
       "      <th>...</th>\n",
       "      <th>par_vec_390</th>\n",
       "      <th>par_vec_391</th>\n",
       "      <th>par_vec_392</th>\n",
       "      <th>par_vec_393</th>\n",
       "      <th>par_vec_394</th>\n",
       "      <th>par_vec_395</th>\n",
       "      <th>par_vec_396</th>\n",
       "      <th>par_vec_397</th>\n",
       "      <th>par_vec_398</th>\n",
       "      <th>par_vec_399</th>\n",
       "    </tr>\n",
       "  </thead>\n",
       "  <tbody>\n",
       "    <tr>\n",
       "      <th>0</th>\n",
       "      <td>0.0</td>\n",
       "      <td>0.0</td>\n",
       "      <td>0.000000</td>\n",
       "      <td>0.000000</td>\n",
       "      <td>0.0</td>\n",
       "      <td>0.0</td>\n",
       "      <td>0.0</td>\n",
       "      <td>0.0</td>\n",
       "      <td>-3.000000</td>\n",
       "      <td>0.000000</td>\n",
       "      <td>...</td>\n",
       "      <td>-0.124150</td>\n",
       "      <td>-0.160029</td>\n",
       "      <td>-0.140256</td>\n",
       "      <td>0.109107</td>\n",
       "      <td>-0.044414</td>\n",
       "      <td>-0.124615</td>\n",
       "      <td>-0.033864</td>\n",
       "      <td>0.111789</td>\n",
       "      <td>-0.014209</td>\n",
       "      <td>-0.160459</td>\n",
       "    </tr>\n",
       "    <tr>\n",
       "      <th>1</th>\n",
       "      <td>1.0</td>\n",
       "      <td>0.0</td>\n",
       "      <td>0.368421</td>\n",
       "      <td>0.337950</td>\n",
       "      <td>0.0</td>\n",
       "      <td>2.0</td>\n",
       "      <td>0.0</td>\n",
       "      <td>7.0</td>\n",
       "      <td>0.742677</td>\n",
       "      <td>1.326868</td>\n",
       "      <td>...</td>\n",
       "      <td>-0.060843</td>\n",
       "      <td>-0.009223</td>\n",
       "      <td>-0.062848</td>\n",
       "      <td>0.080908</td>\n",
       "      <td>-0.240975</td>\n",
       "      <td>-0.039260</td>\n",
       "      <td>-0.050986</td>\n",
       "      <td>-0.068109</td>\n",
       "      <td>-0.063214</td>\n",
       "      <td>-0.200062</td>\n",
       "    </tr>\n",
       "    <tr>\n",
       "      <th>2</th>\n",
       "      <td>0.0</td>\n",
       "      <td>0.0</td>\n",
       "      <td>0.000000</td>\n",
       "      <td>0.000000</td>\n",
       "      <td>0.0</td>\n",
       "      <td>0.0</td>\n",
       "      <td>0.0</td>\n",
       "      <td>0.0</td>\n",
       "      <td>-3.000000</td>\n",
       "      <td>0.000000</td>\n",
       "      <td>...</td>\n",
       "      <td>-0.254407</td>\n",
       "      <td>-0.140454</td>\n",
       "      <td>-0.077885</td>\n",
       "      <td>0.270047</td>\n",
       "      <td>-0.254806</td>\n",
       "      <td>-0.015952</td>\n",
       "      <td>-0.358635</td>\n",
       "      <td>-0.090083</td>\n",
       "      <td>0.120246</td>\n",
       "      <td>0.006599</td>\n",
       "    </tr>\n",
       "    <tr>\n",
       "      <th>3</th>\n",
       "      <td>0.0</td>\n",
       "      <td>0.0</td>\n",
       "      <td>0.000000</td>\n",
       "      <td>0.000000</td>\n",
       "      <td>0.0</td>\n",
       "      <td>0.0</td>\n",
       "      <td>0.0</td>\n",
       "      <td>0.0</td>\n",
       "      <td>-3.000000</td>\n",
       "      <td>0.000000</td>\n",
       "      <td>...</td>\n",
       "      <td>-0.096018</td>\n",
       "      <td>0.018162</td>\n",
       "      <td>-0.066431</td>\n",
       "      <td>-0.039642</td>\n",
       "      <td>-0.104596</td>\n",
       "      <td>-0.087560</td>\n",
       "      <td>-0.108518</td>\n",
       "      <td>0.023666</td>\n",
       "      <td>0.017810</td>\n",
       "      <td>-0.047467</td>\n",
       "    </tr>\n",
       "    <tr>\n",
       "      <th>4</th>\n",
       "      <td>1.0</td>\n",
       "      <td>0.0</td>\n",
       "      <td>0.020080</td>\n",
       "      <td>0.035741</td>\n",
       "      <td>0.0</td>\n",
       "      <td>2.0</td>\n",
       "      <td>0.0</td>\n",
       "      <td>5.0</td>\n",
       "      <td>96.521561</td>\n",
       "      <td>9.784149</td>\n",
       "      <td>...</td>\n",
       "      <td>-0.785815</td>\n",
       "      <td>-0.388175</td>\n",
       "      <td>-1.259390</td>\n",
       "      <td>1.080410</td>\n",
       "      <td>-0.445470</td>\n",
       "      <td>-0.532897</td>\n",
       "      <td>0.137333</td>\n",
       "      <td>-1.173960</td>\n",
       "      <td>1.222390</td>\n",
       "      <td>-1.423210</td>\n",
       "    </tr>\n",
       "  </tbody>\n",
       "</table>\n",
       "<p>5 rows × 1588 columns</p>\n",
       "</div>"
      ],
      "text/plain": [
       "   n_[0]-agg-any  n_[0]-agg-all  n_[0]-agg-mean  n_[0]-agg-var  n_[0]-agg-min  \\\n",
       "0            0.0            0.0        0.000000       0.000000            0.0   \n",
       "1            1.0            0.0        0.368421       0.337950            0.0   \n",
       "2            0.0            0.0        0.000000       0.000000            0.0   \n",
       "3            0.0            0.0        0.000000       0.000000            0.0   \n",
       "4            1.0            0.0        0.020080       0.035741            0.0   \n",
       "\n",
       "   n_[0]-agg-max  n_[0]-agg-median  n_[0]-agg-sum  n_[0]-agg-kurtosis  \\\n",
       "0            0.0               0.0            0.0           -3.000000   \n",
       "1            2.0               0.0            7.0            0.742677   \n",
       "2            0.0               0.0            0.0           -3.000000   \n",
       "3            0.0               0.0            0.0           -3.000000   \n",
       "4            2.0               0.0            5.0           96.521561   \n",
       "\n",
       "   n_[0]-agg-skewness  ...  par_vec_390  par_vec_391  par_vec_392  \\\n",
       "0            0.000000  ...    -0.124150    -0.160029    -0.140256   \n",
       "1            1.326868  ...    -0.060843    -0.009223    -0.062848   \n",
       "2            0.000000  ...    -0.254407    -0.140454    -0.077885   \n",
       "3            0.000000  ...    -0.096018     0.018162    -0.066431   \n",
       "4            9.784149  ...    -0.785815    -0.388175    -1.259390   \n",
       "\n",
       "   par_vec_393  par_vec_394  par_vec_395  par_vec_396  par_vec_397  \\\n",
       "0     0.109107    -0.044414    -0.124615    -0.033864     0.111789   \n",
       "1     0.080908    -0.240975    -0.039260    -0.050986    -0.068109   \n",
       "2     0.270047    -0.254806    -0.015952    -0.358635    -0.090083   \n",
       "3    -0.039642    -0.104596    -0.087560    -0.108518     0.023666   \n",
       "4     1.080410    -0.445470    -0.532897     0.137333    -1.173960   \n",
       "\n",
       "   par_vec_398  par_vec_399  \n",
       "0    -0.014209    -0.160459  \n",
       "1    -0.063214    -0.200062  \n",
       "2     0.120246     0.006599  \n",
       "3     0.017810    -0.047467  \n",
       "4     1.222390    -1.423210  \n",
       "\n",
       "[5 rows x 1588 columns]"
      ]
     },
     "execution_count": 25,
     "metadata": {},
     "output_type": "execute_result"
    }
   ],
   "source": [
    "X_test.head()"
   ]
  },
  {
   "cell_type": "code",
   "execution_count": 26,
   "metadata": {},
   "outputs": [
    {
     "name": "stdout",
     "output_type": "stream",
     "text": [
      "Load Features (train) process took 0:01:40.003595 seconds.\n"
     ]
    }
   ],
   "source": [
    "start = datetime.now()\n",
    "\n",
    "X_train = pd.read_csv(X_train_filename_csv, dtype=np.float32)\n",
    "\n",
    "print(f'Load Features (train) process took {datetime.now() - start} seconds.')"
   ]
  },
  {
   "cell_type": "code",
   "execution_count": 27,
   "metadata": {},
   "outputs": [
    {
     "data": {
      "text/html": [
       "<div>\n",
       "<style scoped>\n",
       "    .dataframe tbody tr th:only-of-type {\n",
       "        vertical-align: middle;\n",
       "    }\n",
       "\n",
       "    .dataframe tbody tr th {\n",
       "        vertical-align: top;\n",
       "    }\n",
       "\n",
       "    .dataframe thead th {\n",
       "        text-align: right;\n",
       "    }\n",
       "</style>\n",
       "<table border=\"1\" class=\"dataframe\">\n",
       "  <thead>\n",
       "    <tr style=\"text-align: right;\">\n",
       "      <th></th>\n",
       "      <th>n_[0]-agg-any</th>\n",
       "      <th>n_[0]-agg-all</th>\n",
       "      <th>n_[0]-agg-mean</th>\n",
       "      <th>n_[0]-agg-var</th>\n",
       "      <th>n_[0]-agg-min</th>\n",
       "      <th>n_[0]-agg-max</th>\n",
       "      <th>n_[0]-agg-median</th>\n",
       "      <th>n_[0]-agg-sum</th>\n",
       "      <th>n_[0]-agg-kurtosis</th>\n",
       "      <th>n_[0]-agg-skewness</th>\n",
       "      <th>...</th>\n",
       "      <th>par_vec_390</th>\n",
       "      <th>par_vec_391</th>\n",
       "      <th>par_vec_392</th>\n",
       "      <th>par_vec_393</th>\n",
       "      <th>par_vec_394</th>\n",
       "      <th>par_vec_395</th>\n",
       "      <th>par_vec_396</th>\n",
       "      <th>par_vec_397</th>\n",
       "      <th>par_vec_398</th>\n",
       "      <th>par_vec_399</th>\n",
       "    </tr>\n",
       "  </thead>\n",
       "  <tbody>\n",
       "    <tr>\n",
       "      <th>0</th>\n",
       "      <td>0.0</td>\n",
       "      <td>0.0</td>\n",
       "      <td>0.0</td>\n",
       "      <td>0.0</td>\n",
       "      <td>0.0</td>\n",
       "      <td>0.0</td>\n",
       "      <td>0.0</td>\n",
       "      <td>0.0</td>\n",
       "      <td>-3.0</td>\n",
       "      <td>0.0</td>\n",
       "      <td>...</td>\n",
       "      <td>-0.047276</td>\n",
       "      <td>-0.050462</td>\n",
       "      <td>-0.131864</td>\n",
       "      <td>0.068065</td>\n",
       "      <td>-0.074033</td>\n",
       "      <td>0.016362</td>\n",
       "      <td>0.055275</td>\n",
       "      <td>-0.063609</td>\n",
       "      <td>-0.014739</td>\n",
       "      <td>-0.076884</td>\n",
       "    </tr>\n",
       "    <tr>\n",
       "      <th>1</th>\n",
       "      <td>0.0</td>\n",
       "      <td>0.0</td>\n",
       "      <td>0.0</td>\n",
       "      <td>0.0</td>\n",
       "      <td>0.0</td>\n",
       "      <td>0.0</td>\n",
       "      <td>0.0</td>\n",
       "      <td>0.0</td>\n",
       "      <td>-3.0</td>\n",
       "      <td>0.0</td>\n",
       "      <td>...</td>\n",
       "      <td>-0.169210</td>\n",
       "      <td>-0.091240</td>\n",
       "      <td>-0.008702</td>\n",
       "      <td>0.158941</td>\n",
       "      <td>-0.102764</td>\n",
       "      <td>-0.001776</td>\n",
       "      <td>0.035398</td>\n",
       "      <td>0.005877</td>\n",
       "      <td>-0.033673</td>\n",
       "      <td>-0.266011</td>\n",
       "    </tr>\n",
       "    <tr>\n",
       "      <th>2</th>\n",
       "      <td>0.0</td>\n",
       "      <td>0.0</td>\n",
       "      <td>0.0</td>\n",
       "      <td>0.0</td>\n",
       "      <td>0.0</td>\n",
       "      <td>0.0</td>\n",
       "      <td>0.0</td>\n",
       "      <td>0.0</td>\n",
       "      <td>-3.0</td>\n",
       "      <td>0.0</td>\n",
       "      <td>...</td>\n",
       "      <td>0.086971</td>\n",
       "      <td>0.152903</td>\n",
       "      <td>-0.141693</td>\n",
       "      <td>0.364022</td>\n",
       "      <td>-0.708731</td>\n",
       "      <td>0.064241</td>\n",
       "      <td>-0.183656</td>\n",
       "      <td>-0.001072</td>\n",
       "      <td>0.235746</td>\n",
       "      <td>-0.530483</td>\n",
       "    </tr>\n",
       "    <tr>\n",
       "      <th>3</th>\n",
       "      <td>0.0</td>\n",
       "      <td>0.0</td>\n",
       "      <td>0.0</td>\n",
       "      <td>0.0</td>\n",
       "      <td>0.0</td>\n",
       "      <td>0.0</td>\n",
       "      <td>0.0</td>\n",
       "      <td>0.0</td>\n",
       "      <td>-3.0</td>\n",
       "      <td>0.0</td>\n",
       "      <td>...</td>\n",
       "      <td>0.019576</td>\n",
       "      <td>-0.020715</td>\n",
       "      <td>0.080360</td>\n",
       "      <td>0.170148</td>\n",
       "      <td>-0.339541</td>\n",
       "      <td>-0.025463</td>\n",
       "      <td>0.062125</td>\n",
       "      <td>-0.004156</td>\n",
       "      <td>-0.044532</td>\n",
       "      <td>-0.101253</td>\n",
       "    </tr>\n",
       "    <tr>\n",
       "      <th>4</th>\n",
       "      <td>0.0</td>\n",
       "      <td>0.0</td>\n",
       "      <td>0.0</td>\n",
       "      <td>0.0</td>\n",
       "      <td>0.0</td>\n",
       "      <td>0.0</td>\n",
       "      <td>0.0</td>\n",
       "      <td>0.0</td>\n",
       "      <td>-3.0</td>\n",
       "      <td>0.0</td>\n",
       "      <td>...</td>\n",
       "      <td>-0.264917</td>\n",
       "      <td>-0.144005</td>\n",
       "      <td>-0.086391</td>\n",
       "      <td>0.027880</td>\n",
       "      <td>-0.394154</td>\n",
       "      <td>-0.057364</td>\n",
       "      <td>-0.211917</td>\n",
       "      <td>0.069740</td>\n",
       "      <td>0.095384</td>\n",
       "      <td>-0.356454</td>\n",
       "    </tr>\n",
       "  </tbody>\n",
       "</table>\n",
       "<p>5 rows × 1588 columns</p>\n",
       "</div>"
      ],
      "text/plain": [
       "   n_[0]-agg-any  n_[0]-agg-all  n_[0]-agg-mean  n_[0]-agg-var  n_[0]-agg-min  \\\n",
       "0            0.0            0.0             0.0            0.0            0.0   \n",
       "1            0.0            0.0             0.0            0.0            0.0   \n",
       "2            0.0            0.0             0.0            0.0            0.0   \n",
       "3            0.0            0.0             0.0            0.0            0.0   \n",
       "4            0.0            0.0             0.0            0.0            0.0   \n",
       "\n",
       "   n_[0]-agg-max  n_[0]-agg-median  n_[0]-agg-sum  n_[0]-agg-kurtosis  \\\n",
       "0            0.0               0.0            0.0                -3.0   \n",
       "1            0.0               0.0            0.0                -3.0   \n",
       "2            0.0               0.0            0.0                -3.0   \n",
       "3            0.0               0.0            0.0                -3.0   \n",
       "4            0.0               0.0            0.0                -3.0   \n",
       "\n",
       "   n_[0]-agg-skewness  ...  par_vec_390  par_vec_391  par_vec_392  \\\n",
       "0                 0.0  ...    -0.047276    -0.050462    -0.131864   \n",
       "1                 0.0  ...    -0.169210    -0.091240    -0.008702   \n",
       "2                 0.0  ...     0.086971     0.152903    -0.141693   \n",
       "3                 0.0  ...     0.019576    -0.020715     0.080360   \n",
       "4                 0.0  ...    -0.264917    -0.144005    -0.086391   \n",
       "\n",
       "   par_vec_393  par_vec_394  par_vec_395  par_vec_396  par_vec_397  \\\n",
       "0     0.068065    -0.074033     0.016362     0.055275    -0.063609   \n",
       "1     0.158941    -0.102764    -0.001776     0.035398     0.005877   \n",
       "2     0.364022    -0.708731     0.064241    -0.183656    -0.001072   \n",
       "3     0.170148    -0.339541    -0.025463     0.062125    -0.004156   \n",
       "4     0.027880    -0.394154    -0.057364    -0.211917     0.069740   \n",
       "\n",
       "   par_vec_398  par_vec_399  \n",
       "0    -0.014739    -0.076884  \n",
       "1    -0.033673    -0.266011  \n",
       "2     0.235746    -0.530483  \n",
       "3    -0.044532    -0.101253  \n",
       "4     0.095384    -0.356454  \n",
       "\n",
       "[5 rows x 1588 columns]"
      ]
     },
     "execution_count": 27,
     "metadata": {},
     "output_type": "execute_result"
    }
   ],
   "source": [
    "X_train.head()"
   ]
  },
  {
   "cell_type": "code",
   "execution_count": 28,
   "metadata": {},
   "outputs": [
    {
     "name": "stdout",
     "output_type": "stream",
     "text": [
      "Load Features (validation) process took 0:00:30.514030 seconds.\n"
     ]
    }
   ],
   "source": [
    "start = datetime.now()\n",
    "\n",
    "X_validation = pd.read_csv(X_validation_filename_csv, dtype=np.float32)\n",
    "\n",
    "print(f'Load Features (validation) process took {datetime.now() - start} seconds.')"
   ]
  },
  {
   "cell_type": "code",
   "execution_count": 29,
   "metadata": {},
   "outputs": [
    {
     "data": {
      "text/html": [
       "<div>\n",
       "<style scoped>\n",
       "    .dataframe tbody tr th:only-of-type {\n",
       "        vertical-align: middle;\n",
       "    }\n",
       "\n",
       "    .dataframe tbody tr th {\n",
       "        vertical-align: top;\n",
       "    }\n",
       "\n",
       "    .dataframe thead th {\n",
       "        text-align: right;\n",
       "    }\n",
       "</style>\n",
       "<table border=\"1\" class=\"dataframe\">\n",
       "  <thead>\n",
       "    <tr style=\"text-align: right;\">\n",
       "      <th></th>\n",
       "      <th>n_[0]-agg-any</th>\n",
       "      <th>n_[0]-agg-all</th>\n",
       "      <th>n_[0]-agg-mean</th>\n",
       "      <th>n_[0]-agg-var</th>\n",
       "      <th>n_[0]-agg-min</th>\n",
       "      <th>n_[0]-agg-max</th>\n",
       "      <th>n_[0]-agg-median</th>\n",
       "      <th>n_[0]-agg-sum</th>\n",
       "      <th>n_[0]-agg-kurtosis</th>\n",
       "      <th>n_[0]-agg-skewness</th>\n",
       "      <th>...</th>\n",
       "      <th>par_vec_390</th>\n",
       "      <th>par_vec_391</th>\n",
       "      <th>par_vec_392</th>\n",
       "      <th>par_vec_393</th>\n",
       "      <th>par_vec_394</th>\n",
       "      <th>par_vec_395</th>\n",
       "      <th>par_vec_396</th>\n",
       "      <th>par_vec_397</th>\n",
       "      <th>par_vec_398</th>\n",
       "      <th>par_vec_399</th>\n",
       "    </tr>\n",
       "  </thead>\n",
       "  <tbody>\n",
       "    <tr>\n",
       "      <th>0</th>\n",
       "      <td>0.0</td>\n",
       "      <td>0.0</td>\n",
       "      <td>0.00000</td>\n",
       "      <td>0.000000</td>\n",
       "      <td>0.0</td>\n",
       "      <td>0.0</td>\n",
       "      <td>0.0</td>\n",
       "      <td>0.0</td>\n",
       "      <td>-3.000000</td>\n",
       "      <td>0.000000</td>\n",
       "      <td>...</td>\n",
       "      <td>-0.105711</td>\n",
       "      <td>0.181456</td>\n",
       "      <td>-0.294050</td>\n",
       "      <td>0.163736</td>\n",
       "      <td>-0.496933</td>\n",
       "      <td>0.069320</td>\n",
       "      <td>-0.040903</td>\n",
       "      <td>-0.056309</td>\n",
       "      <td>0.334068</td>\n",
       "      <td>-0.391248</td>\n",
       "    </tr>\n",
       "    <tr>\n",
       "      <th>1</th>\n",
       "      <td>0.0</td>\n",
       "      <td>0.0</td>\n",
       "      <td>0.00000</td>\n",
       "      <td>0.000000</td>\n",
       "      <td>0.0</td>\n",
       "      <td>0.0</td>\n",
       "      <td>0.0</td>\n",
       "      <td>0.0</td>\n",
       "      <td>-3.000000</td>\n",
       "      <td>0.000000</td>\n",
       "      <td>...</td>\n",
       "      <td>-0.258922</td>\n",
       "      <td>-0.001249</td>\n",
       "      <td>-0.231181</td>\n",
       "      <td>0.288208</td>\n",
       "      <td>-0.181530</td>\n",
       "      <td>0.052967</td>\n",
       "      <td>-0.037158</td>\n",
       "      <td>-0.016913</td>\n",
       "      <td>0.032424</td>\n",
       "      <td>-0.311296</td>\n",
       "    </tr>\n",
       "    <tr>\n",
       "      <th>2</th>\n",
       "      <td>1.0</td>\n",
       "      <td>0.0</td>\n",
       "      <td>0.25000</td>\n",
       "      <td>0.187500</td>\n",
       "      <td>0.0</td>\n",
       "      <td>1.0</td>\n",
       "      <td>0.0</td>\n",
       "      <td>10.0</td>\n",
       "      <td>-0.666667</td>\n",
       "      <td>1.154701</td>\n",
       "      <td>...</td>\n",
       "      <td>-0.265864</td>\n",
       "      <td>-0.388315</td>\n",
       "      <td>-0.133144</td>\n",
       "      <td>-0.209464</td>\n",
       "      <td>-0.042673</td>\n",
       "      <td>-0.084304</td>\n",
       "      <td>-0.112698</td>\n",
       "      <td>0.147051</td>\n",
       "      <td>0.224680</td>\n",
       "      <td>-0.373928</td>\n",
       "    </tr>\n",
       "    <tr>\n",
       "      <th>3</th>\n",
       "      <td>0.0</td>\n",
       "      <td>0.0</td>\n",
       "      <td>0.00000</td>\n",
       "      <td>0.000000</td>\n",
       "      <td>0.0</td>\n",
       "      <td>0.0</td>\n",
       "      <td>0.0</td>\n",
       "      <td>0.0</td>\n",
       "      <td>-3.000000</td>\n",
       "      <td>0.000000</td>\n",
       "      <td>...</td>\n",
       "      <td>-0.198478</td>\n",
       "      <td>0.041071</td>\n",
       "      <td>-0.265879</td>\n",
       "      <td>0.261911</td>\n",
       "      <td>-0.264352</td>\n",
       "      <td>-0.115126</td>\n",
       "      <td>-0.271292</td>\n",
       "      <td>-0.061009</td>\n",
       "      <td>0.032532</td>\n",
       "      <td>-0.105325</td>\n",
       "    </tr>\n",
       "    <tr>\n",
       "      <th>4</th>\n",
       "      <td>1.0</td>\n",
       "      <td>0.0</td>\n",
       "      <td>0.09434</td>\n",
       "      <td>0.311855</td>\n",
       "      <td>0.0</td>\n",
       "      <td>4.0</td>\n",
       "      <td>0.0</td>\n",
       "      <td>5.0</td>\n",
       "      <td>42.275021</td>\n",
       "      <td>6.530585</td>\n",
       "      <td>...</td>\n",
       "      <td>-0.199170</td>\n",
       "      <td>-0.486600</td>\n",
       "      <td>0.026245</td>\n",
       "      <td>-0.288035</td>\n",
       "      <td>-0.301814</td>\n",
       "      <td>-0.007751</td>\n",
       "      <td>0.102981</td>\n",
       "      <td>0.405819</td>\n",
       "      <td>0.632662</td>\n",
       "      <td>-0.274999</td>\n",
       "    </tr>\n",
       "  </tbody>\n",
       "</table>\n",
       "<p>5 rows × 1588 columns</p>\n",
       "</div>"
      ],
      "text/plain": [
       "   n_[0]-agg-any  n_[0]-agg-all  n_[0]-agg-mean  n_[0]-agg-var  n_[0]-agg-min  \\\n",
       "0            0.0            0.0         0.00000       0.000000            0.0   \n",
       "1            0.0            0.0         0.00000       0.000000            0.0   \n",
       "2            1.0            0.0         0.25000       0.187500            0.0   \n",
       "3            0.0            0.0         0.00000       0.000000            0.0   \n",
       "4            1.0            0.0         0.09434       0.311855            0.0   \n",
       "\n",
       "   n_[0]-agg-max  n_[0]-agg-median  n_[0]-agg-sum  n_[0]-agg-kurtosis  \\\n",
       "0            0.0               0.0            0.0           -3.000000   \n",
       "1            0.0               0.0            0.0           -3.000000   \n",
       "2            1.0               0.0           10.0           -0.666667   \n",
       "3            0.0               0.0            0.0           -3.000000   \n",
       "4            4.0               0.0            5.0           42.275021   \n",
       "\n",
       "   n_[0]-agg-skewness  ...  par_vec_390  par_vec_391  par_vec_392  \\\n",
       "0            0.000000  ...    -0.105711     0.181456    -0.294050   \n",
       "1            0.000000  ...    -0.258922    -0.001249    -0.231181   \n",
       "2            1.154701  ...    -0.265864    -0.388315    -0.133144   \n",
       "3            0.000000  ...    -0.198478     0.041071    -0.265879   \n",
       "4            6.530585  ...    -0.199170    -0.486600     0.026245   \n",
       "\n",
       "   par_vec_393  par_vec_394  par_vec_395  par_vec_396  par_vec_397  \\\n",
       "0     0.163736    -0.496933     0.069320    -0.040903    -0.056309   \n",
       "1     0.288208    -0.181530     0.052967    -0.037158    -0.016913   \n",
       "2    -0.209464    -0.042673    -0.084304    -0.112698     0.147051   \n",
       "3     0.261911    -0.264352    -0.115126    -0.271292    -0.061009   \n",
       "4    -0.288035    -0.301814    -0.007751     0.102981     0.405819   \n",
       "\n",
       "   par_vec_398  par_vec_399  \n",
       "0     0.334068    -0.391248  \n",
       "1     0.032424    -0.311296  \n",
       "2     0.224680    -0.373928  \n",
       "3     0.032532    -0.105325  \n",
       "4     0.632662    -0.274999  \n",
       "\n",
       "[5 rows x 1588 columns]"
      ]
     },
     "execution_count": 29,
     "metadata": {},
     "output_type": "execute_result"
    }
   ],
   "source": [
    "X_validation.head()"
   ]
  },
  {
   "cell_type": "markdown",
   "metadata": {},
   "source": [
    "## Impute NaN values with feature means"
   ]
  },
  {
   "cell_type": "code",
   "execution_count": 30,
   "metadata": {},
   "outputs": [
    {
     "name": "stdout",
     "output_type": "stream",
     "text": [
      "Transpose process took 0:00:11.975168 seconds.\n"
     ]
    }
   ],
   "source": [
    "start = datetime.now()\n",
    "\n",
    "train_columns_means = pd.DataFrame(X_train.mean()).transpose()\n",
    "\n",
    "print(f'Transpose process took {datetime.now() - start} seconds.')"
   ]
  },
  {
   "cell_type": "code",
   "execution_count": 31,
   "metadata": {},
   "outputs": [
    {
     "name": "stdout",
     "output_type": "stream",
     "text": [
      "FillNA process took 0:00:04.992048 seconds.\n"
     ]
    }
   ],
   "source": [
    "start = datetime.now()\n",
    "\n",
    "X_train.fillna(train_columns_means.iloc[0], inplace=True)\n",
    "X_validation.fillna(train_columns_means.iloc[0], inplace=True)\n",
    "X_test.fillna(train_columns_means.iloc[0], inplace=True)\n",
    "\n",
    "train_columns_means=None\n",
    "\n",
    "print(f'FillNA process took {datetime.now() - start} seconds.')"
   ]
  },
  {
   "cell_type": "code",
   "execution_count": 32,
   "metadata": {},
   "outputs": [
    {
     "name": "stdout",
     "output_type": "stream",
     "text": [
      "Save parquet process took 0:01:03.475468 seconds.\n"
     ]
    }
   ],
   "source": [
    "start = datetime.now()\n",
    "\n",
    "X_train.to_parquet('../data/data/processed/train.parquet', engine='pyarrow', compression='snappy')\n",
    "X_validation.to_parquet('../data/data/processed/validation.parquet', engine='pyarrow', compression='snappy')\n",
    "X_test.to_parquet('../data/data/processed/test.parquet', engine='pyarrow', compression='snappy')\n",
    "\n",
    "print(f'Save parquet process took {datetime.now() - start} seconds.')"
   ]
  },
  {
   "cell_type": "code",
   "execution_count": 33,
   "metadata": {},
   "outputs": [
    {
     "name": "stdout",
     "output_type": "stream",
     "text": [
      "Completed at 2022-02-10 18:37:05.949284.\n"
     ]
    }
   ],
   "source": [
    "print(f'Completed at {datetime.now()}.')"
   ]
  },
  {
   "cell_type": "code",
   "execution_count": null,
   "metadata": {},
   "outputs": [],
   "source": []
  }
 ],
 "metadata": {
  "kernelspec": {
   "display_name": "Python 3",
   "language": "python",
   "name": "python3"
  },
  "language_info": {
   "codemirror_mode": {
    "name": "ipython",
    "version": 3
   },
   "file_extension": ".py",
   "mimetype": "text/x-python",
   "name": "python",
   "nbconvert_exporter": "python",
   "pygments_lexer": "ipython3",
   "version": "3.6.12"
  }
 },
 "nbformat": 4,
 "nbformat_minor": 2
}
