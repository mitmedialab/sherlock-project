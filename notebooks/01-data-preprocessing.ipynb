{
 "cells": [
  {
   "cell_type": "markdown",
   "metadata": {},
   "source": [
    "# Preprocess data and extract features."
   ]
  },
  {
   "cell_type": "code",
   "execution_count": 1,
   "metadata": {},
   "outputs": [],
   "source": [
    "%load_ext autoreload\n",
    "%autoreload 2"
   ]
  },
  {
   "cell_type": "code",
   "execution_count": 28,
   "metadata": {},
   "outputs": [
    {
     "data": {
      "text/plain": [
       "'13'"
      ]
     },
     "execution_count": 28,
     "metadata": {},
     "output_type": "execute_result"
    }
   ],
   "source": [
    "# If you need fully deterministic results between runs, set the following environment value prior to launching jupyter.\n",
    "# Instructions can be found in HOW-TO-ENVIRONMENT.md.\n",
    "# See comment in sherlock.features.paragraph_vectors.infer_paragraph_embeddings_features for more info.\n",
    "%env PYTHONHASHSEED"
   ]
  },
  {
   "cell_type": "code",
   "execution_count": 3,
   "metadata": {},
   "outputs": [],
   "source": [
    "from datetime import datetime\n",
    "import os\n",
    "import sys\n",
    "import time\n",
    "\n",
    "import numpy as np\n",
    "import pandas as pd\n",
    "\n",
    "from sherlock import helpers\n",
    "from sherlock.functional import extract_features_to_csv\n",
    "from sherlock.features.paragraph_vectors import initialise_pretrained_model, initialise_nltk\n",
    "from sherlock.features.preprocessing import (\n",
    "    extract_features,\n",
    "    convert_string_lists_to_lists,\n",
    "    prepare_feature_extraction,\n",
    "    load_parquet_values,\n",
    ")\n",
    "from sherlock.features.word_embeddings import initialise_word_embeddings"
   ]
  },
  {
   "cell_type": "code",
   "execution_count": 4,
   "metadata": {},
   "outputs": [
    {
     "name": "stdout",
     "output_type": "stream",
     "text": [
      "Started at 2022-02-21 12:55:47.936774.\n"
     ]
    }
   ],
   "source": [
    "print(f'Started at {datetime.now()}.')"
   ]
  },
  {
   "cell_type": "markdown",
   "metadata": {},
   "source": [
    "## Download data\n",
    "This will download the raw values and preprocessed files, the corresponding labels as well as a few other supporting files:\n",
    "- `download_data()` will download 3.6GB of data for preprocessing and model training into the `data/` directory.\n",
    "- `prepare_feature_extraction()` will download +/- 800 MB of data into the `features/` directory."
   ]
  },
  {
   "cell_type": "code",
   "execution_count": 5,
   "metadata": {},
   "outputs": [
    {
     "name": "stdout",
     "output_type": "stream",
     "text": [
      "Downloading the raw data into ../data/.\n",
      "Data was downloaded.\n",
      "Preparing feature extraction by downloading 4 files:\n",
      "        \n",
      " ../sherlock/features/glove.6B.50d.txt, \n",
      " ../sherlock/features/par_vec_trained_400.pkl.docvecs.vectors_docs.npy,\n",
      "        \n",
      " ../sherlock/features/par_vec_trained_400.pkl.trainables.syn1neg.npy, and \n",
      " ../sherlock/features/par_vec_trained_400.pkl.wv.vectors.npy.\n",
      "        \n",
      "All files for extracting word and paragraph embeddings are present.\n"
     ]
    }
   ],
   "source": [
    "helpers.download_data()\n",
    "prepare_feature_extraction()"
   ]
  },
  {
   "cell_type": "code",
   "execution_count": 6,
   "metadata": {},
   "outputs": [],
   "source": [
    "if not os.path.exists('../sherlock/features/par_vec_trained_400.pkl.docvecs.vectors_docs.npy'):\n",
    "    raise SystemExit(\n",
    "        \"\"\"\n",
    "        Trained paragraph vectors do not exist,\n",
    "        please run the '01-train-paragraph-vector-features' notebook before continuing\n",
    "        \"\"\"\n",
    "    )"
   ]
  },
  {
   "cell_type": "markdown",
   "metadata": {},
   "source": [
    "## Read in raw data\n",
    "You can skip this step if you want to use a preprocessed data file."
   ]
  },
  {
   "cell_type": "markdown",
   "metadata": {},
   "source": [
    "## Report memory usage (can be slow)"
   ]
  },
  {
   "cell_type": "code",
   "execution_count": 7,
   "metadata": {},
   "outputs": [],
   "source": [
    "report_memory = False"
   ]
  },
  {
   "cell_type": "markdown",
   "metadata": {},
   "source": [
    "## Extract features\n",
    "It is important that the string-representations of lists are first converted into lists of strings.\n",
    "The labels should be a list of semantic types."
   ]
  },
  {
   "cell_type": "code",
   "execution_count": 8,
   "metadata": {},
   "outputs": [],
   "source": [
    "timestr = time.strftime(\"%Y%m%d-%H%M%S\")\n",
    "\n",
    "# Features will be output to the following files\n",
    "X_test_filename_csv = f'../data/data/processed/test_{timestr}.csv'\n",
    "X_train_filename_csv = f'../data/data/processed/train_{timestr}.csv'\n",
    "X_validation_filename_csv = f'../data/data/processed/validation_{timestr}.csv'"
   ]
  },
  {
   "cell_type": "markdown",
   "metadata": {},
   "source": [
    "### PREPARATION"
   ]
  },
  {
   "cell_type": "code",
   "execution_count": 9,
   "metadata": {},
   "outputs": [
    {
     "name": "stdout",
     "output_type": "stream",
     "text": [
      "Preparing feature extraction by downloading 4 files:\n",
      "        \n",
      " ../sherlock/features/glove.6B.50d.txt, \n",
      " ../sherlock/features/par_vec_trained_400.pkl.docvecs.vectors_docs.npy,\n",
      "        \n",
      " ../sherlock/features/par_vec_trained_400.pkl.trainables.syn1neg.npy, and \n",
      " ../sherlock/features/par_vec_trained_400.pkl.wv.vectors.npy.\n",
      "        \n",
      "All files for extracting word and paragraph embeddings are present.\n",
      "Initialising word embeddings\n",
      "Initialise Word Embeddings process took 0:00:05.196631 seconds.\n",
      "Initialise Doc2Vec Model, 400 dim, process took 0:00:03.018509 seconds. (filename = ../sherlock/features/par_vec_trained_400.pkl)\n",
      "Initialised NLTK, process took 0:00:00.184036 seconds.\n"
     ]
    },
    {
     "name": "stderr",
     "output_type": "stream",
     "text": [
      "[nltk_data] Downloading package punkt to /Users/madelon/nltk_data...\n",
      "[nltk_data]   Package punkt is already up-to-date!\n",
      "[nltk_data] Downloading package stopwords to\n",
      "[nltk_data]     /Users/madelon/nltk_data...\n",
      "[nltk_data]   Package stopwords is already up-to-date!\n"
     ]
    }
   ],
   "source": [
    "# ensure embedding initialisation is outside of timing for extract_features\n",
    "prepare_feature_extraction()\n",
    "initialise_word_embeddings()\n",
    "initialise_pretrained_model(400)\n",
    "initialise_nltk()"
   ]
  },
  {
   "cell_type": "code",
   "execution_count": 10,
   "metadata": {},
   "outputs": [],
   "source": [
    "%load_ext line_profiler"
   ]
  },
  {
   "cell_type": "code",
   "execution_count": 11,
   "metadata": {},
   "outputs": [],
   "source": [
    "# default process creation mode is changed in Python 3.8 to 'spawn' which causes \"name not defined\" type errors. Force fork 'mode' for now (this only needs to be called once).\n",
    "# https://bugs.python.org/issue39931\n",
    "#mp.set_start_method('fork', force=True)"
   ]
  },
  {
   "cell_type": "markdown",
   "metadata": {},
   "source": [
    "## EXTRACT FEATURES TO CSV"
   ]
  },
  {
   "cell_type": "markdown",
   "metadata": {},
   "source": [
    "### TEST SET"
   ]
  },
  {
   "cell_type": "code",
   "execution_count": 12,
   "metadata": {},
   "outputs": [
    {
     "name": "stdout",
     "output_type": "stream",
     "text": [
      "Starting ../data/data/processed/test_20220221-125552.csv at 2022-02-21 12:56:03.739007. Rows=137353, using 8 CPU cores\n",
      "Exporting 1588 column features\n",
      "Finished. Processed 137353 rows in 0:04:41.140014, key_count=8\n"
     ]
    }
   ],
   "source": [
    "values = load_parquet_values(\"../data/data/raw/test_values.parquet\")\n",
    "\n",
    "extract_features_to_csv(X_test_filename_csv, values)\n",
    "\n",
    "values = None"
   ]
  },
  {
   "cell_type": "code",
   "execution_count": 13,
   "metadata": {},
   "outputs": [
    {
     "name": "stdout",
     "output_type": "stream",
     "text": [
      "Finished at 2022-02-21 13:00:45.006991\n"
     ]
    }
   ],
   "source": [
    "print(f'Finished at {datetime.now()}')"
   ]
  },
  {
   "cell_type": "markdown",
   "metadata": {},
   "source": [
    "### TRAIN SET"
   ]
  },
  {
   "cell_type": "code",
   "execution_count": 14,
   "metadata": {},
   "outputs": [
    {
     "name": "stdout",
     "output_type": "stream",
     "text": [
      "Starting ../data/data/processed/train_20220221-125552.csv at 2022-02-21 13:00:46.766509. Rows=412059, using 8 CPU cores\n",
      "Exporting 1588 column features\n",
      "Finished. Processed 412059 rows in 0:13:46.382904, key_count=8\n"
     ]
    }
   ],
   "source": [
    "values = load_parquet_values(\"../data/data/raw/train_values.parquet\")\n",
    "\n",
    "extract_features_to_csv(X_train_filename_csv, values)\n",
    "\n",
    "values = None"
   ]
  },
  {
   "cell_type": "code",
   "execution_count": 15,
   "metadata": {},
   "outputs": [
    {
     "name": "stdout",
     "output_type": "stream",
     "text": [
      "Finished at 2022-02-21 13:14:33.436746\n"
     ]
    }
   ],
   "source": [
    "print(f'Finished at {datetime.now()}')"
   ]
  },
  {
   "cell_type": "markdown",
   "metadata": {},
   "source": [
    "### VALIDATION SET"
   ]
  },
  {
   "cell_type": "code",
   "execution_count": 16,
   "metadata": {},
   "outputs": [
    {
     "name": "stdout",
     "output_type": "stream",
     "text": [
      "Starting ../data/data/processed/validation_20220221-125552.csv at 2022-02-21 13:14:34.282570. Rows=137353, using 8 CPU cores\n",
      "Exporting 1588 column features\n",
      "Finished. Processed 137353 rows in 0:04:20.682436, key_count=8\n"
     ]
    }
   ],
   "source": [
    "values = load_parquet_values(\"../data/data/raw/val_values.parquet\")\n",
    "\n",
    "extract_features_to_csv(X_validation_filename_csv, values)\n",
    "\n",
    "values = None"
   ]
  },
  {
   "cell_type": "code",
   "execution_count": 17,
   "metadata": {},
   "outputs": [
    {
     "name": "stdout",
     "output_type": "stream",
     "text": [
      "Finished at 2022-02-21 13:18:55.069282\n"
     ]
    }
   ],
   "source": [
    "print(f'Finished at {datetime.now()}')"
   ]
  },
  {
   "cell_type": "markdown",
   "metadata": {},
   "source": [
    "### Read Locally Processed Features"
   ]
  },
  {
   "cell_type": "code",
   "execution_count": 18,
   "metadata": {},
   "outputs": [
    {
     "name": "stdout",
     "output_type": "stream",
     "text": [
      "Load Features (test) process took 0:00:30.504465 seconds.\n"
     ]
    }
   ],
   "source": [
    "start = datetime.now()\n",
    "\n",
    "X_test = pd.read_csv(X_test_filename_csv, dtype=np.float32)\n",
    "\n",
    "print(f'Load Features (test) process took {datetime.now() - start} seconds.')"
   ]
  },
  {
   "cell_type": "code",
   "execution_count": 19,
   "metadata": {},
   "outputs": [
    {
     "data": {
      "text/html": [
       "<div>\n",
       "<style scoped>\n",
       "    .dataframe tbody tr th:only-of-type {\n",
       "        vertical-align: middle;\n",
       "    }\n",
       "\n",
       "    .dataframe tbody tr th {\n",
       "        vertical-align: top;\n",
       "    }\n",
       "\n",
       "    .dataframe thead th {\n",
       "        text-align: right;\n",
       "    }\n",
       "</style>\n",
       "<table border=\"1\" class=\"dataframe\">\n",
       "  <thead>\n",
       "    <tr style=\"text-align: right;\">\n",
       "      <th></th>\n",
       "      <th>n_[0]-agg-any</th>\n",
       "      <th>n_[0]-agg-all</th>\n",
       "      <th>n_[0]-agg-mean</th>\n",
       "      <th>n_[0]-agg-var</th>\n",
       "      <th>n_[0]-agg-min</th>\n",
       "      <th>n_[0]-agg-max</th>\n",
       "      <th>n_[0]-agg-median</th>\n",
       "      <th>n_[0]-agg-sum</th>\n",
       "      <th>n_[0]-agg-kurtosis</th>\n",
       "      <th>n_[0]-agg-skewness</th>\n",
       "      <th>...</th>\n",
       "      <th>par_vec_390</th>\n",
       "      <th>par_vec_391</th>\n",
       "      <th>par_vec_392</th>\n",
       "      <th>par_vec_393</th>\n",
       "      <th>par_vec_394</th>\n",
       "      <th>par_vec_395</th>\n",
       "      <th>par_vec_396</th>\n",
       "      <th>par_vec_397</th>\n",
       "      <th>par_vec_398</th>\n",
       "      <th>par_vec_399</th>\n",
       "    </tr>\n",
       "  </thead>\n",
       "  <tbody>\n",
       "    <tr>\n",
       "      <th>0</th>\n",
       "      <td>0.0</td>\n",
       "      <td>0.0</td>\n",
       "      <td>0.000000</td>\n",
       "      <td>0.000000</td>\n",
       "      <td>0.0</td>\n",
       "      <td>0.0</td>\n",
       "      <td>0.0</td>\n",
       "      <td>0.0</td>\n",
       "      <td>-3.000000</td>\n",
       "      <td>0.000000</td>\n",
       "      <td>...</td>\n",
       "      <td>-0.124150</td>\n",
       "      <td>-0.160029</td>\n",
       "      <td>-0.140256</td>\n",
       "      <td>0.109107</td>\n",
       "      <td>-0.044414</td>\n",
       "      <td>-0.124615</td>\n",
       "      <td>-0.033864</td>\n",
       "      <td>0.111789</td>\n",
       "      <td>-0.014209</td>\n",
       "      <td>-0.160459</td>\n",
       "    </tr>\n",
       "    <tr>\n",
       "      <th>1</th>\n",
       "      <td>1.0</td>\n",
       "      <td>0.0</td>\n",
       "      <td>0.368421</td>\n",
       "      <td>0.337950</td>\n",
       "      <td>0.0</td>\n",
       "      <td>2.0</td>\n",
       "      <td>0.0</td>\n",
       "      <td>7.0</td>\n",
       "      <td>0.742677</td>\n",
       "      <td>1.326868</td>\n",
       "      <td>...</td>\n",
       "      <td>-0.060843</td>\n",
       "      <td>-0.009223</td>\n",
       "      <td>-0.062848</td>\n",
       "      <td>0.080908</td>\n",
       "      <td>-0.240975</td>\n",
       "      <td>-0.039260</td>\n",
       "      <td>-0.050986</td>\n",
       "      <td>-0.068109</td>\n",
       "      <td>-0.063214</td>\n",
       "      <td>-0.200062</td>\n",
       "    </tr>\n",
       "    <tr>\n",
       "      <th>2</th>\n",
       "      <td>0.0</td>\n",
       "      <td>0.0</td>\n",
       "      <td>0.000000</td>\n",
       "      <td>0.000000</td>\n",
       "      <td>0.0</td>\n",
       "      <td>0.0</td>\n",
       "      <td>0.0</td>\n",
       "      <td>0.0</td>\n",
       "      <td>-3.000000</td>\n",
       "      <td>0.000000</td>\n",
       "      <td>...</td>\n",
       "      <td>-0.254407</td>\n",
       "      <td>-0.140454</td>\n",
       "      <td>-0.077885</td>\n",
       "      <td>0.270047</td>\n",
       "      <td>-0.254806</td>\n",
       "      <td>-0.015952</td>\n",
       "      <td>-0.358635</td>\n",
       "      <td>-0.090083</td>\n",
       "      <td>0.120246</td>\n",
       "      <td>0.006599</td>\n",
       "    </tr>\n",
       "    <tr>\n",
       "      <th>3</th>\n",
       "      <td>0.0</td>\n",
       "      <td>0.0</td>\n",
       "      <td>0.000000</td>\n",
       "      <td>0.000000</td>\n",
       "      <td>0.0</td>\n",
       "      <td>0.0</td>\n",
       "      <td>0.0</td>\n",
       "      <td>0.0</td>\n",
       "      <td>-3.000000</td>\n",
       "      <td>0.000000</td>\n",
       "      <td>...</td>\n",
       "      <td>-0.096018</td>\n",
       "      <td>0.018162</td>\n",
       "      <td>-0.066431</td>\n",
       "      <td>-0.039642</td>\n",
       "      <td>-0.104596</td>\n",
       "      <td>-0.087560</td>\n",
       "      <td>-0.108518</td>\n",
       "      <td>0.023666</td>\n",
       "      <td>0.017810</td>\n",
       "      <td>-0.047467</td>\n",
       "    </tr>\n",
       "    <tr>\n",
       "      <th>4</th>\n",
       "      <td>1.0</td>\n",
       "      <td>0.0</td>\n",
       "      <td>0.020080</td>\n",
       "      <td>0.035741</td>\n",
       "      <td>0.0</td>\n",
       "      <td>2.0</td>\n",
       "      <td>0.0</td>\n",
       "      <td>5.0</td>\n",
       "      <td>96.521561</td>\n",
       "      <td>9.784149</td>\n",
       "      <td>...</td>\n",
       "      <td>-0.785815</td>\n",
       "      <td>-0.388175</td>\n",
       "      <td>-1.259390</td>\n",
       "      <td>1.080410</td>\n",
       "      <td>-0.445470</td>\n",
       "      <td>-0.532897</td>\n",
       "      <td>0.137333</td>\n",
       "      <td>-1.173960</td>\n",
       "      <td>1.222390</td>\n",
       "      <td>-1.423210</td>\n",
       "    </tr>\n",
       "  </tbody>\n",
       "</table>\n",
       "<p>5 rows × 1588 columns</p>\n",
       "</div>"
      ],
      "text/plain": [
       "   n_[0]-agg-any  n_[0]-agg-all  n_[0]-agg-mean  n_[0]-agg-var  n_[0]-agg-min  \\\n",
       "0            0.0            0.0        0.000000       0.000000            0.0   \n",
       "1            1.0            0.0        0.368421       0.337950            0.0   \n",
       "2            0.0            0.0        0.000000       0.000000            0.0   \n",
       "3            0.0            0.0        0.000000       0.000000            0.0   \n",
       "4            1.0            0.0        0.020080       0.035741            0.0   \n",
       "\n",
       "   n_[0]-agg-max  n_[0]-agg-median  n_[0]-agg-sum  n_[0]-agg-kurtosis  \\\n",
       "0            0.0               0.0            0.0           -3.000000   \n",
       "1            2.0               0.0            7.0            0.742677   \n",
       "2            0.0               0.0            0.0           -3.000000   \n",
       "3            0.0               0.0            0.0           -3.000000   \n",
       "4            2.0               0.0            5.0           96.521561   \n",
       "\n",
       "   n_[0]-agg-skewness  ...  par_vec_390  par_vec_391  par_vec_392  \\\n",
       "0            0.000000  ...    -0.124150    -0.160029    -0.140256   \n",
       "1            1.326868  ...    -0.060843    -0.009223    -0.062848   \n",
       "2            0.000000  ...    -0.254407    -0.140454    -0.077885   \n",
       "3            0.000000  ...    -0.096018     0.018162    -0.066431   \n",
       "4            9.784149  ...    -0.785815    -0.388175    -1.259390   \n",
       "\n",
       "   par_vec_393  par_vec_394  par_vec_395  par_vec_396  par_vec_397  \\\n",
       "0     0.109107    -0.044414    -0.124615    -0.033864     0.111789   \n",
       "1     0.080908    -0.240975    -0.039260    -0.050986    -0.068109   \n",
       "2     0.270047    -0.254806    -0.015952    -0.358635    -0.090083   \n",
       "3    -0.039642    -0.104596    -0.087560    -0.108518     0.023666   \n",
       "4     1.080410    -0.445470    -0.532897     0.137333    -1.173960   \n",
       "\n",
       "   par_vec_398  par_vec_399  \n",
       "0    -0.014209    -0.160459  \n",
       "1    -0.063214    -0.200062  \n",
       "2     0.120246     0.006599  \n",
       "3     0.017810    -0.047467  \n",
       "4     1.222390    -1.423210  \n",
       "\n",
       "[5 rows x 1588 columns]"
      ]
     },
     "execution_count": 19,
     "metadata": {},
     "output_type": "execute_result"
    }
   ],
   "source": [
    "X_test.head()"
   ]
  },
  {
   "cell_type": "code",
   "execution_count": 20,
   "metadata": {},
   "outputs": [
    {
     "name": "stdout",
     "output_type": "stream",
     "text": [
      "Load Features (train) process took 0:01:39.241069 seconds.\n"
     ]
    }
   ],
   "source": [
    "start = datetime.now()\n",
    "\n",
    "X_train = pd.read_csv(X_train_filename_csv, dtype=np.float32)\n",
    "\n",
    "print(f'Load Features (train) process took {datetime.now() - start} seconds.')"
   ]
  },
  {
   "cell_type": "code",
   "execution_count": 21,
   "metadata": {},
   "outputs": [
    {
     "data": {
      "text/html": [
       "<div>\n",
       "<style scoped>\n",
       "    .dataframe tbody tr th:only-of-type {\n",
       "        vertical-align: middle;\n",
       "    }\n",
       "\n",
       "    .dataframe tbody tr th {\n",
       "        vertical-align: top;\n",
       "    }\n",
       "\n",
       "    .dataframe thead th {\n",
       "        text-align: right;\n",
       "    }\n",
       "</style>\n",
       "<table border=\"1\" class=\"dataframe\">\n",
       "  <thead>\n",
       "    <tr style=\"text-align: right;\">\n",
       "      <th></th>\n",
       "      <th>n_[0]-agg-any</th>\n",
       "      <th>n_[0]-agg-all</th>\n",
       "      <th>n_[0]-agg-mean</th>\n",
       "      <th>n_[0]-agg-var</th>\n",
       "      <th>n_[0]-agg-min</th>\n",
       "      <th>n_[0]-agg-max</th>\n",
       "      <th>n_[0]-agg-median</th>\n",
       "      <th>n_[0]-agg-sum</th>\n",
       "      <th>n_[0]-agg-kurtosis</th>\n",
       "      <th>n_[0]-agg-skewness</th>\n",
       "      <th>...</th>\n",
       "      <th>par_vec_390</th>\n",
       "      <th>par_vec_391</th>\n",
       "      <th>par_vec_392</th>\n",
       "      <th>par_vec_393</th>\n",
       "      <th>par_vec_394</th>\n",
       "      <th>par_vec_395</th>\n",
       "      <th>par_vec_396</th>\n",
       "      <th>par_vec_397</th>\n",
       "      <th>par_vec_398</th>\n",
       "      <th>par_vec_399</th>\n",
       "    </tr>\n",
       "  </thead>\n",
       "  <tbody>\n",
       "    <tr>\n",
       "      <th>0</th>\n",
       "      <td>0.0</td>\n",
       "      <td>0.0</td>\n",
       "      <td>0.0</td>\n",
       "      <td>0.0</td>\n",
       "      <td>0.0</td>\n",
       "      <td>0.0</td>\n",
       "      <td>0.0</td>\n",
       "      <td>0.0</td>\n",
       "      <td>-3.0</td>\n",
       "      <td>0.0</td>\n",
       "      <td>...</td>\n",
       "      <td>-0.047276</td>\n",
       "      <td>-0.050462</td>\n",
       "      <td>-0.131864</td>\n",
       "      <td>0.068065</td>\n",
       "      <td>-0.074033</td>\n",
       "      <td>0.016362</td>\n",
       "      <td>0.055275</td>\n",
       "      <td>-0.063609</td>\n",
       "      <td>-0.014739</td>\n",
       "      <td>-0.076884</td>\n",
       "    </tr>\n",
       "    <tr>\n",
       "      <th>1</th>\n",
       "      <td>0.0</td>\n",
       "      <td>0.0</td>\n",
       "      <td>0.0</td>\n",
       "      <td>0.0</td>\n",
       "      <td>0.0</td>\n",
       "      <td>0.0</td>\n",
       "      <td>0.0</td>\n",
       "      <td>0.0</td>\n",
       "      <td>-3.0</td>\n",
       "      <td>0.0</td>\n",
       "      <td>...</td>\n",
       "      <td>-0.169210</td>\n",
       "      <td>-0.091240</td>\n",
       "      <td>-0.008702</td>\n",
       "      <td>0.158941</td>\n",
       "      <td>-0.102764</td>\n",
       "      <td>-0.001776</td>\n",
       "      <td>0.035398</td>\n",
       "      <td>0.005877</td>\n",
       "      <td>-0.033673</td>\n",
       "      <td>-0.266011</td>\n",
       "    </tr>\n",
       "    <tr>\n",
       "      <th>2</th>\n",
       "      <td>0.0</td>\n",
       "      <td>0.0</td>\n",
       "      <td>0.0</td>\n",
       "      <td>0.0</td>\n",
       "      <td>0.0</td>\n",
       "      <td>0.0</td>\n",
       "      <td>0.0</td>\n",
       "      <td>0.0</td>\n",
       "      <td>-3.0</td>\n",
       "      <td>0.0</td>\n",
       "      <td>...</td>\n",
       "      <td>0.086971</td>\n",
       "      <td>0.152903</td>\n",
       "      <td>-0.141693</td>\n",
       "      <td>0.364022</td>\n",
       "      <td>-0.708731</td>\n",
       "      <td>0.064241</td>\n",
       "      <td>-0.183656</td>\n",
       "      <td>-0.001072</td>\n",
       "      <td>0.235746</td>\n",
       "      <td>-0.530483</td>\n",
       "    </tr>\n",
       "    <tr>\n",
       "      <th>3</th>\n",
       "      <td>0.0</td>\n",
       "      <td>0.0</td>\n",
       "      <td>0.0</td>\n",
       "      <td>0.0</td>\n",
       "      <td>0.0</td>\n",
       "      <td>0.0</td>\n",
       "      <td>0.0</td>\n",
       "      <td>0.0</td>\n",
       "      <td>-3.0</td>\n",
       "      <td>0.0</td>\n",
       "      <td>...</td>\n",
       "      <td>0.019576</td>\n",
       "      <td>-0.020715</td>\n",
       "      <td>0.080360</td>\n",
       "      <td>0.170148</td>\n",
       "      <td>-0.339541</td>\n",
       "      <td>-0.025463</td>\n",
       "      <td>0.062125</td>\n",
       "      <td>-0.004156</td>\n",
       "      <td>-0.044532</td>\n",
       "      <td>-0.101253</td>\n",
       "    </tr>\n",
       "    <tr>\n",
       "      <th>4</th>\n",
       "      <td>0.0</td>\n",
       "      <td>0.0</td>\n",
       "      <td>0.0</td>\n",
       "      <td>0.0</td>\n",
       "      <td>0.0</td>\n",
       "      <td>0.0</td>\n",
       "      <td>0.0</td>\n",
       "      <td>0.0</td>\n",
       "      <td>-3.0</td>\n",
       "      <td>0.0</td>\n",
       "      <td>...</td>\n",
       "      <td>-0.264917</td>\n",
       "      <td>-0.144005</td>\n",
       "      <td>-0.086391</td>\n",
       "      <td>0.027880</td>\n",
       "      <td>-0.394154</td>\n",
       "      <td>-0.057364</td>\n",
       "      <td>-0.211917</td>\n",
       "      <td>0.069740</td>\n",
       "      <td>0.095384</td>\n",
       "      <td>-0.356454</td>\n",
       "    </tr>\n",
       "  </tbody>\n",
       "</table>\n",
       "<p>5 rows × 1588 columns</p>\n",
       "</div>"
      ],
      "text/plain": [
       "   n_[0]-agg-any  n_[0]-agg-all  n_[0]-agg-mean  n_[0]-agg-var  n_[0]-agg-min  \\\n",
       "0            0.0            0.0             0.0            0.0            0.0   \n",
       "1            0.0            0.0             0.0            0.0            0.0   \n",
       "2            0.0            0.0             0.0            0.0            0.0   \n",
       "3            0.0            0.0             0.0            0.0            0.0   \n",
       "4            0.0            0.0             0.0            0.0            0.0   \n",
       "\n",
       "   n_[0]-agg-max  n_[0]-agg-median  n_[0]-agg-sum  n_[0]-agg-kurtosis  \\\n",
       "0            0.0               0.0            0.0                -3.0   \n",
       "1            0.0               0.0            0.0                -3.0   \n",
       "2            0.0               0.0            0.0                -3.0   \n",
       "3            0.0               0.0            0.0                -3.0   \n",
       "4            0.0               0.0            0.0                -3.0   \n",
       "\n",
       "   n_[0]-agg-skewness  ...  par_vec_390  par_vec_391  par_vec_392  \\\n",
       "0                 0.0  ...    -0.047276    -0.050462    -0.131864   \n",
       "1                 0.0  ...    -0.169210    -0.091240    -0.008702   \n",
       "2                 0.0  ...     0.086971     0.152903    -0.141693   \n",
       "3                 0.0  ...     0.019576    -0.020715     0.080360   \n",
       "4                 0.0  ...    -0.264917    -0.144005    -0.086391   \n",
       "\n",
       "   par_vec_393  par_vec_394  par_vec_395  par_vec_396  par_vec_397  \\\n",
       "0     0.068065    -0.074033     0.016362     0.055275    -0.063609   \n",
       "1     0.158941    -0.102764    -0.001776     0.035398     0.005877   \n",
       "2     0.364022    -0.708731     0.064241    -0.183656    -0.001072   \n",
       "3     0.170148    -0.339541    -0.025463     0.062125    -0.004156   \n",
       "4     0.027880    -0.394154    -0.057364    -0.211917     0.069740   \n",
       "\n",
       "   par_vec_398  par_vec_399  \n",
       "0    -0.014739    -0.076884  \n",
       "1    -0.033673    -0.266011  \n",
       "2     0.235746    -0.530483  \n",
       "3    -0.044532    -0.101253  \n",
       "4     0.095384    -0.356454  \n",
       "\n",
       "[5 rows x 1588 columns]"
      ]
     },
     "execution_count": 21,
     "metadata": {},
     "output_type": "execute_result"
    }
   ],
   "source": [
    "X_train.head()"
   ]
  },
  {
   "cell_type": "code",
   "execution_count": 22,
   "metadata": {},
   "outputs": [
    {
     "name": "stdout",
     "output_type": "stream",
     "text": [
      "Load Features (validation) process took 0:00:30.066667 seconds.\n"
     ]
    }
   ],
   "source": [
    "start = datetime.now()\n",
    "\n",
    "X_validation = pd.read_csv(X_validation_filename_csv, dtype=np.float32)\n",
    "\n",
    "print(f'Load Features (validation) process took {datetime.now() - start} seconds.')"
   ]
  },
  {
   "cell_type": "code",
   "execution_count": 23,
   "metadata": {},
   "outputs": [
    {
     "data": {
      "text/html": [
       "<div>\n",
       "<style scoped>\n",
       "    .dataframe tbody tr th:only-of-type {\n",
       "        vertical-align: middle;\n",
       "    }\n",
       "\n",
       "    .dataframe tbody tr th {\n",
       "        vertical-align: top;\n",
       "    }\n",
       "\n",
       "    .dataframe thead th {\n",
       "        text-align: right;\n",
       "    }\n",
       "</style>\n",
       "<table border=\"1\" class=\"dataframe\">\n",
       "  <thead>\n",
       "    <tr style=\"text-align: right;\">\n",
       "      <th></th>\n",
       "      <th>n_[0]-agg-any</th>\n",
       "      <th>n_[0]-agg-all</th>\n",
       "      <th>n_[0]-agg-mean</th>\n",
       "      <th>n_[0]-agg-var</th>\n",
       "      <th>n_[0]-agg-min</th>\n",
       "      <th>n_[0]-agg-max</th>\n",
       "      <th>n_[0]-agg-median</th>\n",
       "      <th>n_[0]-agg-sum</th>\n",
       "      <th>n_[0]-agg-kurtosis</th>\n",
       "      <th>n_[0]-agg-skewness</th>\n",
       "      <th>...</th>\n",
       "      <th>par_vec_390</th>\n",
       "      <th>par_vec_391</th>\n",
       "      <th>par_vec_392</th>\n",
       "      <th>par_vec_393</th>\n",
       "      <th>par_vec_394</th>\n",
       "      <th>par_vec_395</th>\n",
       "      <th>par_vec_396</th>\n",
       "      <th>par_vec_397</th>\n",
       "      <th>par_vec_398</th>\n",
       "      <th>par_vec_399</th>\n",
       "    </tr>\n",
       "  </thead>\n",
       "  <tbody>\n",
       "    <tr>\n",
       "      <th>0</th>\n",
       "      <td>0.0</td>\n",
       "      <td>0.0</td>\n",
       "      <td>0.00000</td>\n",
       "      <td>0.000000</td>\n",
       "      <td>0.0</td>\n",
       "      <td>0.0</td>\n",
       "      <td>0.0</td>\n",
       "      <td>0.0</td>\n",
       "      <td>-3.000000</td>\n",
       "      <td>0.000000</td>\n",
       "      <td>...</td>\n",
       "      <td>-0.105711</td>\n",
       "      <td>0.181456</td>\n",
       "      <td>-0.294050</td>\n",
       "      <td>0.163736</td>\n",
       "      <td>-0.496933</td>\n",
       "      <td>0.069320</td>\n",
       "      <td>-0.040903</td>\n",
       "      <td>-0.056309</td>\n",
       "      <td>0.334068</td>\n",
       "      <td>-0.391248</td>\n",
       "    </tr>\n",
       "    <tr>\n",
       "      <th>1</th>\n",
       "      <td>0.0</td>\n",
       "      <td>0.0</td>\n",
       "      <td>0.00000</td>\n",
       "      <td>0.000000</td>\n",
       "      <td>0.0</td>\n",
       "      <td>0.0</td>\n",
       "      <td>0.0</td>\n",
       "      <td>0.0</td>\n",
       "      <td>-3.000000</td>\n",
       "      <td>0.000000</td>\n",
       "      <td>...</td>\n",
       "      <td>-0.258922</td>\n",
       "      <td>-0.001249</td>\n",
       "      <td>-0.231181</td>\n",
       "      <td>0.288208</td>\n",
       "      <td>-0.181530</td>\n",
       "      <td>0.052967</td>\n",
       "      <td>-0.037158</td>\n",
       "      <td>-0.016913</td>\n",
       "      <td>0.032424</td>\n",
       "      <td>-0.311296</td>\n",
       "    </tr>\n",
       "    <tr>\n",
       "      <th>2</th>\n",
       "      <td>1.0</td>\n",
       "      <td>0.0</td>\n",
       "      <td>0.25000</td>\n",
       "      <td>0.187500</td>\n",
       "      <td>0.0</td>\n",
       "      <td>1.0</td>\n",
       "      <td>0.0</td>\n",
       "      <td>10.0</td>\n",
       "      <td>-0.666667</td>\n",
       "      <td>1.154701</td>\n",
       "      <td>...</td>\n",
       "      <td>-0.265864</td>\n",
       "      <td>-0.388315</td>\n",
       "      <td>-0.133144</td>\n",
       "      <td>-0.209464</td>\n",
       "      <td>-0.042673</td>\n",
       "      <td>-0.084304</td>\n",
       "      <td>-0.112698</td>\n",
       "      <td>0.147051</td>\n",
       "      <td>0.224680</td>\n",
       "      <td>-0.373928</td>\n",
       "    </tr>\n",
       "    <tr>\n",
       "      <th>3</th>\n",
       "      <td>0.0</td>\n",
       "      <td>0.0</td>\n",
       "      <td>0.00000</td>\n",
       "      <td>0.000000</td>\n",
       "      <td>0.0</td>\n",
       "      <td>0.0</td>\n",
       "      <td>0.0</td>\n",
       "      <td>0.0</td>\n",
       "      <td>-3.000000</td>\n",
       "      <td>0.000000</td>\n",
       "      <td>...</td>\n",
       "      <td>-0.198478</td>\n",
       "      <td>0.041071</td>\n",
       "      <td>-0.265879</td>\n",
       "      <td>0.261911</td>\n",
       "      <td>-0.264352</td>\n",
       "      <td>-0.115126</td>\n",
       "      <td>-0.271292</td>\n",
       "      <td>-0.061009</td>\n",
       "      <td>0.032532</td>\n",
       "      <td>-0.105325</td>\n",
       "    </tr>\n",
       "    <tr>\n",
       "      <th>4</th>\n",
       "      <td>1.0</td>\n",
       "      <td>0.0</td>\n",
       "      <td>0.09434</td>\n",
       "      <td>0.311855</td>\n",
       "      <td>0.0</td>\n",
       "      <td>4.0</td>\n",
       "      <td>0.0</td>\n",
       "      <td>5.0</td>\n",
       "      <td>42.275021</td>\n",
       "      <td>6.530585</td>\n",
       "      <td>...</td>\n",
       "      <td>-0.199170</td>\n",
       "      <td>-0.486600</td>\n",
       "      <td>0.026245</td>\n",
       "      <td>-0.288035</td>\n",
       "      <td>-0.301814</td>\n",
       "      <td>-0.007751</td>\n",
       "      <td>0.102981</td>\n",
       "      <td>0.405819</td>\n",
       "      <td>0.632662</td>\n",
       "      <td>-0.274999</td>\n",
       "    </tr>\n",
       "  </tbody>\n",
       "</table>\n",
       "<p>5 rows × 1588 columns</p>\n",
       "</div>"
      ],
      "text/plain": [
       "   n_[0]-agg-any  n_[0]-agg-all  n_[0]-agg-mean  n_[0]-agg-var  n_[0]-agg-min  \\\n",
       "0            0.0            0.0         0.00000       0.000000            0.0   \n",
       "1            0.0            0.0         0.00000       0.000000            0.0   \n",
       "2            1.0            0.0         0.25000       0.187500            0.0   \n",
       "3            0.0            0.0         0.00000       0.000000            0.0   \n",
       "4            1.0            0.0         0.09434       0.311855            0.0   \n",
       "\n",
       "   n_[0]-agg-max  n_[0]-agg-median  n_[0]-agg-sum  n_[0]-agg-kurtosis  \\\n",
       "0            0.0               0.0            0.0           -3.000000   \n",
       "1            0.0               0.0            0.0           -3.000000   \n",
       "2            1.0               0.0           10.0           -0.666667   \n",
       "3            0.0               0.0            0.0           -3.000000   \n",
       "4            4.0               0.0            5.0           42.275021   \n",
       "\n",
       "   n_[0]-agg-skewness  ...  par_vec_390  par_vec_391  par_vec_392  \\\n",
       "0            0.000000  ...    -0.105711     0.181456    -0.294050   \n",
       "1            0.000000  ...    -0.258922    -0.001249    -0.231181   \n",
       "2            1.154701  ...    -0.265864    -0.388315    -0.133144   \n",
       "3            0.000000  ...    -0.198478     0.041071    -0.265879   \n",
       "4            6.530585  ...    -0.199170    -0.486600     0.026245   \n",
       "\n",
       "   par_vec_393  par_vec_394  par_vec_395  par_vec_396  par_vec_397  \\\n",
       "0     0.163736    -0.496933     0.069320    -0.040903    -0.056309   \n",
       "1     0.288208    -0.181530     0.052967    -0.037158    -0.016913   \n",
       "2    -0.209464    -0.042673    -0.084304    -0.112698     0.147051   \n",
       "3     0.261911    -0.264352    -0.115126    -0.271292    -0.061009   \n",
       "4    -0.288035    -0.301814    -0.007751     0.102981     0.405819   \n",
       "\n",
       "   par_vec_398  par_vec_399  \n",
       "0     0.334068    -0.391248  \n",
       "1     0.032424    -0.311296  \n",
       "2     0.224680    -0.373928  \n",
       "3     0.032532    -0.105325  \n",
       "4     0.632662    -0.274999  \n",
       "\n",
       "[5 rows x 1588 columns]"
      ]
     },
     "execution_count": 23,
     "metadata": {},
     "output_type": "execute_result"
    }
   ],
   "source": [
    "X_validation.head()"
   ]
  },
  {
   "cell_type": "markdown",
   "metadata": {},
   "source": [
    "## Impute NaN values with feature means"
   ]
  },
  {
   "cell_type": "code",
   "execution_count": 24,
   "metadata": {},
   "outputs": [
    {
     "name": "stdout",
     "output_type": "stream",
     "text": [
      "Transpose process took 0:00:12.315641 seconds.\n"
     ]
    }
   ],
   "source": [
    "start = datetime.now()\n",
    "\n",
    "train_columns_means = pd.DataFrame(X_train.mean()).transpose()\n",
    "\n",
    "print(f'Transpose process took {datetime.now() - start} seconds.')"
   ]
  },
  {
   "cell_type": "code",
   "execution_count": 25,
   "metadata": {},
   "outputs": [
    {
     "name": "stdout",
     "output_type": "stream",
     "text": [
      "FillNA process took 0:00:04.335100 seconds.\n"
     ]
    }
   ],
   "source": [
    "start = datetime.now()\n",
    "\n",
    "X_train.fillna(train_columns_means.iloc[0], inplace=True)\n",
    "X_validation.fillna(train_columns_means.iloc[0], inplace=True)\n",
    "X_test.fillna(train_columns_means.iloc[0], inplace=True)\n",
    "\n",
    "train_columns_means=None\n",
    "\n",
    "print(f'FillNA process took {datetime.now() - start} seconds.')"
   ]
  },
  {
   "cell_type": "code",
   "execution_count": 26,
   "metadata": {},
   "outputs": [
    {
     "name": "stdout",
     "output_type": "stream",
     "text": [
      "Save parquet process took 0:00:58.970663 seconds.\n"
     ]
    }
   ],
   "source": [
    "start = datetime.now()\n",
    "\n",
    "X_train.to_parquet('../data/data/processed/train.parquet', engine='pyarrow', compression='snappy')\n",
    "X_validation.to_parquet('../data/data/processed/validation.parquet', engine='pyarrow', compression='snappy')\n",
    "X_test.to_parquet('../data/data/processed/test.parquet', engine='pyarrow', compression='snappy')\n",
    "\n",
    "print(f'Save parquet process took {datetime.now() - start} seconds.')"
   ]
  },
  {
   "cell_type": "code",
   "execution_count": 27,
   "metadata": {},
   "outputs": [
    {
     "name": "stdout",
     "output_type": "stream",
     "text": [
      "Completed at 2022-02-21 13:22:51.962526.\n"
     ]
    }
   ],
   "source": [
    "print(f'Completed at {datetime.now()}.')"
   ]
  },
  {
   "cell_type": "code",
   "execution_count": null,
   "metadata": {},
   "outputs": [],
   "source": []
  }
 ],
 "metadata": {
  "kernelspec": {
   "display_name": "Python 3",
   "language": "python",
   "name": "python3"
  },
  "language_info": {
   "codemirror_mode": {
    "name": "ipython",
    "version": 3
   },
   "file_extension": ".py",
   "mimetype": "text/x-python",
   "name": "python",
   "nbconvert_exporter": "python",
   "pygments_lexer": "ipython3",
   "version": "3.6.12"
  }
 },
 "nbformat": 4,
 "nbformat_minor": 2
}
