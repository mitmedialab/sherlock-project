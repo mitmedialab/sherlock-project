{
 "cells": [
  {
   "cell_type": "markdown",
   "id": "0a2584dd",
   "metadata": {},
   "source": [
    "# Using Sherlock out-of-the-box\n",
    "This notebook shows how to predict a semantic type for a given table column.\n",
    "The steps are basically:\n",
    "- Extract features from a column.\n",
    "- Initialize Sherlock.\n",
    "- Make a prediction for the feature representation of the column."
   ]
  },
  {
   "cell_type": "code",
   "execution_count": 1,
   "id": "86625d3e",
   "metadata": {},
   "outputs": [],
   "source": [
    "import numpy as np\n",
    "import pandas as pd\n",
    "import pyarrow as pa\n",
    "\n",
    "from sherlock import helpers\n",
    "from sherlock.deploy.model import SherlockModel\n",
    "from sherlock.functional import extract_features_to_csv\n",
    "from sherlock.features.paragraph_vectors import initialise_pretrained_model, initialise_nltk\n",
    "from sherlock.features.preprocessing import (\n",
    "    extract_features,\n",
    "    convert_string_lists_to_lists,\n",
    "    prepare_feature_extraction,\n",
    "    load_parquet_values,\n",
    ")\n",
    "from sherlock.features.word_embeddings import initialise_word_embeddings"
   ]
  },
  {
   "cell_type": "code",
   "execution_count": 2,
   "id": "dc6b1a90",
   "metadata": {},
   "outputs": [
    {
     "data": {
      "text/plain": [
       "'13'"
      ]
     },
     "execution_count": 2,
     "metadata": {},
     "output_type": "execute_result"
    }
   ],
   "source": [
    "%env PYTHONHASHSEED"
   ]
  },
  {
   "cell_type": "markdown",
   "id": "2b3b7967",
   "metadata": {},
   "source": [
    "## Extract features"
   ]
  },
  {
   "cell_type": "code",
   "execution_count": 3,
   "id": "e8682ce0",
   "metadata": {},
   "outputs": [
    {
     "name": "stdout",
     "output_type": "stream",
     "text": [
      "Preparing feature extraction by downloading 2 files:\n",
      "        \n",
      " ../sherlock/features/glove.6B.50d.txt and \n",
      " ../sherlock/features/par_vec_trained_400.pkl.docvecs.vectors_docs.npy.\n",
      "        \n",
      "All files for extracting word and paragraph embeddings are present.\n",
      "Initialising word embeddings\n",
      "Initialise Word Embeddings process took 0:00:05.275641 seconds.\n",
      "Initialise Doc2Vec Model, 400 dim, process took 0:00:02.651327 seconds. (filename = ../sherlock/features/par_vec_trained_400.pkl)\n",
      "Initialised NLTK, process took 0:00:00.183191 seconds.\n"
     ]
    },
    {
     "name": "stderr",
     "output_type": "stream",
     "text": [
      "[nltk_data] Downloading package punkt to /Users/madelon/nltk_data...\n",
      "[nltk_data]   Package punkt is already up-to-date!\n",
      "[nltk_data] Downloading package stopwords to\n",
      "[nltk_data]     /Users/madelon/nltk_data...\n",
      "[nltk_data]   Package stopwords is already up-to-date!\n"
     ]
    }
   ],
   "source": [
    "prepare_feature_extraction()\n",
    "initialise_word_embeddings()\n",
    "initialise_pretrained_model(400)\n",
    "initialise_nltk()"
   ]
  },
  {
   "cell_type": "code",
   "execution_count": 4,
   "id": "db04ccf9",
   "metadata": {},
   "outputs": [],
   "source": [
    "data = pd.Series([[\"madelon hulsebos\", \"lute something\", \"anna anotherhing\"], [\"Binnenkant 2\", \"Binnenkant 3 1011BH\"]], name=\"values\")"
   ]
  },
  {
   "cell_type": "code",
   "execution_count": 5,
   "id": "4875f6c7",
   "metadata": {},
   "outputs": [
    {
     "data": {
      "text/plain": [
       "0    [madelon hulsebos, lute something, anna anothe...\n",
       "1                  [Binnenkant 2, Binnenkant 3 1011BH]\n",
       "Name: values, dtype: object"
      ]
     },
     "execution_count": 5,
     "metadata": {},
     "output_type": "execute_result"
    }
   ],
   "source": [
    "data"
   ]
  },
  {
   "cell_type": "code",
   "execution_count": 6,
   "id": "7154806c",
   "metadata": {},
   "outputs": [],
   "source": [
    "pd.DataFrame(data).astype(str).to_parquet(\"../data/data/raw/temporary.parquet\")"
   ]
  },
  {
   "cell_type": "code",
   "execution_count": null,
   "id": "86388a89",
   "metadata": {},
   "outputs": [],
   "source": []
  },
  {
   "cell_type": "markdown",
   "id": "a48664cd",
   "metadata": {},
   "source": [
    "### Issue 1:  `extract_features`\n",
    "The below code yields incorrect features due to `,` (as a character features) being read as a separator in the \"read_csv\"."
   ]
  },
  {
   "cell_type": "code",
   "execution_count": 7,
   "id": "f7f2c846",
   "metadata": {},
   "outputs": [
    {
     "name": "stderr",
     "output_type": "stream",
     "text": [
      "Extracting Features: 100%|██████████| 2/2 [00:00<00:00, 134.55it/s]"
     ]
    },
    {
     "name": "stdout",
     "output_type": "stream",
     "text": [
      "Exporting 1588 column features\n"
     ]
    },
    {
     "name": "stderr",
     "output_type": "stream",
     "text": [
      "\n"
     ]
    }
   ],
   "source": [
    "extract_features(\n",
    "    \"../temporary.csv\",\n",
    "    data\n",
    ")\n",
    "feature_vector = pd.read_csv(\"../temporary.csv\", dtype=np.float32)"
   ]
  },
  {
   "cell_type": "code",
   "execution_count": 8,
   "id": "0c42ce71",
   "metadata": {},
   "outputs": [
    {
     "data": {
      "text/html": [
       "<div>\n",
       "<style scoped>\n",
       "    .dataframe tbody tr th:only-of-type {\n",
       "        vertical-align: middle;\n",
       "    }\n",
       "\n",
       "    .dataframe tbody tr th {\n",
       "        vertical-align: top;\n",
       "    }\n",
       "\n",
       "    .dataframe thead th {\n",
       "        text-align: right;\n",
       "    }\n",
       "</style>\n",
       "<table border=\"1\" class=\"dataframe\">\n",
       "  <thead>\n",
       "    <tr style=\"text-align: right;\">\n",
       "      <th></th>\n",
       "      <th>n_[0]-agg-any</th>\n",
       "      <th>n_[0]-agg-all</th>\n",
       "      <th>n_[0]-agg-mean</th>\n",
       "      <th>n_[0]-agg-var</th>\n",
       "      <th>n_[0]-agg-min</th>\n",
       "      <th>n_[0]-agg-max</th>\n",
       "      <th>n_[0]-agg-median</th>\n",
       "      <th>n_[0]-agg-sum</th>\n",
       "      <th>n_[0]-agg-kurtosis</th>\n",
       "      <th>n_[0]-agg-skewness</th>\n",
       "      <th>...</th>\n",
       "      <th>par_vec_390</th>\n",
       "      <th>par_vec_391</th>\n",
       "      <th>par_vec_392</th>\n",
       "      <th>par_vec_393</th>\n",
       "      <th>par_vec_394</th>\n",
       "      <th>par_vec_395</th>\n",
       "      <th>par_vec_396</th>\n",
       "      <th>par_vec_397</th>\n",
       "      <th>par_vec_398</th>\n",
       "      <th>par_vec_399</th>\n",
       "    </tr>\n",
       "  </thead>\n",
       "  <tbody>\n",
       "    <tr>\n",
       "      <th>0</th>\n",
       "      <td>0.0</td>\n",
       "      <td>0.0</td>\n",
       "      <td>0.0</td>\n",
       "      <td>0.00</td>\n",
       "      <td>0.0</td>\n",
       "      <td>0.0</td>\n",
       "      <td>0.0</td>\n",
       "      <td>0.0</td>\n",
       "      <td>-3.0</td>\n",
       "      <td>0.0</td>\n",
       "      <td>...</td>\n",
       "      <td>NaN</td>\n",
       "      <td>NaN</td>\n",
       "      <td>NaN</td>\n",
       "      <td>NaN</td>\n",
       "      <td>NaN</td>\n",
       "      <td>NaN</td>\n",
       "      <td>NaN</td>\n",
       "      <td>NaN</td>\n",
       "      <td>NaN</td>\n",
       "      <td>NaN</td>\n",
       "    </tr>\n",
       "    <tr>\n",
       "      <th>1</th>\n",
       "      <td>1.0</td>\n",
       "      <td>0.0</td>\n",
       "      <td>0.5</td>\n",
       "      <td>0.25</td>\n",
       "      <td>0.0</td>\n",
       "      <td>1.0</td>\n",
       "      <td>0.5</td>\n",
       "      <td>1.0</td>\n",
       "      <td>-2.0</td>\n",
       "      <td>0.0</td>\n",
       "      <td>...</td>\n",
       "      <td>NaN</td>\n",
       "      <td>NaN</td>\n",
       "      <td>NaN</td>\n",
       "      <td>NaN</td>\n",
       "      <td>NaN</td>\n",
       "      <td>NaN</td>\n",
       "      <td>NaN</td>\n",
       "      <td>NaN</td>\n",
       "      <td>NaN</td>\n",
       "      <td>NaN</td>\n",
       "    </tr>\n",
       "  </tbody>\n",
       "</table>\n",
       "<p>2 rows × 1598 columns</p>\n",
       "</div>"
      ],
      "text/plain": [
       "   n_[0]-agg-any  n_[0]-agg-all  n_[0]-agg-mean  n_[0]-agg-var  n_[0]-agg-min  \\\n",
       "0            0.0            0.0             0.0           0.00            0.0   \n",
       "1            1.0            0.0             0.5           0.25            0.0   \n",
       "\n",
       "   n_[0]-agg-max  n_[0]-agg-median  n_[0]-agg-sum  n_[0]-agg-kurtosis  \\\n",
       "0            0.0               0.0            0.0                -3.0   \n",
       "1            1.0               0.5            1.0                -2.0   \n",
       "\n",
       "   n_[0]-agg-skewness  ...  par_vec_390  par_vec_391  par_vec_392  \\\n",
       "0                 0.0  ...          NaN          NaN          NaN   \n",
       "1                 0.0  ...          NaN          NaN          NaN   \n",
       "\n",
       "   par_vec_393  par_vec_394  par_vec_395  par_vec_396  par_vec_397  \\\n",
       "0          NaN          NaN          NaN          NaN          NaN   \n",
       "1          NaN          NaN          NaN          NaN          NaN   \n",
       "\n",
       "   par_vec_398  par_vec_399  \n",
       "0          NaN          NaN  \n",
       "1          NaN          NaN  \n",
       "\n",
       "[2 rows x 1598 columns]"
      ]
     },
     "execution_count": 8,
     "metadata": {},
     "output_type": "execute_result"
    }
   ],
   "source": [
    "feature_vector"
   ]
  },
  {
   "cell_type": "code",
   "execution_count": 9,
   "id": "5f9c4939",
   "metadata": {},
   "outputs": [
    {
     "data": {
      "text/plain": [
       "(2, 1598)"
      ]
     },
     "execution_count": 9,
     "metadata": {},
     "output_type": "execute_result"
    }
   ],
   "source": [
    "feature_vector.shape"
   ]
  },
  {
   "cell_type": "code",
   "execution_count": 10,
   "id": "d244f36b",
   "metadata": {},
   "outputs": [
    {
     "data": {
      "text/plain": [
       "0"
      ]
     },
     "execution_count": 10,
     "metadata": {},
     "output_type": "execute_result"
    }
   ],
   "source": [
    "feature_vector.columns.str.startswith('n_[,').sum()"
   ]
  },
  {
   "cell_type": "markdown",
   "id": "a2f5c525",
   "metadata": {},
   "source": [
    "Problem: 1598 features due to the `n_[,]-agg-any` being split due to the csv dataframe dump"
   ]
  },
  {
   "cell_type": "code",
   "execution_count": null,
   "id": "52047a6b",
   "metadata": {},
   "outputs": [],
   "source": []
  },
  {
   "cell_type": "markdown",
   "id": "39f08e37",
   "metadata": {},
   "source": [
    "### Issue 2: `extract_features_to_csv`"
   ]
  },
  {
   "cell_type": "code",
   "execution_count": 11,
   "id": "d7872af9",
   "metadata": {},
   "outputs": [],
   "source": [
    "values = load_parquet_values(\"../data/data/raw/temporary.parquet\")"
   ]
  },
  {
   "cell_type": "code",
   "execution_count": 12,
   "id": "271ef38d",
   "metadata": {},
   "outputs": [
    {
     "data": {
      "text/plain": [
       "<pyarrow.StringScalar: \"['madelon hulsebos', 'lute something', 'anna anotherhing']\">"
      ]
     },
     "execution_count": 12,
     "metadata": {},
     "output_type": "execute_result"
    }
   ],
   "source": [
    "values[0]"
   ]
  },
  {
   "cell_type": "code",
   "execution_count": 13,
   "id": "2754592a",
   "metadata": {},
   "outputs": [
    {
     "name": "stdout",
     "output_type": "stream",
     "text": [
      "Starting ../data/data/processed/temporary.csv at 2022-02-11 08:52:49.908673. Rows=2, using 8 CPU cores\n",
      "[\n",
      "  [\n",
      "    \"['madelon hulsebos', 'lute something', 'anna anotherhing']\",\n",
      "    \"['Binnenkant 2', 'Binnenkant 3 1011BH']\"\n",
      "  ]\n",
      "]\n",
      "None\n"
     ]
    },
    {
     "ename": "Error",
     "evalue": "iterable expected, not NoneType",
     "output_type": "error",
     "traceback": [
      "\u001b[0;31m---------------------------------------------------------------------------\u001b[0m",
      "\u001b[0;31mError\u001b[0m                                     Traceback (most recent call last)",
      "\u001b[0;32m<ipython-input-13-a160f9e51eb9>\u001b[0m in \u001b[0;36m<module>\u001b[0;34m\u001b[0m\n\u001b[0;32m----> 1\u001b[0;31m \u001b[0mextract_features_to_csv\u001b[0m\u001b[0;34m(\u001b[0m\u001b[0;34m\"../data/data/processed/temporary.csv\"\u001b[0m\u001b[0;34m,\u001b[0m \u001b[0mvalues\u001b[0m\u001b[0;34m)\u001b[0m\u001b[0;34m\u001b[0m\u001b[0;34m\u001b[0m\u001b[0m\n\u001b[0m",
      "\u001b[0;32m~/Documents/PhD/Sherlock/sherlock-project/sherlock/functional.py\u001b[0m in \u001b[0;36mextract_features_to_csv\u001b[0;34m(output_path, parquet_values)\u001b[0m\n\u001b[1;32m    153\u001b[0m                 \u001b[0mfirst_keys\u001b[0m \u001b[0;34m=\u001b[0m \u001b[0mkeys\u001b[0m\u001b[0;34m\u001b[0m\u001b[0;34m\u001b[0m\u001b[0m\n\u001b[1;32m    154\u001b[0m                 \u001b[0mprint\u001b[0m\u001b[0;34m(\u001b[0m\u001b[0mkeys\u001b[0m\u001b[0;34m)\u001b[0m\u001b[0;34m\u001b[0m\u001b[0;34m\u001b[0m\u001b[0m\n\u001b[0;32m--> 155\u001b[0;31m                 \u001b[0mfirst_keys_str\u001b[0m \u001b[0;34m=\u001b[0m \u001b[0mkeys_to_csv\u001b[0m\u001b[0;34m(\u001b[0m\u001b[0mkeys\u001b[0m\u001b[0;34m)\u001b[0m\u001b[0;34m\u001b[0m\u001b[0;34m\u001b[0m\u001b[0m\n\u001b[0m\u001b[1;32m    156\u001b[0m \u001b[0;34m\u001b[0m\u001b[0m\n\u001b[1;32m    157\u001b[0m                 \u001b[0mprint\u001b[0m\u001b[0;34m(\u001b[0m\u001b[0;34mf\"Exporting {len(first_keys)} column features\"\u001b[0m\u001b[0;34m)\u001b[0m\u001b[0;34m\u001b[0m\u001b[0;34m\u001b[0m\u001b[0m\n",
      "\u001b[0;32m~/Documents/PhD/Sherlock/sherlock-project/sherlock/functional.py\u001b[0m in \u001b[0;36mkeys_to_csv\u001b[0;34m(keys)\u001b[0m\n\u001b[1;32m     99\u001b[0m     \u001b[0;32mwith\u001b[0m \u001b[0mio\u001b[0m\u001b[0;34m.\u001b[0m\u001b[0mStringIO\u001b[0m\u001b[0;34m(\u001b[0m\u001b[0;34m)\u001b[0m \u001b[0;32mas\u001b[0m \u001b[0moutput\u001b[0m\u001b[0;34m:\u001b[0m\u001b[0;34m\u001b[0m\u001b[0;34m\u001b[0m\u001b[0m\n\u001b[1;32m    100\u001b[0m         \u001b[0mwriter\u001b[0m \u001b[0;34m=\u001b[0m \u001b[0mcsv\u001b[0m\u001b[0;34m.\u001b[0m\u001b[0mwriter\u001b[0m\u001b[0;34m(\u001b[0m\u001b[0moutput\u001b[0m\u001b[0;34m,\u001b[0m \u001b[0mquoting\u001b[0m\u001b[0;34m=\u001b[0m\u001b[0mcsv\u001b[0m\u001b[0;34m.\u001b[0m\u001b[0mQUOTE_NONNUMERIC\u001b[0m\u001b[0;34m)\u001b[0m\u001b[0;34m\u001b[0m\u001b[0;34m\u001b[0m\u001b[0m\n\u001b[0;32m--> 101\u001b[0;31m         \u001b[0mwriter\u001b[0m\u001b[0;34m.\u001b[0m\u001b[0mwriterow\u001b[0m\u001b[0;34m(\u001b[0m\u001b[0mkeys\u001b[0m\u001b[0;34m)\u001b[0m\u001b[0;34m\u001b[0m\u001b[0;34m\u001b[0m\u001b[0m\n\u001b[0m\u001b[1;32m    102\u001b[0m \u001b[0;34m\u001b[0m\u001b[0m\n\u001b[1;32m    103\u001b[0m         \u001b[0;32mreturn\u001b[0m \u001b[0moutput\u001b[0m\u001b[0;34m.\u001b[0m\u001b[0mgetvalue\u001b[0m\u001b[0;34m(\u001b[0m\u001b[0;34m)\u001b[0m\u001b[0;34m\u001b[0m\u001b[0;34m\u001b[0m\u001b[0m\n",
      "\u001b[0;31mError\u001b[0m: iterable expected, not NoneType"
     ]
    }
   ],
   "source": [
    "extract_features_to_csv(\"../data/data/processed/temporary.csv\", values)"
   ]
  },
  {
   "cell_type": "code",
   "execution_count": null,
   "id": "f41d44ea",
   "metadata": {},
   "outputs": [],
   "source": []
  },
  {
   "cell_type": "markdown",
   "id": "bae1f2ad",
   "metadata": {},
   "source": [
    "### Reproducing the problem with the original file (works in notebook `01-data-processing`)"
   ]
  },
  {
   "cell_type": "code",
   "execution_count": 15,
   "id": "7cce8d3f",
   "metadata": {},
   "outputs": [
    {
     "name": "stdout",
     "output_type": "stream",
     "text": [
      "Starting ../data/data/processed/temporary.csv at 2022-02-11 08:56:21.898853. Rows=137353, using 8 CPU cores\n",
      "[\n",
      "  [\n",
      "    \"['Central Missouri', 'unattached', 'unattached', 'Kansas State University', 'unattached', 'North Dakota State', 'Nike']\",\n",
      "    \"[95, 100, 95, 89, 84, 91, 88, 94, 75, 78, 90, 84, 90, 76, 93, 70, 80, 80, 82]\",\n",
      "    \"['Katie Crews', 'Christian Hiraldo', 'Alex Estrada', 'Fredy Peltroche', 'Xavier Perez', 'Gustavo Larrosa', 'Jose Montano', 'Angel Cruz (7)', 'J Acosta']\",\n",
      "    \"['Christian', 'Non-Christian', 'Unreported', 'Jewish', 'Atheists']\",\n",
      "    \"['AAF-McQuay Canada Inc.', 'AAF-McQuay Canada Inc.', 'Ability Janitorial Services Ltd.', 'Acart Communications Inc.', 'Accu-lift Flooring Systems', 'Accurate Point Construction Ltd.  ', 'Acklands-Grainger Inc.', 'Acme Future Security Controls Inc.', 'ACMG Management Inc.', 'Advanced Chippers Technologies Inc.', 'Advanced Chippewa Technologies Inc.', 'Advanced Chippewa Technologies Inc.', 'Advanced Chippewa Technologies Inc.', 'Advanced Chippewa Technologies Inc.', 'Adware Promotions Inc.', 'Agilent Technologies Canada Inc.', 'Agilent Technologies Canada Inc.', 'Agilent Technologies Canada Inc.', 'Ahearn & Soper Inc.', 'AK Global Construction & Development Inc.', 'Allan K. Parisien', 'Allen-Vanguard Corp.', 'Allen-Vanguard Technologies Inc.', 'Alliance Events', 'Altis Human Resources (Ottawa) Inc.', 'Altis Human Resources (Ottawa) Inc. and Excel Human Resources Inc., in joint venture', 'Altis Human Resources (Ottawa) Inc. and Excell Human Resources Inc., in joint venture', 'Amcan Technologies Inc.', 'Amcan Technologies Inc.', 'AMS Imaging Inc.', 'AMS Imaging Inc.', 'Amtek Engineering Services Ltd.', 'AMTEK Engineering Services Ltd.', 'AMTEK Engineering Services Ltd.', 'Art Woods Office Supplies (1998) Inc.', 'Asbex Ltd.', 'Attachmate Canada Ltd.', 'Bell Canada', 'Bell Canada', 'Bell Canada', 'Bell Canada', 'Bell Canada', 'Bell Canada', 'Bell Canada', 'Bell Canada  ', 'Black & McDonald Ltd.', 'Bradley Air Services Ltd.', 'CA Canada Co.', 'Cache Computer Consulting Corp.', 'Cache Computer Consulting Corp.', 'Cache Computer Consulting Corp.', 'CAE Professional Services (Canada) Inc.', 'Calian Ltd.', 'Calian Ltd.', 'Calian Ltd.', 'Caltrio Co. Ltd.', 'Canada Post Corp.', 'Canadian Advanced Technology Association', 'Canadian Association of Fire Chiefs', 'Canadian Bank Note Company Ltd.', 'Canadian Bank Note Company Ltd.', 'Canadian Payments Assoc.', 'Canadian Space Services Ltd.', 'Carle Ford Inc.', 'Centres de Langues Internationales Charpentier (CLIC)', 'CGI Information Systems and Management Consultants Inc.', 'CGI Information Systems and Management Consultants Inc.', 'CGI Information Systems and Management Consultants Inc.', 'CGI Information Systems and Management Consultants Inc.', 'CGI Information Systems and Management Consultants Inc.', 'Chubb Edwards', 'Click-Into Inc.', 'CLS Lexitech', 'CLS Lexitech Ltd.', 'Conceptext Communications Inc.', 'Conference Board of Canada', 'Construction Héritage', 'Contract Community Inc.', 'Coradix Technology Consulting Ltd.', 'Coradix Technology Consulting Ltd.', 'Crane Canada Inc.', 'Cummins Eastern Canada LP', 'Dalian Enterprises Inc.', 'Dalian Enterprises Inc.', 'Dasco Data Products Ltd.  ', 'Davtair Industries', 'DBA Akran Marketing', 'Defran Inc.', 'Deloitte & Touche, LLP', 'Deloitte & Touche, LLP', 'DEW Engineering and Development ULC ', 'DEW Engineering and Development ULC  ', 'Diligens Inc.', 'Direct Energy Business Services Ltd.', 'Diversitel Communications Inc.  ', 'DLS Technology Corp.', 'DLS Technology Corporation', 'Drycore Electric 2002 Inc.', 'DWP Solutions Inc.', 'DWP Solutions Inc.', 'EllisDon Corp.', 'Emerion', 'Empowered Networks Inc.', 'EMS Technologies Canada Ltd.', 'Entrust Ltd.', 'Entrust Ltd.', 'Ernst & Young LLP', 'Ernst & Young LLP', 'Ernst & Young LLP  ', 'ESRI Canada Ltd.', 'ESRI Canada Ltd.', 'ESRI Canada Ltd.', 'Exact Legal Translations Inc.  ', 'Fleetway Inc.', 'Fox Translations Ltd.', 'Gannon/Blackburn Electric Inc.', 'Gartner Group Canada Co.', 'Genrep Ltd.', 'Genrep Ltd.', 'Genrep Ltd.', 'Genrep Ltd.', 'Gibraltar Solutions Inc.', 'Hay Group Ltd.', 'Hay Group Ltd.', 'Hewlett-Packard (Canada) Co.', 'Hewlett-Packard (Canada) Co.', 'Hewlett-Packard (Canada) Co.', 'Hewlett-Packard (Canada) Co.', 'Hickling Arthur Lows Corp.', 'Hitachi Data Systems Inc.', 'Hitachi Data Systems Inc.', 'Human Resource Capital Group Inc./Spherion  ', 'Ian H. Thomson', 'IBISKA Telecom Inc.', 'IBISKA Telecom Inc.', 'Ibiska Telecom Inc. and CM Inc. joint venture', 'IBM Canada Ltd.', 'IBM Canada Ltd.', 'IBM Canada Ltd.', 'IBM Canada Ltd.', 'IBM Canada Ltd.', 'IBM Canada Ltd.', 'IBM Canada Ltd.', 'IBM Canada Ltd.', 'IBM Canada Ltd.', 'IBM Canada Ltd.', 'IBM Canada Ltd.', 'Integrated Network Security Alliance 2005 Inc.', 'Interactive Audio Visual Inc.', 'Interfax Systems Inc.', 'Intergraph Canada Ltd.', 'Interis Consulting Inc.', 'Interis Consulting Inc.', 'Interis Consulting Inc.', 'Interis Consulting Inc.  ', 'International Distribution Network Canada Ltd.', 'IPSOS-Reid Corp.', 'IPSOS-Reid Corp.', 'IPSS Inc.', 'IT/net Canada Inc.', 'IT/Net Ottawa Inc.', 'IT/Net Ottawa Inc.', 'IT/Net Ottawa Inc.', 'Itex Inc.', 'Itex Inc.', 'Itex Inc.', 'Itex Inc.', 'James L. Armstrong & Associates Inc.', 'JMP Consultants', 'Johnson Controls L.P.', 'Krista Construction Ltd.', \"L'Expert de Parcs J. Aubin Inc.\", 'Lari Construction', 'Laurin & Co.', 'Le Groupe Conseil Baastel Ltee.', 'Learning Tree International Inc.', 'Les Toitures Raymond et Associes, Inc.', 'Les Traductions Tessier S.C.C.', 'Les Traductions Tessier S.C.C.', 'Leverage Technology Resources Inc.', 'Leverage Technology Resources Inc.', 'Lockheed Martin Canada Inc.', 'Lowe-Martin Company Inc.', 'Maplesoft Consulting Inc.', 'Maplesoft Consulting Inc.', 'Maplesoft Consulting Inc.', 'Maplesoft Consulting Inc.', 'Maplesoft Consulting Inc.', 'Maplesoft Consulting Inc.', 'Maplesoft Consulting Inc.', 'Maplesoft Consulting Inc.', 'Maplesoft Technology Inc.', 'Marcomm Fibre Optics Inc.', 'Marcomm Fibre Optics Inc.', 'Marcomm Fibre Optics Inc.', 'Marcomm Fibre Optics Ltd.', 'Marcomm Inc.', 'Marcomm Inc.', 'Marois Electrique (1980) Ltd.', 'Maxys Staffing & Consulting', 'McDonald Bros. Construction Inc.', 'McDonald Bros. Construction Inc.', 'Metaphrase Inc.', 'MHPM Project Managers Inc.', 'Motorola Canada Limited', 'Motorola Canada Ltd.', 'Motorola Canada Ltd.  ', 'Motorola Solutions Canada Inc.', 'MultiCorpora R&D Inc.', 'MultiCorpora R&D Inc.', 'NavPoint Consulting Group Inc.', 'Neptec Design Group Ltd.', 'NORR Ltd.', 'NORR Ltd.', 'Nortrax Canada Inc.', 'Numech Inc.', 'Oracle Corporation Canada Inc.', 'Otis Canada Inc.', 'Otis Canada Inc.', 'Otis Canada Inc.', 'Otis Canada Inc.', 'Ottawa Horticultural Services Inc.', 'Peter J. Kindree Architect', 'Pitney Bowes of Canada Ltd.', 'Preston Phipps Inc.', 'PricewaterhousCoopers LLP', 'PricewaterhouseCoopers LLP', 'PricewaterhouseCoopers LLP', 'Printers Plus', 'Project X Productions Inc.', 'Projects X Productions Inc.', 'Promaxis Systems Inc.', 'Promaxis Systems Inc.', 'PwC Management Services LP', 'QMR Staffing Solutions Inc.', 'Realit Management Inc.', 'Regional Elevator', 'Regional Elevator', 'Rexel Canada Electrical Inc.', 'Rockwell Collins Government Systems (Canada) Inc.', 'Rohde & Schwarz Canada Inc.', 'Rohde & Schwarz Canada Inc.', 'S.i. Systems Inc.', 'S.M.I. Support Measures Inc.', 'Safenet Canada Inc.', 'Safenet Canada Inc.', 'Samson & Associates', 'Samson & Associates', 'Seprotech Systems Inc.']\",\n",
      "    \"['05 - 08', '04 - 08', '06 - 09', '05 - 08', '06 - 08', '06 - 08', '06 - 08', '04 - 08', '05 - 08', '05 - 08', '05 - 08', '05 - 08']\",\n",
      "    \"['Cerulean Cave (1f)', 'Route 14', 'Route 15']\",\n",
      "    \"['libyaml', 'pyyaml', 'libyaml', 'pyyaml', 'pyyaml', 'pysyck', 'pyyaml', 'pyyaml', 'pyyaml', 'pyyaml', 'pyyaml', 'pysyck', 'pyyaml', 'pyyaml', 'pysyck', 'pysyck', 'pysyck', 'libyaml', 'pyyaml-legacy', 'libyaml', 'pyyaml-legacy', 'pyyaml', 'pyyaml-legacy', 'libyaml', 'pyyaml-legacy', 'pyyaml', 'pyyaml-legacy', 'pyyaml', 'pyyaml', 'pyyaml', 'pyyaml-legacy', 'pyyaml', 'pyyaml', 'libyaml', 'pyyaml', 'pyyaml', 'pyyaml', 'pyyaml', 'libyaml', 'pyyaml', 'pyyaml', 'pyyaml', 'pyyaml-legacy', 'pyyaml', 'pyyaml', 'pyyaml', 'pyyaml-legacy', 'pyyaml', 'pyyaml', 'pyyaml', 'pyyaml', 'pyyaml', 'pyyaml', 'libyaml', 'libyaml', 'pyyaml-legacy', 'pyyaml', 'pyyaml', 'pysyck', 'pyyaml', 'pyyaml', 'pyyaml', 'pyyaml-legacy', 'pyyaml', 'pyyaml', 'pyyaml-legacy', 'pyyaml', 'pyyaml', 'pyyaml', 'pyyaml', 'pyyaml', 'pyyaml', 'pyyaml', 'pyyaml', 'pyyaml-legacy', 'libyaml', 'pyyaml', 'pyyaml-legacy', 'pyyaml', 'libyaml', 'pyyaml', 'libyaml', 'libyaml', 'pyyaml', 'pyyaml', 'pyyaml-legacy', 'pyyaml', 'pyyaml', 'libyaml', 'pyyaml', 'pyyaml', 'libyaml', 'pyyaml-legacy', 'pyyaml', 'libyaml', 'pyyaml', 'pyyaml', 'pyyaml', 'pyyaml-legacy', 'libyaml']\",\n",
      "    \"['Citiwest Consulting Ltd', 'Hunter Laird Engineering', None, None, None, 'Vanbros Investments BC Inc', 'Citiwest Consulting Ltd', 'Remax Colonial Pacific Realty', None, 'Aplin & Martin Consulting Ltd', 'Aplin & Martin Consulting Ltd', 'Citiwest Consulting Ltd', 'Mainland Engineering 2007 Corp', 'Gerry Blonski Architect', 'Aplin & Martin Consulting Ltd', None, 'H.Y. Engineering Ltd', 'True North Mangement', 'Lark Group', 'Hunter Laird Engineering', 'Pacific Land Group', 'MMM Group Limited', 'WG Architecture Inc', 'Barnett Dembek Architects Inc', 'Citiwest Consulting Ltd', 'Hunter Laird Engineering', \"Potter's Farm & Nursery Inc\", 'PJ Lovick Architect Ltd', 'Matthew Cheng Architect Inc', 'Coastland Engineering & Surveyor', 'Coastland Engineering & Surveyor', 'H.Y. Engineering Ltd', 'H.Y. Engineering Ltd', 'Dawson and Sawyer Lands Ltd', 'Dawson and Sawyer Lands Ltd', 'McElhanney Consulting Services Ltd', 'not disclosed', 'not disclosed', 'CTA Design Group, Architecture & Engineering', 'Royal Pacific Realty', 'Krahn Engineering Ltd', 'Coastland Engineering & Surveyor', 'Dawson and Sawyer Lands Ltd', 'Royal Pacific Realty', 'Douglas R. Johnson Architect Ltd', 'McElhanney Consulting Services Ltd', 'Permit World Inc', 'United Awning & Signs', 'United Awning & Signs', 'Citiwest Consulting Ltd', 'Sanford Design Group', 'Barnett Dembek Architects Inc', 'Barnett Dembek Architects Inc', 'McElhanney Consulting Services Ltd', 'Citiwest Consulting Ltd', 'Morgan Crossing Properties Ltd.', 'WG Architecture Inc', 'WG Architecture Inc', 'WG Architecture Inc', 'Haven Properties Ltd', 'Haven Properties Ltd', 'Hunter Laird Engineering', 'Hunter Laird Engineering', 'Bing Thom Architects', 'Beedie Development Group', 'H.Y. Engineering Ltd', 'Coastland Engineering & Surveyor', 'H.Y. Engineering Ltd', 'H.Y. Engineering Ltd', 'H.Y. Engineering Ltd', None, 'Mainland Engineering (2007) Corp', 'McElhanney Consulting Services Ltd', 'H.Y. Engineering Ltd', None, 'Santosh Holding Ltd', 'PJ Lovick Architect Ltd', 'International Neon', 'Mainland Engineering (2007) Corp', 'Coastland Engineering & Surveying Ltd', 'Coastland Engineering & Surveying Ltd', 'Gerry Blonski Architect', 'Gerry Blonski Architect', 'Hub Engineering Inc', 'Smith Construction & Associates', 'Gradual Architecture Inc', 'RCMP', 'Barnett Dembek Architects Inc', 'CitiWest Consulting Ltd', 'Hunter Laird Engineering Ltd', None, 'Hunter Laird Engineering Ltd', 'RKTG Associates Ltd', 'Hunter Laird Engineering Ltd', 'H.Y. Engineering Ltd', 'Mainland Engineering (2007) Corp', 'Cotter Architects Inc', 'Hub Engineering Inc', 'Mainland Engineering (2007) Corp', 'Hub Engineering Inc', None, 'Creekside Architects', 'Priority Permits Ltd', None, 'Hunter Laird Engineering Ltd', 'Lion Rock Developments', 'Hunter Laird Engineering Ltd', 'Ashburn Construction Ltd', 'McElhanney Consulting Services Ltd', 'Hub Engineering Inc', None, 'Hunter Laird Engineering', 'WG Architecture Inc.', None, None, 'Barnett Dembek Architect Inc.', 'Architect', 'CitiWest Consulting Ltd.', 'Legendary Developments Ltd.', 'Hub Engineering Inc', 'Retirement Concepts Development', 'Bomar Investments Corp.', 'Berezan Management Ltd.', 'CitiWest Consulting Ltd.', 'Coastland Engineering & Surveying', 'Aplin & Martin Consultants Ltd.', 'Hunter Laird Engineering', 'Hunter Laird Engineering', 'WG Architecture Inc.', 'Gerry Blonski Architect', 'RSNRAI Enterprises', 'Adera Development', 'McElhanney Consulting Services Ltd', 'Brian G. Hart & Company', 'Sanderson Planning Ltd.', 'CitiWest Consulting Ltd.', 'Pacific Land Group', 'CitiWest Consulting Ltd.', 'H.Y. Engineering Ltd.', 'Creekside Architects', 'Hywel Jones Architect Limited', 'McElhanney Consulting Services Ltd', 'McElhanney Consulting Services Ltd', 'Mainland Engineering (2007) Corp.', 'Barnett Dembek Architect Inc.', 'Hunter Laird Engineering', 'Coastland Engineering & Surveying', 'Pacific Land Resource Group Inc.', 'HOST Consulting Ltd.', 'Hub Engineering Inc', 'Dawson & Sawyer Lands Ltd.', 'Hub Engineering Inc', 'Mainland Engineering (2007) Corp.', 'Hunter Laird Engineering', 'CitiWest Consulting Ltd.', 'Gordon MacKenzie Architect Inc.', 'Stanley Paulus Architect Inc.', 'James MacIntyre', 'Aplin & Martin Consultants Ltd.', 'James Bradley Consulting Inc.', 'Hunter Laird Engineering', 'MPB Construction Ltd.', 'Site Lines Architecture Inc.', 'Lark Group', 'CitiWest Consulting Ltd.', 'Not Disclosed', 'DTS Architecture', 'Gustavson Wylie Architects Inc.', 'Not Disclosed', 'Pacific Land Group', 'Cotter Architects', 'CitiWest Consulting Ltd.', 'CitiWest Consulting Ltd.', 'Sardara Boyal', 'Bingham Hill Architects', 'Chris Pifeakos Architects Inc.', 'McElhanney Consulting Services', 'JM Architecture', 'PCI Developments Corp', 'PCI Developments Corp', 'William H. F. Christie Architect', 'Taurus Commercial Real Estate Ltd', 'D F Architecture Inc', 'Dembek Architects Inc', 'Focus Architecture Inc', 'Mainland Engineering', 'Coastland Engineering & Survey Ltd', 'Citiwest Consulting Ltd', 'Pacific Land Resource Group Inc', 'Citiwest Consulting Ltd', 'Citiwest Consulting Ltd', 'Hunter Laird Engineering']\",\n",
      "    \"['Various', 'Adams and Brooks', \"Atkinson's Candy\", 'Necco']\",\n",
      "    ...\n",
      "    \"['Weekday', 'Weekend', 'Afternoon Pass', '2-day pass', '6-day pass']\",\n",
      "    \"[982.0, 0.0, 0.0]\",\n",
      "    \"['GS 206', 'SCI TECH 313', 'GS 206', 'GS 208', 'GS 206']\",\n",
      "    \"['C', 'C', 'N', 'S', 'S', 'C', 'N', 'C', 'C', 'N', 'N', 'N', 'N', 'C', 'C', 'S', 'C', 'N', 'S', 'N', 'S', 'S', 'C']\",\n",
      "    \"[1, 2, 3, 4, 5, 6, 8, 9, 10, 11, 12, 13, 14, 15, 16, 17, 18, 19, 20, 21, 22, 23, 24, 25]\",\n",
      "    \"['Madagascar', 'Malawi', 'Gambia, The', 'Brazil', 'Ghana', 'Sao Tome and Principe', 'Argentina', 'Laos', 'Kyrgyzstan', 'Guinea', 'Zimbabwe', 'Tajikistan', 'Uganda', 'Yemen', 'Belarus', 'Sierra Leone', 'Paraguay', 'Mongolia', 'Ukraine', 'Mauritania', 'Azerbaijan', 'Honduras', 'Venezuela', 'Tanzania', 'Congo, Democratic Republic of the', 'Jamaica', 'Rwanda', 'Syria', 'Nigeria', 'Kenya', 'Armenia', 'Peru', 'Uruguay', 'Chad', 'Costa Rica', 'Mozambique', 'Angola', 'Afghanistan', 'Guinea-Bissau', 'Gabon', 'Equatorial Guinea', 'Burundi', 'Central African Republic', 'Nicaragua', 'Congo, Republic of the', 'Serbia', 'Micronesia, Federated States of', 'Zambia', 'Bhutan', 'Liberia', 'Cameroon', 'Dominican Republic', 'Guatemala', 'Turkey', 'Senegal', 'Guyana', 'Seychelles', 'Bangladesh', 'Burma', 'Kosovo', 'Timor-Leste', 'Cambodia', 'Georgia', 'Suriname', 'Uzbekistan', 'Indonesia', 'Moldova', 'Belize', 'Egypt', 'Sri Lanka', 'Russia', 'Iran', 'Ethiopia', 'Solomon Islands', 'Nepal', 'Colombia', 'Cabo Verde', 'Comoros', 'Djibouti', 'Maldives', 'India', 'Lesotho', 'Samoa', 'Papua New Guinea', 'Antigua and Barbuda', 'Pakistan', 'Bolivia', 'Montenegro', 'Grenada', 'Vietnam', 'Spain', 'Saint Vincent and the Grenadines', 'Tonga', 'Mali', 'South Africa', 'Dominica', 'Saint Lucia', 'Saint Kitts and Nevis', 'Namibia', 'Barbados', 'Botswana', 'Anguilla', 'Swaziland', 'Jordan', 'Mauritius', 'Albania', 'Haiti', 'Ecuador', 'Romania', 'Croatia', 'Bulgaria', 'Aruba', 'Iceland', 'Macedonia', 'Chile', 'Montserrat', 'Algeria', 'Trinidad and Tobago', 'West Bank', 'Tunisia', 'Lebanon', 'Kazakhstan', 'Bosnia and Herzegovina', 'Thailand', 'Bahrain', 'Saudi Arabia', 'Panama', 'Greece', 'Poland', 'Cyprus', 'New Zealand', 'China', 'Latvia', 'Australia', 'Iraq', 'El Salvador', 'Morocco', 'San Marino', 'European Union', 'Philippines', 'Fiji', 'Libya', 'Bahamas, The', 'Brunei', 'Portugal', 'Vanuatu', 'Oman', 'Singapore', 'Macau', 'Lithuania', 'Slovenia', 'Estonia', 'Italy', 'Hong Kong', 'Kuwait', 'Hungary', 'Czech Republic', 'Qatar', 'Korea, South', 'Malaysia', 'United Kingdom', 'Mexico', 'Malta', 'Denmark', \"Cote d'Ivoire\", 'Niger', 'Belgium', 'United States', 'Ireland', 'Israel', 'Puerto Rico', 'Slovakia', 'Canada', 'Taiwan', 'Sweden', 'France', 'Switzerland', 'Germany', 'Norway', 'Netherlands', 'Austria', 'Finland', 'Japan']\",\n",
      "    \"['--', 'W 65-3', 'W 52-15', 'W 45-23', 'W 41-18', 'W 45-21', 'L 21-36', '--', '--']\",\n",
      "    \"['Canada', 'France', 'Germany', 'Japan', 'UK', 'USA', 'EC', 'Total', None, 'Spreadsheet title', 'Source', 'Note']\",\n",
      "    \"['Delaware', 'District of Columbia', 'Hawaii', 'Illinois', 'Iowa', 'Maryland', 'Massachussettes', 'Minnesota', 'Montana', 'New York', 'Ohio', 'Rhode Island', 'Washington', 'Nebraska', 'Oregon', 'Michigan', 'Wisconsin']\",\n",
      "    \"['Taylor Marable', 'Rebecca Parks', 'Sarah Hoffman']\"\n",
      "  ]\n",
      "]\n"
     ]
    },
    {
     "name": "stdout",
     "output_type": "stream",
     "text": [
      "None\n"
     ]
    },
    {
     "ename": "Error",
     "evalue": "iterable expected, not NoneType",
     "output_type": "error",
     "traceback": [
      "\u001b[0;31m---------------------------------------------------------------------------\u001b[0m",
      "\u001b[0;31mError\u001b[0m                                     Traceback (most recent call last)",
      "\u001b[0;32m<ipython-input-15-22831b92841a>\u001b[0m in \u001b[0;36m<module>\u001b[0;34m\u001b[0m\n\u001b[1;32m      1\u001b[0m \u001b[0mvalues\u001b[0m \u001b[0;34m=\u001b[0m \u001b[0mload_parquet_values\u001b[0m\u001b[0;34m(\u001b[0m\u001b[0;34m\"../data/data/raw/test_values.parquet\"\u001b[0m\u001b[0;34m)\u001b[0m\u001b[0;34m\u001b[0m\u001b[0;34m\u001b[0m\u001b[0m\n\u001b[1;32m      2\u001b[0m \u001b[0;34m\u001b[0m\u001b[0m\n\u001b[0;32m----> 3\u001b[0;31m \u001b[0mextract_features_to_csv\u001b[0m\u001b[0;34m(\u001b[0m\u001b[0;34m\"../data/data/processed/temporary.csv\"\u001b[0m\u001b[0;34m,\u001b[0m \u001b[0mvalues\u001b[0m\u001b[0;34m)\u001b[0m\u001b[0;34m\u001b[0m\u001b[0;34m\u001b[0m\u001b[0m\n\u001b[0m\u001b[1;32m      4\u001b[0m \u001b[0;34m\u001b[0m\u001b[0m\n\u001b[1;32m      5\u001b[0m \u001b[0mvalues\u001b[0m \u001b[0;34m=\u001b[0m \u001b[0;32mNone\u001b[0m\u001b[0;34m\u001b[0m\u001b[0;34m\u001b[0m\u001b[0m\n",
      "\u001b[0;32m~/Documents/PhD/Sherlock/sherlock-project/sherlock/functional.py\u001b[0m in \u001b[0;36mextract_features_to_csv\u001b[0;34m(output_path, parquet_values)\u001b[0m\n\u001b[1;32m    153\u001b[0m                 \u001b[0mfirst_keys\u001b[0m \u001b[0;34m=\u001b[0m \u001b[0mkeys\u001b[0m\u001b[0;34m\u001b[0m\u001b[0;34m\u001b[0m\u001b[0m\n\u001b[1;32m    154\u001b[0m                 \u001b[0mprint\u001b[0m\u001b[0;34m(\u001b[0m\u001b[0mkeys\u001b[0m\u001b[0;34m)\u001b[0m\u001b[0;34m\u001b[0m\u001b[0;34m\u001b[0m\u001b[0m\n\u001b[0;32m--> 155\u001b[0;31m                 \u001b[0mfirst_keys_str\u001b[0m \u001b[0;34m=\u001b[0m \u001b[0mkeys_to_csv\u001b[0m\u001b[0;34m(\u001b[0m\u001b[0mkeys\u001b[0m\u001b[0;34m)\u001b[0m\u001b[0;34m\u001b[0m\u001b[0;34m\u001b[0m\u001b[0m\n\u001b[0m\u001b[1;32m    156\u001b[0m \u001b[0;34m\u001b[0m\u001b[0m\n\u001b[1;32m    157\u001b[0m                 \u001b[0mprint\u001b[0m\u001b[0;34m(\u001b[0m\u001b[0;34mf\"Exporting {len(first_keys)} column features\"\u001b[0m\u001b[0;34m)\u001b[0m\u001b[0;34m\u001b[0m\u001b[0;34m\u001b[0m\u001b[0m\n",
      "\u001b[0;32m~/Documents/PhD/Sherlock/sherlock-project/sherlock/functional.py\u001b[0m in \u001b[0;36mkeys_to_csv\u001b[0;34m(keys)\u001b[0m\n\u001b[1;32m     99\u001b[0m     \u001b[0;32mwith\u001b[0m \u001b[0mio\u001b[0m\u001b[0;34m.\u001b[0m\u001b[0mStringIO\u001b[0m\u001b[0;34m(\u001b[0m\u001b[0;34m)\u001b[0m \u001b[0;32mas\u001b[0m \u001b[0moutput\u001b[0m\u001b[0;34m:\u001b[0m\u001b[0;34m\u001b[0m\u001b[0;34m\u001b[0m\u001b[0m\n\u001b[1;32m    100\u001b[0m         \u001b[0mwriter\u001b[0m \u001b[0;34m=\u001b[0m \u001b[0mcsv\u001b[0m\u001b[0;34m.\u001b[0m\u001b[0mwriter\u001b[0m\u001b[0;34m(\u001b[0m\u001b[0moutput\u001b[0m\u001b[0;34m,\u001b[0m \u001b[0mquoting\u001b[0m\u001b[0;34m=\u001b[0m\u001b[0mcsv\u001b[0m\u001b[0;34m.\u001b[0m\u001b[0mQUOTE_NONNUMERIC\u001b[0m\u001b[0;34m)\u001b[0m\u001b[0;34m\u001b[0m\u001b[0;34m\u001b[0m\u001b[0m\n\u001b[0;32m--> 101\u001b[0;31m         \u001b[0mwriter\u001b[0m\u001b[0;34m.\u001b[0m\u001b[0mwriterow\u001b[0m\u001b[0;34m(\u001b[0m\u001b[0mkeys\u001b[0m\u001b[0;34m)\u001b[0m\u001b[0;34m\u001b[0m\u001b[0;34m\u001b[0m\u001b[0m\n\u001b[0m\u001b[1;32m    102\u001b[0m \u001b[0;34m\u001b[0m\u001b[0m\n\u001b[1;32m    103\u001b[0m         \u001b[0;32mreturn\u001b[0m \u001b[0moutput\u001b[0m\u001b[0;34m.\u001b[0m\u001b[0mgetvalue\u001b[0m\u001b[0;34m(\u001b[0m\u001b[0;34m)\u001b[0m\u001b[0;34m\u001b[0m\u001b[0;34m\u001b[0m\u001b[0m\n",
      "\u001b[0;31mError\u001b[0m: iterable expected, not NoneType"
     ]
    }
   ],
   "source": [
    "values = load_parquet_values(\"../data/data/raw/test_values.parquet\")\n",
    "\n",
    "extract_features_to_csv(\"../data/data/processed/temporary.csv\", values)\n",
    "\n",
    "values = None"
   ]
  },
  {
   "cell_type": "code",
   "execution_count": 30,
   "id": "70a9f494",
   "metadata": {},
   "outputs": [],
   "source": [
    "feature_vector = pd.read_csv(\"../data/data/processed/temporary.csv\")"
   ]
  },
  {
   "cell_type": "markdown",
   "id": "209a444d",
   "metadata": {},
   "source": [
    "Problem 2: extracting features to a csv file does not work in this notebook, while it works in 01-data-processing (see below). This seems odd as the environment is the same, the data is the same, imports and preprocessing steps are the same."
   ]
  },
  {
   "cell_type": "code",
   "execution_count": null,
   "id": "83ef0acf",
   "metadata": {},
   "outputs": [],
   "source": []
  },
  {
   "cell_type": "markdown",
   "id": "9027fa4a",
   "metadata": {},
   "source": [
    "## Initialize Sherlock."
   ]
  },
  {
   "cell_type": "code",
   "execution_count": 27,
   "id": "b9ec13ec",
   "metadata": {},
   "outputs": [],
   "source": [
    "model = SherlockModel()\n",
    "model.initialize_model_from_json(with_weights=True);"
   ]
  },
  {
   "cell_type": "code",
   "execution_count": null,
   "id": "5551878e",
   "metadata": {},
   "outputs": [],
   "source": []
  },
  {
   "cell_type": "markdown",
   "id": "8a1ab955",
   "metadata": {},
   "source": [
    "## Predict semantic type for column\n",
    "\n",
    "\n",
    "TODO: there is a problem with the featurization with `extract_features`.\n",
    "\n",
    "Will be completed soon."
   ]
  },
  {
   "cell_type": "code",
   "execution_count": 30,
   "id": "fc079fa9",
   "metadata": {},
   "outputs": [
    {
     "ename": "KeyError",
     "evalue": "\"['n_[,]-agg-all', 'n_[,]-agg-median', 'n_[,]-agg-max', 'n_[,]-agg-sum', 'n_[,]-agg-any', 'n_[,]-agg-mean', 'n_[,]-agg-kurtosis', 'n_[,]-agg-skewness', 'n_[,]-agg-min', 'n_[,]-agg-var'] not in index\"",
     "output_type": "error",
     "traceback": [
      "\u001b[0;31m---------------------------------------------------------------------------\u001b[0m",
      "\u001b[0;31mKeyError\u001b[0m                                  Traceback (most recent call last)",
      "\u001b[0;32m<ipython-input-30-13f3a2076bff>\u001b[0m in \u001b[0;36m<module>\u001b[0;34m\u001b[0m\n\u001b[0;32m----> 1\u001b[0;31m \u001b[0mpredicted_labels\u001b[0m \u001b[0;34m=\u001b[0m \u001b[0mmodel\u001b[0m\u001b[0;34m.\u001b[0m\u001b[0mpredict\u001b[0m\u001b[0;34m(\u001b[0m\u001b[0mfeature_vector\u001b[0m\u001b[0;34m,\u001b[0m \u001b[0;34m\"sherlock\"\u001b[0m\u001b[0;34m)\u001b[0m\u001b[0;34m\u001b[0m\u001b[0;34m\u001b[0m\u001b[0m\n\u001b[0m",
      "\u001b[0;32m~/Documents/PhD/Sherlock/sherlock-project/sherlock/deploy/model.py\u001b[0m in \u001b[0;36mpredict\u001b[0;34m(self, X, model_id)\u001b[0m\n\u001b[1;32m    129\u001b[0m         \u001b[0mArray\u001b[0m \u001b[0;32mwith\u001b[0m \u001b[0mpredictions\u001b[0m \u001b[0;32mfor\u001b[0m \u001b[0mX\u001b[0m\u001b[0;34m.\u001b[0m\u001b[0;34m\u001b[0m\u001b[0;34m\u001b[0m\u001b[0m\n\u001b[1;32m    130\u001b[0m         \"\"\"\n\u001b[0;32m--> 131\u001b[0;31m         \u001b[0my_pred\u001b[0m \u001b[0;34m=\u001b[0m \u001b[0mself\u001b[0m\u001b[0;34m.\u001b[0m\u001b[0mpredict_proba\u001b[0m\u001b[0;34m(\u001b[0m\u001b[0mX\u001b[0m\u001b[0;34m,\u001b[0m \u001b[0mmodel_id\u001b[0m\u001b[0;34m)\u001b[0m\u001b[0;34m\u001b[0m\u001b[0;34m\u001b[0m\u001b[0m\n\u001b[0m\u001b[1;32m    132\u001b[0m         \u001b[0my_pred_classes\u001b[0m \u001b[0;34m=\u001b[0m \u001b[0mhelpers\u001b[0m\u001b[0;34m.\u001b[0m\u001b[0m_proba_to_classes\u001b[0m\u001b[0;34m(\u001b[0m\u001b[0my_pred\u001b[0m\u001b[0;34m,\u001b[0m \u001b[0mmodel_id\u001b[0m\u001b[0;34m)\u001b[0m\u001b[0;34m\u001b[0m\u001b[0;34m\u001b[0m\u001b[0m\n\u001b[1;32m    133\u001b[0m \u001b[0;34m\u001b[0m\u001b[0m\n",
      "\u001b[0;32m~/Documents/PhD/Sherlock/sherlock-project/sherlock/deploy/model.py\u001b[0m in \u001b[0;36mpredict_proba\u001b[0;34m(self, X, model_id)\u001b[0m\n\u001b[1;32m    153\u001b[0m         y_pred = self.model.predict(\n\u001b[1;32m    154\u001b[0m             [\n\u001b[0;32m--> 155\u001b[0;31m                 \u001b[0mX\u001b[0m\u001b[0;34m[\u001b[0m\u001b[0mfeature_cols_dict\u001b[0m\u001b[0;34m[\u001b[0m\u001b[0;34m'char'\u001b[0m\u001b[0;34m]\u001b[0m\u001b[0;34m]\u001b[0m\u001b[0;34m.\u001b[0m\u001b[0mvalues\u001b[0m\u001b[0;34m,\u001b[0m\u001b[0;34m\u001b[0m\u001b[0;34m\u001b[0m\u001b[0m\n\u001b[0m\u001b[1;32m    156\u001b[0m                 \u001b[0mX\u001b[0m\u001b[0;34m[\u001b[0m\u001b[0mfeature_cols_dict\u001b[0m\u001b[0;34m[\u001b[0m\u001b[0;34m'word'\u001b[0m\u001b[0;34m]\u001b[0m\u001b[0;34m]\u001b[0m\u001b[0;34m.\u001b[0m\u001b[0mvalues\u001b[0m\u001b[0;34m,\u001b[0m\u001b[0;34m\u001b[0m\u001b[0;34m\u001b[0m\u001b[0m\n\u001b[1;32m    157\u001b[0m                 \u001b[0mX\u001b[0m\u001b[0;34m[\u001b[0m\u001b[0mfeature_cols_dict\u001b[0m\u001b[0;34m[\u001b[0m\u001b[0;34m'par'\u001b[0m\u001b[0;34m]\u001b[0m\u001b[0;34m]\u001b[0m\u001b[0;34m.\u001b[0m\u001b[0mvalues\u001b[0m\u001b[0;34m,\u001b[0m\u001b[0;34m\u001b[0m\u001b[0;34m\u001b[0m\u001b[0m\n",
      "\u001b[0;32m~/miniconda3/envs/sherlock-project/lib/python3.6/site-packages/pandas/core/frame.py\u001b[0m in \u001b[0;36m__getitem__\u001b[0;34m(self, key)\u001b[0m\n\u001b[1;32m   2932\u001b[0m                 \u001b[0mkey\u001b[0m \u001b[0;34m=\u001b[0m \u001b[0mlist\u001b[0m\u001b[0;34m(\u001b[0m\u001b[0mkey\u001b[0m\u001b[0;34m)\u001b[0m\u001b[0;34m\u001b[0m\u001b[0;34m\u001b[0m\u001b[0m\n\u001b[1;32m   2933\u001b[0m             indexer = self.loc._convert_to_indexer(key, axis=1,\n\u001b[0;32m-> 2934\u001b[0;31m                                                    raise_missing=True)\n\u001b[0m\u001b[1;32m   2935\u001b[0m \u001b[0;34m\u001b[0m\u001b[0m\n\u001b[1;32m   2936\u001b[0m         \u001b[0;31m# take() does not accept boolean indexers\u001b[0m\u001b[0;34m\u001b[0m\u001b[0;34m\u001b[0m\u001b[0;34m\u001b[0m\u001b[0m\n",
      "\u001b[0;32m~/miniconda3/envs/sherlock-project/lib/python3.6/site-packages/pandas/core/indexing.py\u001b[0m in \u001b[0;36m_convert_to_indexer\u001b[0;34m(self, obj, axis, is_setter, raise_missing)\u001b[0m\n\u001b[1;32m   1352\u001b[0m                 kwargs = {'raise_missing': True if is_setter else\n\u001b[1;32m   1353\u001b[0m                           raise_missing}\n\u001b[0;32m-> 1354\u001b[0;31m                 \u001b[0;32mreturn\u001b[0m \u001b[0mself\u001b[0m\u001b[0;34m.\u001b[0m\u001b[0m_get_listlike_indexer\u001b[0m\u001b[0;34m(\u001b[0m\u001b[0mobj\u001b[0m\u001b[0;34m,\u001b[0m \u001b[0maxis\u001b[0m\u001b[0;34m,\u001b[0m \u001b[0;34m**\u001b[0m\u001b[0mkwargs\u001b[0m\u001b[0;34m)\u001b[0m\u001b[0;34m[\u001b[0m\u001b[0;36m1\u001b[0m\u001b[0;34m]\u001b[0m\u001b[0;34m\u001b[0m\u001b[0;34m\u001b[0m\u001b[0m\n\u001b[0m\u001b[1;32m   1355\u001b[0m         \u001b[0;32melse\u001b[0m\u001b[0;34m:\u001b[0m\u001b[0;34m\u001b[0m\u001b[0;34m\u001b[0m\u001b[0m\n\u001b[1;32m   1356\u001b[0m             \u001b[0;32mtry\u001b[0m\u001b[0;34m:\u001b[0m\u001b[0;34m\u001b[0m\u001b[0;34m\u001b[0m\u001b[0m\n",
      "\u001b[0;32m~/miniconda3/envs/sherlock-project/lib/python3.6/site-packages/pandas/core/indexing.py\u001b[0m in \u001b[0;36m_get_listlike_indexer\u001b[0;34m(self, key, axis, raise_missing)\u001b[0m\n\u001b[1;32m   1159\u001b[0m         self._validate_read_indexer(keyarr, indexer,\n\u001b[1;32m   1160\u001b[0m                                     \u001b[0mo\u001b[0m\u001b[0;34m.\u001b[0m\u001b[0m_get_axis_number\u001b[0m\u001b[0;34m(\u001b[0m\u001b[0maxis\u001b[0m\u001b[0;34m)\u001b[0m\u001b[0;34m,\u001b[0m\u001b[0;34m\u001b[0m\u001b[0;34m\u001b[0m\u001b[0m\n\u001b[0;32m-> 1161\u001b[0;31m                                     raise_missing=raise_missing)\n\u001b[0m\u001b[1;32m   1162\u001b[0m         \u001b[0;32mreturn\u001b[0m \u001b[0mkeyarr\u001b[0m\u001b[0;34m,\u001b[0m \u001b[0mindexer\u001b[0m\u001b[0;34m\u001b[0m\u001b[0;34m\u001b[0m\u001b[0m\n\u001b[1;32m   1163\u001b[0m \u001b[0;34m\u001b[0m\u001b[0m\n",
      "\u001b[0;32m~/miniconda3/envs/sherlock-project/lib/python3.6/site-packages/pandas/core/indexing.py\u001b[0m in \u001b[0;36m_validate_read_indexer\u001b[0;34m(self, key, indexer, axis, raise_missing)\u001b[0m\n\u001b[1;32m   1250\u001b[0m             \u001b[0;32mif\u001b[0m \u001b[0;32mnot\u001b[0m\u001b[0;34m(\u001b[0m\u001b[0mself\u001b[0m\u001b[0;34m.\u001b[0m\u001b[0mname\u001b[0m \u001b[0;34m==\u001b[0m \u001b[0;34m'loc'\u001b[0m \u001b[0;32mand\u001b[0m \u001b[0;32mnot\u001b[0m \u001b[0mraise_missing\u001b[0m\u001b[0;34m)\u001b[0m\u001b[0;34m:\u001b[0m\u001b[0;34m\u001b[0m\u001b[0;34m\u001b[0m\u001b[0m\n\u001b[1;32m   1251\u001b[0m                 \u001b[0mnot_found\u001b[0m \u001b[0;34m=\u001b[0m \u001b[0mlist\u001b[0m\u001b[0;34m(\u001b[0m\u001b[0mset\u001b[0m\u001b[0;34m(\u001b[0m\u001b[0mkey\u001b[0m\u001b[0;34m)\u001b[0m \u001b[0;34m-\u001b[0m \u001b[0mset\u001b[0m\u001b[0;34m(\u001b[0m\u001b[0max\u001b[0m\u001b[0;34m)\u001b[0m\u001b[0;34m)\u001b[0m\u001b[0;34m\u001b[0m\u001b[0;34m\u001b[0m\u001b[0m\n\u001b[0;32m-> 1252\u001b[0;31m                 \u001b[0;32mraise\u001b[0m \u001b[0mKeyError\u001b[0m\u001b[0;34m(\u001b[0m\u001b[0;34m\"{} not in index\"\u001b[0m\u001b[0;34m.\u001b[0m\u001b[0mformat\u001b[0m\u001b[0;34m(\u001b[0m\u001b[0mnot_found\u001b[0m\u001b[0;34m)\u001b[0m\u001b[0;34m)\u001b[0m\u001b[0;34m\u001b[0m\u001b[0;34m\u001b[0m\u001b[0m\n\u001b[0m\u001b[1;32m   1253\u001b[0m \u001b[0;34m\u001b[0m\u001b[0m\n\u001b[1;32m   1254\u001b[0m             \u001b[0;31m# we skip the warning on Categorical/Interval\u001b[0m\u001b[0;34m\u001b[0m\u001b[0;34m\u001b[0m\u001b[0;34m\u001b[0m\u001b[0m\n",
      "\u001b[0;31mKeyError\u001b[0m: \"['n_[,]-agg-all', 'n_[,]-agg-median', 'n_[,]-agg-max', 'n_[,]-agg-sum', 'n_[,]-agg-any', 'n_[,]-agg-mean', 'n_[,]-agg-kurtosis', 'n_[,]-agg-skewness', 'n_[,]-agg-min', 'n_[,]-agg-var'] not in index\""
     ]
    }
   ],
   "source": [
    "predicted_labels = model.predict(feature_vector, \"sherlock\")"
   ]
  },
  {
   "cell_type": "code",
   "execution_count": null,
   "id": "0feb9584",
   "metadata": {},
   "outputs": [],
   "source": []
  }
 ],
 "metadata": {
  "kernelspec": {
   "display_name": "Python 3",
   "language": "python",
   "name": "python3"
  },
  "language_info": {
   "codemirror_mode": {
    "name": "ipython",
    "version": 3
   },
   "file_extension": ".py",
   "mimetype": "text/x-python",
   "name": "python",
   "nbconvert_exporter": "python",
   "pygments_lexer": "ipython3",
   "version": "3.6.12"
  }
 },
 "nbformat": 4,
 "nbformat_minor": 5
}
